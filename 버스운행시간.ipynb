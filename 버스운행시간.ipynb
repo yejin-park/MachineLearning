{
  "nbformat": 4,
  "nbformat_minor": 0,
  "metadata": {
    "colab": {
      "name": "버스운행시간.ipynb",
      "provenance": [],
      "collapsed_sections": [],
      "mount_file_id": "19lkiN5EYu08nii_QyuYH9w6oIeCOXMlr",
      "authorship_tag": "ABX9TyNjVuccRzmKle0mPMnI1HIF",
      "include_colab_link": true
    },
    "kernelspec": {
      "name": "python3",
      "display_name": "Python 3"
    },
    "language_info": {
      "name": "python"
    }
  },
  "cells": [
    {
      "cell_type": "markdown",
      "metadata": {
        "id": "view-in-github",
        "colab_type": "text"
      },
      "source": [
        "<a href=\"https://colab.research.google.com/github/yejin-park/MachineLearning/blob/main/%EB%B2%84%EC%8A%A4%EC%9A%B4%ED%96%89%EC%8B%9C%EA%B0%84.ipynb\" target=\"_parent\"><img src=\"https://colab.research.google.com/assets/colab-badge.svg\" alt=\"Open In Colab\"/></a>"
      ]
    },
    {
      "cell_type": "markdown",
      "metadata": {
        "id": "mfugvAxCX26V"
      },
      "source": [
        "#버스 운행시간 데이터를 활용할 데이터 분석\n",
        "\n",
        "*   버스가 다음 정류장에 도착하기 위해서 걸릴 시간을 예측\n",
        "\n"
      ]
    },
    {
      "cell_type": "markdown",
      "metadata": {
        "id": "IihajaRJYYn7"
      },
      "source": [
        "#1. Library & Data\n",
        "\n",
        "> folium : 지리정보 시각화 패키지\n",
        "\n"
      ]
    },
    {
      "cell_type": "code",
      "metadata": {
        "id": "dPJO8vG6hzsT"
      },
      "source": [
        "import pandas as pd #판다스 패키지 불러오기\n",
        "import lightgbm as lgb\n",
        "import folium  # 지리정보 시각화 패키지"
      ],
      "execution_count": null,
      "outputs": []
    },
    {
      "cell_type": "code",
      "metadata": {
        "id": "YS0ZOxahiUlY"
      },
      "source": [
        "#데이터 불러오기\n",
        "train = pd.read_csv('/content/drive/MyDrive/Colab Notebooks/data/bus/train.csv')\n",
        "test = pd.read_csv('/content/drive/MyDrive/Colab Notebooks/data/bus/test.csv')\n",
        "submission = pd.read_csv('/content/drive/MyDrive/Colab Notebooks/data/bus/submission.csv')"
      ],
      "execution_count": 2,
      "outputs": []
    },
    {
      "cell_type": "markdown",
      "metadata": {
        "id": "XE-zwuFkjZms"
      },
      "source": [
        "#2. EDA"
      ]
    },
    {
      "cell_type": "code",
      "metadata": {
        "colab": {
          "base_uri": "https://localhost:8080/",
          "height": 325
        },
        "id": "ZtSDKXEbjXkg",
        "outputId": "1e6aa7db-4827-4fd2-981d-3dd21336e7e7"
      },
      "source": [
        "train.head()"
      ],
      "execution_count": 3,
      "outputs": [
        {
          "output_type": "execute_result",
          "data": {
            "text/html": [
              "<div>\n",
              "<style scoped>\n",
              "    .dataframe tbody tr th:only-of-type {\n",
              "        vertical-align: middle;\n",
              "    }\n",
              "\n",
              "    .dataframe tbody tr th {\n",
              "        vertical-align: top;\n",
              "    }\n",
              "\n",
              "    .dataframe thead th {\n",
              "        text-align: right;\n",
              "    }\n",
              "</style>\n",
              "<table border=\"1\" class=\"dataframe\">\n",
              "  <thead>\n",
              "    <tr style=\"text-align: right;\">\n",
              "      <th></th>\n",
              "      <th>id</th>\n",
              "      <th>date</th>\n",
              "      <th>route_id</th>\n",
              "      <th>vh_id</th>\n",
              "      <th>route_nm</th>\n",
              "      <th>now_latitude</th>\n",
              "      <th>now_longitude</th>\n",
              "      <th>now_station</th>\n",
              "      <th>now_arrive_time</th>\n",
              "      <th>distance</th>\n",
              "      <th>next_station</th>\n",
              "      <th>next_latitude</th>\n",
              "      <th>next_longitude</th>\n",
              "      <th>next_arrive_time</th>\n",
              "    </tr>\n",
              "  </thead>\n",
              "  <tbody>\n",
              "    <tr>\n",
              "      <th>0</th>\n",
              "      <td>0</td>\n",
              "      <td>2019-10-15</td>\n",
              "      <td>405136001</td>\n",
              "      <td>7997025</td>\n",
              "      <td>360-1</td>\n",
              "      <td>33.456267</td>\n",
              "      <td>126.551750</td>\n",
              "      <td>제주대학교입구</td>\n",
              "      <td>06시</td>\n",
              "      <td>266.0</td>\n",
              "      <td>제대마을</td>\n",
              "      <td>33.457724</td>\n",
              "      <td>126.554014</td>\n",
              "      <td>24</td>\n",
              "    </tr>\n",
              "    <tr>\n",
              "      <th>1</th>\n",
              "      <td>1</td>\n",
              "      <td>2019-10-15</td>\n",
              "      <td>405136001</td>\n",
              "      <td>7997025</td>\n",
              "      <td>360-1</td>\n",
              "      <td>33.457724</td>\n",
              "      <td>126.554014</td>\n",
              "      <td>제대마을</td>\n",
              "      <td>06시</td>\n",
              "      <td>333.0</td>\n",
              "      <td>제대아파트</td>\n",
              "      <td>33.458783</td>\n",
              "      <td>126.557353</td>\n",
              "      <td>36</td>\n",
              "    </tr>\n",
              "    <tr>\n",
              "      <th>2</th>\n",
              "      <td>2</td>\n",
              "      <td>2019-10-15</td>\n",
              "      <td>405136001</td>\n",
              "      <td>7997025</td>\n",
              "      <td>360-1</td>\n",
              "      <td>33.458783</td>\n",
              "      <td>126.557353</td>\n",
              "      <td>제대아파트</td>\n",
              "      <td>06시</td>\n",
              "      <td>415.0</td>\n",
              "      <td>제주대학교</td>\n",
              "      <td>33.459893</td>\n",
              "      <td>126.561624</td>\n",
              "      <td>40</td>\n",
              "    </tr>\n",
              "    <tr>\n",
              "      <th>3</th>\n",
              "      <td>3</td>\n",
              "      <td>2019-10-15</td>\n",
              "      <td>405136001</td>\n",
              "      <td>7997025</td>\n",
              "      <td>360-1</td>\n",
              "      <td>33.479705</td>\n",
              "      <td>126.543811</td>\n",
              "      <td>남국원(아라방면)</td>\n",
              "      <td>06시</td>\n",
              "      <td>578.0</td>\n",
              "      <td>제주여자중고등학교(아라방면)</td>\n",
              "      <td>33.484860</td>\n",
              "      <td>126.542928</td>\n",
              "      <td>42</td>\n",
              "    </tr>\n",
              "    <tr>\n",
              "      <th>4</th>\n",
              "      <td>4</td>\n",
              "      <td>2019-10-15</td>\n",
              "      <td>405136001</td>\n",
              "      <td>7997025</td>\n",
              "      <td>360-1</td>\n",
              "      <td>33.485662</td>\n",
              "      <td>126.494923</td>\n",
              "      <td>도호동</td>\n",
              "      <td>07시</td>\n",
              "      <td>374.0</td>\n",
              "      <td>은남동</td>\n",
              "      <td>33.485822</td>\n",
              "      <td>126.490897</td>\n",
              "      <td>64</td>\n",
              "    </tr>\n",
              "  </tbody>\n",
              "</table>\n",
              "</div>"
            ],
            "text/plain": [
              "   id        date   route_id  ...  next_latitude next_longitude  next_arrive_time\n",
              "0   0  2019-10-15  405136001  ...      33.457724     126.554014                24\n",
              "1   1  2019-10-15  405136001  ...      33.458783     126.557353                36\n",
              "2   2  2019-10-15  405136001  ...      33.459893     126.561624                40\n",
              "3   3  2019-10-15  405136001  ...      33.484860     126.542928                42\n",
              "4   4  2019-10-15  405136001  ...      33.485822     126.490897                64\n",
              "\n",
              "[5 rows x 14 columns]"
            ]
          },
          "metadata": {},
          "execution_count": 3
        }
      ]
    },
    {
      "cell_type": "markdown",
      "metadata": {
        "id": "Kk6mc8uwjzDM"
      },
      "source": [
        "\n",
        "*   route_id : 버스 노선 ID\n",
        "*   vh_id : 버스 ID\n",
        "*   route_nm : 버스 노선 실제 번호\n",
        "*   now_latitude / now_longitude : 현재 정류소의 위도 / 경도\n",
        "*   now_station : 현재 정류소 이름\n",
        "*   now_arrive_time : 현재 정류장에 도착한 시간\n",
        "\n",
        "*   distance :  현재 정류장에서 다음 정류장까지 실제 이동한 거리\n",
        "*   next_station / latitude / longitude : 다음정류장의 ~\n",
        "*   next_arrive_time : [예측할 값] 다음 정류장에 도착할 때 까지 걸린 시간(단위:초)\n",
        "\n"
      ]
    },
    {
      "cell_type": "code",
      "metadata": {
        "colab": {
          "base_uri": "https://localhost:8080/",
          "height": 308
        },
        "id": "aoZFiKMIjgW5",
        "outputId": "bee0b4b1-ba55-4ec8-d2d7-9a8370feb264"
      },
      "source": [
        "test.head()"
      ],
      "execution_count": 4,
      "outputs": [
        {
          "output_type": "execute_result",
          "data": {
            "text/html": [
              "<div>\n",
              "<style scoped>\n",
              "    .dataframe tbody tr th:only-of-type {\n",
              "        vertical-align: middle;\n",
              "    }\n",
              "\n",
              "    .dataframe tbody tr th {\n",
              "        vertical-align: top;\n",
              "    }\n",
              "\n",
              "    .dataframe thead th {\n",
              "        text-align: right;\n",
              "    }\n",
              "</style>\n",
              "<table border=\"1\" class=\"dataframe\">\n",
              "  <thead>\n",
              "    <tr style=\"text-align: right;\">\n",
              "      <th></th>\n",
              "      <th>id</th>\n",
              "      <th>date</th>\n",
              "      <th>route_id</th>\n",
              "      <th>vh_id</th>\n",
              "      <th>route_nm</th>\n",
              "      <th>now_latitude</th>\n",
              "      <th>now_longitude</th>\n",
              "      <th>now_station</th>\n",
              "      <th>now_arrive_time</th>\n",
              "      <th>distance</th>\n",
              "      <th>next_station</th>\n",
              "      <th>next_latitude</th>\n",
              "      <th>next_longitude</th>\n",
              "    </tr>\n",
              "  </thead>\n",
              "  <tbody>\n",
              "    <tr>\n",
              "      <th>0</th>\n",
              "      <td>210457</td>\n",
              "      <td>2019-10-29</td>\n",
              "      <td>405136001</td>\n",
              "      <td>7997025</td>\n",
              "      <td>360-1</td>\n",
              "      <td>33.457724</td>\n",
              "      <td>126.554014</td>\n",
              "      <td>제대마을</td>\n",
              "      <td>07시</td>\n",
              "      <td>333.0</td>\n",
              "      <td>제대아파트</td>\n",
              "      <td>33.458783</td>\n",
              "      <td>126.557353</td>\n",
              "    </tr>\n",
              "    <tr>\n",
              "      <th>1</th>\n",
              "      <td>210458</td>\n",
              "      <td>2019-10-29</td>\n",
              "      <td>405136001</td>\n",
              "      <td>7997025</td>\n",
              "      <td>360-1</td>\n",
              "      <td>33.458783</td>\n",
              "      <td>126.557353</td>\n",
              "      <td>제대아파트</td>\n",
              "      <td>07시</td>\n",
              "      <td>415.0</td>\n",
              "      <td>제주대학교</td>\n",
              "      <td>33.459893</td>\n",
              "      <td>126.561624</td>\n",
              "    </tr>\n",
              "    <tr>\n",
              "      <th>2</th>\n",
              "      <td>210459</td>\n",
              "      <td>2019-10-29</td>\n",
              "      <td>405136001</td>\n",
              "      <td>7997025</td>\n",
              "      <td>360-1</td>\n",
              "      <td>33.478867</td>\n",
              "      <td>126.483833</td>\n",
              "      <td>한라중학교/부영아파트</td>\n",
              "      <td>08시</td>\n",
              "      <td>417.0</td>\n",
              "      <td>대림2차아파트</td>\n",
              "      <td>33.478850</td>\n",
              "      <td>126.488350</td>\n",
              "    </tr>\n",
              "    <tr>\n",
              "      <th>3</th>\n",
              "      <td>210460</td>\n",
              "      <td>2019-10-29</td>\n",
              "      <td>405136001</td>\n",
              "      <td>7997025</td>\n",
              "      <td>360-1</td>\n",
              "      <td>33.478850</td>\n",
              "      <td>126.488350</td>\n",
              "      <td>대림2차아파트</td>\n",
              "      <td>08시</td>\n",
              "      <td>334.0</td>\n",
              "      <td>연동대림1차아파트</td>\n",
              "      <td>33.480700</td>\n",
              "      <td>126.489933</td>\n",
              "    </tr>\n",
              "    <tr>\n",
              "      <th>4</th>\n",
              "      <td>210461</td>\n",
              "      <td>2019-10-29</td>\n",
              "      <td>405136001</td>\n",
              "      <td>7997025</td>\n",
              "      <td>360-1</td>\n",
              "      <td>33.480700</td>\n",
              "      <td>126.489933</td>\n",
              "      <td>연동대림1차아파트</td>\n",
              "      <td>08시</td>\n",
              "      <td>550.0</td>\n",
              "      <td>케이티앤지</td>\n",
              "      <td>33.482077</td>\n",
              "      <td>126.485355</td>\n",
              "    </tr>\n",
              "  </tbody>\n",
              "</table>\n",
              "</div>"
            ],
            "text/plain": [
              "       id        date   route_id  ...  next_station next_latitude  next_longitude\n",
              "0  210457  2019-10-29  405136001  ...         제대아파트     33.458783      126.557353\n",
              "1  210458  2019-10-29  405136001  ...         제주대학교     33.459893      126.561624\n",
              "2  210459  2019-10-29  405136001  ...       대림2차아파트     33.478850      126.488350\n",
              "3  210460  2019-10-29  405136001  ...     연동대림1차아파트     33.480700      126.489933\n",
              "4  210461  2019-10-29  405136001  ...         케이티앤지     33.482077      126.485355\n",
              "\n",
              "[5 rows x 13 columns]"
            ]
          },
          "metadata": {},
          "execution_count": 4
        }
      ]
    },
    {
      "cell_type": "code",
      "metadata": {
        "colab": {
          "base_uri": "https://localhost:8080/",
          "height": 204
        },
        "id": "YhML1gmUkyyl",
        "outputId": "1541ec5d-07ce-43b4-db01-8f2aa9801af5"
      },
      "source": [
        "submission.head()"
      ],
      "execution_count": 5,
      "outputs": [
        {
          "output_type": "execute_result",
          "data": {
            "text/html": [
              "<div>\n",
              "<style scoped>\n",
              "    .dataframe tbody tr th:only-of-type {\n",
              "        vertical-align: middle;\n",
              "    }\n",
              "\n",
              "    .dataframe tbody tr th {\n",
              "        vertical-align: top;\n",
              "    }\n",
              "\n",
              "    .dataframe thead th {\n",
              "        text-align: right;\n",
              "    }\n",
              "</style>\n",
              "<table border=\"1\" class=\"dataframe\">\n",
              "  <thead>\n",
              "    <tr style=\"text-align: right;\">\n",
              "      <th></th>\n",
              "      <th>id</th>\n",
              "      <th>next_arrive_time</th>\n",
              "    </tr>\n",
              "  </thead>\n",
              "  <tbody>\n",
              "    <tr>\n",
              "      <th>0</th>\n",
              "      <td>210457</td>\n",
              "      <td>0</td>\n",
              "    </tr>\n",
              "    <tr>\n",
              "      <th>1</th>\n",
              "      <td>210458</td>\n",
              "      <td>0</td>\n",
              "    </tr>\n",
              "    <tr>\n",
              "      <th>2</th>\n",
              "      <td>210459</td>\n",
              "      <td>0</td>\n",
              "    </tr>\n",
              "    <tr>\n",
              "      <th>3</th>\n",
              "      <td>210460</td>\n",
              "      <td>0</td>\n",
              "    </tr>\n",
              "    <tr>\n",
              "      <th>4</th>\n",
              "      <td>210461</td>\n",
              "      <td>0</td>\n",
              "    </tr>\n",
              "  </tbody>\n",
              "</table>\n",
              "</div>"
            ],
            "text/plain": [
              "       id  next_arrive_time\n",
              "0  210457                 0\n",
              "1  210458                 0\n",
              "2  210459                 0\n",
              "3  210460                 0\n",
              "4  210461                 0"
            ]
          },
          "metadata": {},
          "execution_count": 5
        }
      ]
    },
    {
      "cell_type": "code",
      "metadata": {
        "colab": {
          "base_uri": "https://localhost:8080/",
          "height": 35
        },
        "id": "Ox_l4Sbykz-V",
        "outputId": "05b70e09-03a3-43b7-c450-a1651c26f6f4"
      },
      "source": [
        "train.date.min()"
      ],
      "execution_count": 6,
      "outputs": [
        {
          "output_type": "execute_result",
          "data": {
            "application/vnd.google.colaboratory.intrinsic+json": {
              "type": "string"
            },
            "text/plain": [
              "'2019-10-15'"
            ]
          },
          "metadata": {},
          "execution_count": 6
        }
      ]
    },
    {
      "cell_type": "code",
      "metadata": {
        "colab": {
          "base_uri": "https://localhost:8080/",
          "height": 35
        },
        "id": "lOJLbmkslDAl",
        "outputId": "2bad5170-3ddb-4398-8b29-82971e37a01f"
      },
      "source": [
        "train['date'].min()"
      ],
      "execution_count": 7,
      "outputs": [
        {
          "output_type": "execute_result",
          "data": {
            "application/vnd.google.colaboratory.intrinsic+json": {
              "type": "string"
            },
            "text/plain": [
              "'2019-10-15'"
            ]
          },
          "metadata": {},
          "execution_count": 7
        }
      ]
    },
    {
      "cell_type": "code",
      "metadata": {
        "colab": {
          "base_uri": "https://localhost:8080/"
        },
        "id": "iXNXU5VClGzq",
        "outputId": "c2121a20-611c-4e22-bdeb-311d10bc6cdd"
      },
      "source": [
        "print(train['date'].min())"
      ],
      "execution_count": 10,
      "outputs": [
        {
          "output_type": "stream",
          "name": "stdout",
          "text": [
            "2019-10-15\n"
          ]
        }
      ]
    },
    {
      "cell_type": "code",
      "metadata": {
        "colab": {
          "base_uri": "https://localhost:8080/"
        },
        "id": "_0EeaPTGlOvT",
        "outputId": "e0ffc784-89e9-4c03-c2f7-d2250af2b46d"
      },
      "source": [
        "print(\"train MIN \", train['date'].min())\n",
        "print(\"train MAX \", train['date'].max())\n",
        "\n",
        "print(\"test MIN \", test['date'].min())\n",
        "print(\"test MAX \", test['date'].max())"
      ],
      "execution_count": 12,
      "outputs": [
        {
          "output_type": "stream",
          "name": "stdout",
          "text": [
            "train MIN  2019-10-15\n",
            "train MAX  2019-10-28\n",
            "test MIN  2019-10-29\n",
            "test MAX  2019-11-05\n"
          ]
        }
      ]
    },
    {
      "cell_type": "markdown",
      "metadata": {
        "id": "WTyX_xGelxRb"
      },
      "source": [
        "train 데이터 -> test 데이터 기간 순"
      ]
    },
    {
      "cell_type": "code",
      "metadata": {
        "colab": {
          "base_uri": "https://localhost:8080/"
        },
        "id": "XeTOIkhklaYL",
        "outputId": "233afd5a-793e-47f5-e626-2b14764f3c59"
      },
      "source": [
        "print(train.shape)\n",
        "print(test.shape)\n",
        "print(submission.shape)"
      ],
      "execution_count": 14,
      "outputs": [
        {
          "output_type": "stream",
          "name": "stdout",
          "text": [
            "(210457, 14)\n",
            "(91774, 13)\n",
            "(91774, 2)\n"
          ]
        }
      ]
    },
    {
      "cell_type": "code",
      "metadata": {
        "colab": {
          "base_uri": "https://localhost:8080/"
        },
        "id": "Ed8CJ6PAmAaj",
        "outputId": "33fbb347-a344-4bfb-f89b-ae71a78779ea"
      },
      "source": [
        "train.info()"
      ],
      "execution_count": 15,
      "outputs": [
        {
          "output_type": "stream",
          "name": "stdout",
          "text": [
            "<class 'pandas.core.frame.DataFrame'>\n",
            "RangeIndex: 210457 entries, 0 to 210456\n",
            "Data columns (total 14 columns):\n",
            " #   Column            Non-Null Count   Dtype  \n",
            "---  ------            --------------   -----  \n",
            " 0   id                210457 non-null  int64  \n",
            " 1   date              210457 non-null  object \n",
            " 2   route_id          210457 non-null  int64  \n",
            " 3   vh_id             210457 non-null  int64  \n",
            " 4   route_nm          210457 non-null  object \n",
            " 5   now_latitude      210457 non-null  float64\n",
            " 6   now_longitude     210457 non-null  float64\n",
            " 7   now_station       210457 non-null  object \n",
            " 8   now_arrive_time   210457 non-null  object \n",
            " 9   distance          210457 non-null  float64\n",
            " 10  next_station      210457 non-null  object \n",
            " 11  next_latitude     210457 non-null  float64\n",
            " 12  next_longitude    210457 non-null  float64\n",
            " 13  next_arrive_time  210457 non-null  int64  \n",
            "dtypes: float64(5), int64(4), object(5)\n",
            "memory usage: 22.5+ MB\n"
          ]
        }
      ]
    },
    {
      "cell_type": "code",
      "metadata": {
        "colab": {
          "base_uri": "https://localhost:8080/"
        },
        "id": "1cIQ7-JGmE-6",
        "outputId": "edca5c8b-f971-493e-b056-a83e459cb522"
      },
      "source": [
        "test.info()"
      ],
      "execution_count": 16,
      "outputs": [
        {
          "output_type": "stream",
          "name": "stdout",
          "text": [
            "<class 'pandas.core.frame.DataFrame'>\n",
            "RangeIndex: 91774 entries, 0 to 91773\n",
            "Data columns (total 13 columns):\n",
            " #   Column           Non-Null Count  Dtype  \n",
            "---  ------           --------------  -----  \n",
            " 0   id               91774 non-null  int64  \n",
            " 1   date             91774 non-null  object \n",
            " 2   route_id         91774 non-null  int64  \n",
            " 3   vh_id            91774 non-null  int64  \n",
            " 4   route_nm         91774 non-null  object \n",
            " 5   now_latitude     91774 non-null  float64\n",
            " 6   now_longitude    91774 non-null  float64\n",
            " 7   now_station      91774 non-null  object \n",
            " 8   now_arrive_time  91774 non-null  object \n",
            " 9   distance         91774 non-null  float64\n",
            " 10  next_station     91774 non-null  object \n",
            " 11  next_latitude    91774 non-null  float64\n",
            " 12  next_longitude   91774 non-null  float64\n",
            "dtypes: float64(5), int64(3), object(5)\n",
            "memory usage: 9.1+ MB\n"
          ]
        }
      ]
    },
    {
      "cell_type": "markdown",
      "metadata": {
        "id": "U5mnkkCamHWP"
      },
      "source": [
        "!!! train & test 데이터 _ 결측값이 존재하지 않음 !!!"
      ]
    },
    {
      "cell_type": "code",
      "metadata": {
        "colab": {
          "base_uri": "https://localhost:8080/",
          "height": 316
        },
        "id": "Dw6X-MvpmQgW",
        "outputId": "20c7649a-9ca2-4e45-bdb4-a7cf76210c7b"
      },
      "source": [
        "train.describe()"
      ],
      "execution_count": 17,
      "outputs": [
        {
          "output_type": "execute_result",
          "data": {
            "text/html": [
              "<div>\n",
              "<style scoped>\n",
              "    .dataframe tbody tr th:only-of-type {\n",
              "        vertical-align: middle;\n",
              "    }\n",
              "\n",
              "    .dataframe tbody tr th {\n",
              "        vertical-align: top;\n",
              "    }\n",
              "\n",
              "    .dataframe thead th {\n",
              "        text-align: right;\n",
              "    }\n",
              "</style>\n",
              "<table border=\"1\" class=\"dataframe\">\n",
              "  <thead>\n",
              "    <tr style=\"text-align: right;\">\n",
              "      <th></th>\n",
              "      <th>id</th>\n",
              "      <th>route_id</th>\n",
              "      <th>vh_id</th>\n",
              "      <th>now_latitude</th>\n",
              "      <th>now_longitude</th>\n",
              "      <th>distance</th>\n",
              "      <th>next_latitude</th>\n",
              "      <th>next_longitude</th>\n",
              "      <th>next_arrive_time</th>\n",
              "    </tr>\n",
              "  </thead>\n",
              "  <tbody>\n",
              "    <tr>\n",
              "      <th>count</th>\n",
              "      <td>210457.000000</td>\n",
              "      <td>2.104570e+05</td>\n",
              "      <td>2.104570e+05</td>\n",
              "      <td>210457.000000</td>\n",
              "      <td>210457.000000</td>\n",
              "      <td>210457.000000</td>\n",
              "      <td>210457.000000</td>\n",
              "      <td>210457.000000</td>\n",
              "      <td>210457.000000</td>\n",
              "    </tr>\n",
              "    <tr>\n",
              "      <th>mean</th>\n",
              "      <td>105228.000000</td>\n",
              "      <td>4.052491e+08</td>\n",
              "      <td>7.988694e+06</td>\n",
              "      <td>33.434528</td>\n",
              "      <td>126.603451</td>\n",
              "      <td>490.256100</td>\n",
              "      <td>33.434711</td>\n",
              "      <td>126.603687</td>\n",
              "      <td>85.380824</td>\n",
              "    </tr>\n",
              "    <tr>\n",
              "      <th>std</th>\n",
              "      <td>60753.847139</td>\n",
              "      <td>9.132404e+04</td>\n",
              "      <td>6.774077e+03</td>\n",
              "      <td>0.102350</td>\n",
              "      <td>0.123961</td>\n",
              "      <td>520.563932</td>\n",
              "      <td>0.102224</td>\n",
              "      <td>0.123838</td>\n",
              "      <td>85.051170</td>\n",
              "    </tr>\n",
              "    <tr>\n",
              "      <th>min</th>\n",
              "      <td>0.000000</td>\n",
              "      <td>4.051360e+08</td>\n",
              "      <td>7.983000e+06</td>\n",
              "      <td>33.244382</td>\n",
              "      <td>126.473300</td>\n",
              "      <td>97.000000</td>\n",
              "      <td>33.244382</td>\n",
              "      <td>126.473300</td>\n",
              "      <td>6.000000</td>\n",
              "    </tr>\n",
              "    <tr>\n",
              "      <th>25%</th>\n",
              "      <td>52614.000000</td>\n",
              "      <td>4.051365e+08</td>\n",
              "      <td>7.983093e+06</td>\n",
              "      <td>33.325283</td>\n",
              "      <td>126.523900</td>\n",
              "      <td>291.000000</td>\n",
              "      <td>33.325283</td>\n",
              "      <td>126.524550</td>\n",
              "      <td>44.000000</td>\n",
              "    </tr>\n",
              "    <tr>\n",
              "      <th>50%</th>\n",
              "      <td>105228.000000</td>\n",
              "      <td>4.053201e+08</td>\n",
              "      <td>7.983431e+06</td>\n",
              "      <td>33.484667</td>\n",
              "      <td>126.551050</td>\n",
              "      <td>384.000000</td>\n",
              "      <td>33.484860</td>\n",
              "      <td>126.551050</td>\n",
              "      <td>66.000000</td>\n",
              "    </tr>\n",
              "    <tr>\n",
              "      <th>75%</th>\n",
              "      <td>157842.000000</td>\n",
              "      <td>4.053201e+08</td>\n",
              "      <td>7.997041e+06</td>\n",
              "      <td>33.500197</td>\n",
              "      <td>126.650322</td>\n",
              "      <td>542.000000</td>\n",
              "      <td>33.500228</td>\n",
              "      <td>126.650322</td>\n",
              "      <td>102.000000</td>\n",
              "    </tr>\n",
              "    <tr>\n",
              "      <th>max</th>\n",
              "      <td>210456.000000</td>\n",
              "      <td>4.053281e+08</td>\n",
              "      <td>7.997124e+06</td>\n",
              "      <td>33.556167</td>\n",
              "      <td>126.935188</td>\n",
              "      <td>7461.000000</td>\n",
              "      <td>33.556167</td>\n",
              "      <td>126.935188</td>\n",
              "      <td>2996.000000</td>\n",
              "    </tr>\n",
              "  </tbody>\n",
              "</table>\n",
              "</div>"
            ],
            "text/plain": [
              "                  id      route_id  ...  next_longitude  next_arrive_time\n",
              "count  210457.000000  2.104570e+05  ...   210457.000000     210457.000000\n",
              "mean   105228.000000  4.052491e+08  ...      126.603687         85.380824\n",
              "std     60753.847139  9.132404e+04  ...        0.123838         85.051170\n",
              "min         0.000000  4.051360e+08  ...      126.473300          6.000000\n",
              "25%     52614.000000  4.051365e+08  ...      126.524550         44.000000\n",
              "50%    105228.000000  4.053201e+08  ...      126.551050         66.000000\n",
              "75%    157842.000000  4.053201e+08  ...      126.650322        102.000000\n",
              "max    210456.000000  4.053281e+08  ...      126.935188       2996.000000\n",
              "\n",
              "[8 rows x 9 columns]"
            ]
          },
          "metadata": {},
          "execution_count": 17
        }
      ]
    },
    {
      "cell_type": "code",
      "metadata": {
        "colab": {
          "base_uri": "https://localhost:8080/",
          "height": 729
        },
        "id": "UpcgGWVWnL1Z",
        "outputId": "7796fcd2-5e4c-48d4-d3ed-6e34b4c3d76e"
      },
      "source": [
        "train[['route_id', 'vh_id']].drop_duplicates().groupby('route_id').count()"
      ],
      "execution_count": 18,
      "outputs": [
        {
          "output_type": "execute_result",
          "data": {
            "text/html": [
              "<div>\n",
              "<style scoped>\n",
              "    .dataframe tbody tr th:only-of-type {\n",
              "        vertical-align: middle;\n",
              "    }\n",
              "\n",
              "    .dataframe tbody tr th {\n",
              "        vertical-align: top;\n",
              "    }\n",
              "\n",
              "    .dataframe thead th {\n",
              "        text-align: right;\n",
              "    }\n",
              "</style>\n",
              "<table border=\"1\" class=\"dataframe\">\n",
              "  <thead>\n",
              "    <tr style=\"text-align: right;\">\n",
              "      <th></th>\n",
              "      <th>vh_id</th>\n",
              "    </tr>\n",
              "    <tr>\n",
              "      <th>route_id</th>\n",
              "      <th></th>\n",
              "    </tr>\n",
              "  </thead>\n",
              "  <tbody>\n",
              "    <tr>\n",
              "      <th>405136001</th>\n",
              "      <td>10</td>\n",
              "    </tr>\n",
              "    <tr>\n",
              "      <th>405136002</th>\n",
              "      <td>5</td>\n",
              "    </tr>\n",
              "    <tr>\n",
              "      <th>405136007</th>\n",
              "      <td>1</td>\n",
              "    </tr>\n",
              "    <tr>\n",
              "      <th>405136012</th>\n",
              "      <td>3</td>\n",
              "    </tr>\n",
              "    <tr>\n",
              "      <th>405136521</th>\n",
              "      <td>6</td>\n",
              "    </tr>\n",
              "    <tr>\n",
              "      <th>405136522</th>\n",
              "      <td>15</td>\n",
              "    </tr>\n",
              "    <tr>\n",
              "      <th>405320111</th>\n",
              "      <td>3</td>\n",
              "    </tr>\n",
              "    <tr>\n",
              "      <th>405320112</th>\n",
              "      <td>5</td>\n",
              "    </tr>\n",
              "    <tr>\n",
              "      <th>405320113</th>\n",
              "      <td>1</td>\n",
              "    </tr>\n",
              "    <tr>\n",
              "      <th>405320114</th>\n",
              "      <td>5</td>\n",
              "    </tr>\n",
              "    <tr>\n",
              "      <th>405320115</th>\n",
              "      <td>1</td>\n",
              "    </tr>\n",
              "    <tr>\n",
              "      <th>405320116</th>\n",
              "      <td>6</td>\n",
              "    </tr>\n",
              "    <tr>\n",
              "      <th>405320117</th>\n",
              "      <td>2</td>\n",
              "    </tr>\n",
              "    <tr>\n",
              "      <th>405320118</th>\n",
              "      <td>1</td>\n",
              "    </tr>\n",
              "    <tr>\n",
              "      <th>405320121</th>\n",
              "      <td>1</td>\n",
              "    </tr>\n",
              "    <tr>\n",
              "      <th>405320122</th>\n",
              "      <td>4</td>\n",
              "    </tr>\n",
              "    <tr>\n",
              "      <th>405320124</th>\n",
              "      <td>3</td>\n",
              "    </tr>\n",
              "    <tr>\n",
              "      <th>405320126</th>\n",
              "      <td>2</td>\n",
              "    </tr>\n",
              "    <tr>\n",
              "      <th>405320127</th>\n",
              "      <td>5</td>\n",
              "    </tr>\n",
              "    <tr>\n",
              "      <th>405328101</th>\n",
              "      <td>11</td>\n",
              "    </tr>\n",
              "    <tr>\n",
              "      <th>405328102</th>\n",
              "      <td>14</td>\n",
              "    </tr>\n",
              "  </tbody>\n",
              "</table>\n",
              "</div>"
            ],
            "text/plain": [
              "           vh_id\n",
              "route_id        \n",
              "405136001     10\n",
              "405136002      5\n",
              "405136007      1\n",
              "405136012      3\n",
              "405136521      6\n",
              "405136522     15\n",
              "405320111      3\n",
              "405320112      5\n",
              "405320113      1\n",
              "405320114      5\n",
              "405320115      1\n",
              "405320116      6\n",
              "405320117      2\n",
              "405320118      1\n",
              "405320121      1\n",
              "405320122      4\n",
              "405320124      3\n",
              "405320126      2\n",
              "405320127      5\n",
              "405328101     11\n",
              "405328102     14"
            ]
          },
          "metadata": {},
          "execution_count": 18
        }
      ]
    },
    {
      "cell_type": "markdown",
      "metadata": {
        "id": "xuLfNDeTm3bv"
      },
      "source": [
        "##folium.Map()"
      ]
    },
    {
      "cell_type": "code",
      "metadata": {
        "id": "jmXHAqAXmZ-k"
      },
      "source": [
        ""
      ],
      "execution_count": null,
      "outputs": []
    }
  ]
}