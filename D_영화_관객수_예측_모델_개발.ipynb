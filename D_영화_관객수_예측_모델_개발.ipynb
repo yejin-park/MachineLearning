{
  "nbformat": 4,
  "nbformat_minor": 0,
  "metadata": {
    "colab": {
      "name": "D_영화 관객수 예측 모델 개발.ipynb",
      "provenance": [],
      "collapsed_sections": [],
      "mount_file_id": "1qKblXZ5cATfSNgEi0R-qtst8EpfpaLKh",
      "authorship_tag": "ABX9TyMhAFATC+dkwgTGOV05L1am",
      "include_colab_link": true
    },
    "kernelspec": {
      "name": "python3",
      "display_name": "Python 3"
    },
    "language_info": {
      "name": "python"
    }
  },
  "cells": [
    {
      "cell_type": "markdown",
      "metadata": {
        "id": "view-in-github",
        "colab_type": "text"
      },
      "source": [
        "<a href=\"https://colab.research.google.com/github/yejin-park/MachineLearning/blob/main/D_%EC%98%81%ED%99%94_%EA%B4%80%EA%B0%9D%EC%88%98_%EC%98%88%EC%B8%A1_%EB%AA%A8%EB%8D%B8_%EA%B0%9C%EB%B0%9C.ipynb\" target=\"_parent\"><img src=\"https://colab.research.google.com/assets/colab-badge.svg\" alt=\"Open In Colab\"/></a>"
      ]
    },
    {
      "cell_type": "markdown",
      "metadata": {
        "id": "C8OOJ22lnWcl"
      },
      "source": [
        "## 함수에 대한 설명 추가할 것"
      ]
    },
    {
      "cell_type": "markdown",
      "metadata": {
        "id": "gUspSExmyH2p"
      },
      "source": [
        "# 영화 관객 수 데이터를 활용한 데이터 분석\n",
        "\n",
        "\n",
        "> 감독, 이름, 상영등급, 스태프 수 등의 정보로 영화관객 수를 예측하는 모델\n",
        "\n"
      ]
    },
    {
      "cell_type": "markdown",
      "metadata": {
        "id": "EIv5TpgryUIy"
      },
      "source": [
        "## 1. 라이브러리 및 데이터"
      ]
    },
    {
      "cell_type": "code",
      "metadata": {
        "id": "r9CC3wwWxti-"
      },
      "source": [
        "import pandas as pd #판다스 패키지\n",
        "import lightgbm as lgb #추가학습 필요, 그레이디언트 부스팅"
      ],
      "execution_count": 5,
      "outputs": []
    },
    {
      "cell_type": "code",
      "metadata": {
        "id": "z1svxr7vzEww"
      },
      "source": [
        "#데이터 불러오기\n",
        "train = pd.read_csv('/content/drive/MyDrive/Colab Notebooks/data/movie/movies_train.csv') \n",
        "test = pd.read_csv('/content/drive/MyDrive/Colab Notebooks/data/movie/movies_test.csv')\n",
        "submission = pd.read_csv('/content/drive/MyDrive/Colab Notebooks/data/movie/submission.csv')"
      ],
      "execution_count": 6,
      "outputs": []
    },
    {
      "cell_type": "markdown",
      "metadata": {
        "id": "ompR4ZKKzyyI"
      },
      "source": [
        "#2. EDA (exploratory data analysis) 탐색적 자료분석\n",
        "\n",
        "*   pd.DataFrame.head()/tail()\n",
        "*   pd.DataFrame.shape    #head(5), tail(1)로 괄호안에 넣을게 있지만 shape는 없음\n",
        "*   pd.DataFrame.info()\n",
        "*   pd.DataFrame.describe() _____ #숫자형 칼럼들의 기술 통계량\n",
        "*   pd.option.display.float_format = '{:.1f}'.format _____ # 2.700000e+02 와 같은 수를 원래 형태로 보고 싶은 경우\n",
        "*   pd.DataFrame,groupby()\n",
        "*   [11:20~] pd.DataFrame.corr() __\n",
        "        pd.reset_option('display.float_format') ___ #\n",
        "        train.corr() ___ #\n",
        "        import seaborn as sns ___ #\n",
        "        sns.heatmap(train.corr(), annot = True) ___ #\n",
        "\n"
      ]
    },
    {
      "cell_type": "code",
      "metadata": {
        "id": "2UVlHp6rzi62",
        "colab": {
          "base_uri": "https://localhost:8080/",
          "height": 204
        },
        "outputId": "333d1500-a539-428e-85e6-ea1ac9f61265"
      },
      "source": [
        "train.head()\n",
        "#csv파일 movies_train -> train 으로 정의"
      ],
      "execution_count": 7,
      "outputs": [
        {
          "output_type": "execute_result",
          "data": {
            "text/html": [
              "<div>\n",
              "<style scoped>\n",
              "    .dataframe tbody tr th:only-of-type {\n",
              "        vertical-align: middle;\n",
              "    }\n",
              "\n",
              "    .dataframe tbody tr th {\n",
              "        vertical-align: top;\n",
              "    }\n",
              "\n",
              "    .dataframe thead th {\n",
              "        text-align: right;\n",
              "    }\n",
              "</style>\n",
              "<table border=\"1\" class=\"dataframe\">\n",
              "  <thead>\n",
              "    <tr style=\"text-align: right;\">\n",
              "      <th></th>\n",
              "      <th>title</th>\n",
              "      <th>distributor</th>\n",
              "      <th>genre</th>\n",
              "      <th>release_time</th>\n",
              "      <th>time</th>\n",
              "      <th>screening_rat</th>\n",
              "      <th>director</th>\n",
              "      <th>dir_prev_bfnum</th>\n",
              "      <th>dir_prev_num</th>\n",
              "      <th>num_staff</th>\n",
              "      <th>num_actor</th>\n",
              "      <th>box_off_num</th>\n",
              "    </tr>\n",
              "  </thead>\n",
              "  <tbody>\n",
              "    <tr>\n",
              "      <th>0</th>\n",
              "      <td>개들의 전쟁</td>\n",
              "      <td>롯데엔터테인먼트</td>\n",
              "      <td>액션</td>\n",
              "      <td>2012-11-22</td>\n",
              "      <td>96</td>\n",
              "      <td>청소년 관람불가</td>\n",
              "      <td>조병옥</td>\n",
              "      <td>NaN</td>\n",
              "      <td>0</td>\n",
              "      <td>91</td>\n",
              "      <td>2</td>\n",
              "      <td>23398</td>\n",
              "    </tr>\n",
              "    <tr>\n",
              "      <th>1</th>\n",
              "      <td>내부자들</td>\n",
              "      <td>(주)쇼박스</td>\n",
              "      <td>느와르</td>\n",
              "      <td>2015-11-19</td>\n",
              "      <td>130</td>\n",
              "      <td>청소년 관람불가</td>\n",
              "      <td>우민호</td>\n",
              "      <td>1161602.50</td>\n",
              "      <td>2</td>\n",
              "      <td>387</td>\n",
              "      <td>3</td>\n",
              "      <td>7072501</td>\n",
              "    </tr>\n",
              "    <tr>\n",
              "      <th>2</th>\n",
              "      <td>은밀하게 위대하게</td>\n",
              "      <td>(주)쇼박스</td>\n",
              "      <td>액션</td>\n",
              "      <td>2013-06-05</td>\n",
              "      <td>123</td>\n",
              "      <td>15세 관람가</td>\n",
              "      <td>장철수</td>\n",
              "      <td>220775.25</td>\n",
              "      <td>4</td>\n",
              "      <td>343</td>\n",
              "      <td>4</td>\n",
              "      <td>6959083</td>\n",
              "    </tr>\n",
              "    <tr>\n",
              "      <th>3</th>\n",
              "      <td>나는 공무원이다</td>\n",
              "      <td>(주)NEW</td>\n",
              "      <td>코미디</td>\n",
              "      <td>2012-07-12</td>\n",
              "      <td>101</td>\n",
              "      <td>전체 관람가</td>\n",
              "      <td>구자홍</td>\n",
              "      <td>23894.00</td>\n",
              "      <td>2</td>\n",
              "      <td>20</td>\n",
              "      <td>6</td>\n",
              "      <td>217866</td>\n",
              "    </tr>\n",
              "    <tr>\n",
              "      <th>4</th>\n",
              "      <td>불량남녀</td>\n",
              "      <td>쇼박스(주)미디어플렉스</td>\n",
              "      <td>코미디</td>\n",
              "      <td>2010-11-04</td>\n",
              "      <td>108</td>\n",
              "      <td>15세 관람가</td>\n",
              "      <td>신근호</td>\n",
              "      <td>1.00</td>\n",
              "      <td>1</td>\n",
              "      <td>251</td>\n",
              "      <td>2</td>\n",
              "      <td>483387</td>\n",
              "    </tr>\n",
              "  </tbody>\n",
              "</table>\n",
              "</div>"
            ],
            "text/plain": [
              "       title   distributor genre  ... num_staff  num_actor box_off_num\n",
              "0     개들의 전쟁      롯데엔터테인먼트    액션  ...        91          2       23398\n",
              "1       내부자들        (주)쇼박스   느와르  ...       387          3     7072501\n",
              "2  은밀하게 위대하게        (주)쇼박스    액션  ...       343          4     6959083\n",
              "3   나는 공무원이다        (주)NEW   코미디  ...        20          6      217866\n",
              "4       불량남녀  쇼박스(주)미디어플렉스   코미디  ...       251          2      483387\n",
              "\n",
              "[5 rows x 12 columns]"
            ]
          },
          "metadata": {},
          "execution_count": 7
        }
      ]
    },
    {
      "cell_type": "markdown",
      "metadata": {
        "id": "gsCSoxSRJpjR"
      },
      "source": [
        "칼럼 box_off_num : 영화별 관객 수"
      ]
    },
    {
      "cell_type": "code",
      "metadata": {
        "id": "gRY4ZJVX10N3",
        "colab": {
          "base_uri": "https://localhost:8080/",
          "height": 204
        },
        "outputId": "d96baba0-5f61-48bf-92e0-915e7a4764f0"
      },
      "source": [
        "test.head()"
      ],
      "execution_count": 8,
      "outputs": [
        {
          "output_type": "execute_result",
          "data": {
            "text/html": [
              "<div>\n",
              "<style scoped>\n",
              "    .dataframe tbody tr th:only-of-type {\n",
              "        vertical-align: middle;\n",
              "    }\n",
              "\n",
              "    .dataframe tbody tr th {\n",
              "        vertical-align: top;\n",
              "    }\n",
              "\n",
              "    .dataframe thead th {\n",
              "        text-align: right;\n",
              "    }\n",
              "</style>\n",
              "<table border=\"1\" class=\"dataframe\">\n",
              "  <thead>\n",
              "    <tr style=\"text-align: right;\">\n",
              "      <th></th>\n",
              "      <th>title</th>\n",
              "      <th>distributor</th>\n",
              "      <th>genre</th>\n",
              "      <th>release_time</th>\n",
              "      <th>time</th>\n",
              "      <th>screening_rat</th>\n",
              "      <th>director</th>\n",
              "      <th>dir_prev_bfnum</th>\n",
              "      <th>dir_prev_num</th>\n",
              "      <th>num_staff</th>\n",
              "      <th>num_actor</th>\n",
              "    </tr>\n",
              "  </thead>\n",
              "  <tbody>\n",
              "    <tr>\n",
              "      <th>0</th>\n",
              "      <td>용서는 없다</td>\n",
              "      <td>시네마서비스</td>\n",
              "      <td>느와르</td>\n",
              "      <td>2010-01-07</td>\n",
              "      <td>125</td>\n",
              "      <td>청소년 관람불가</td>\n",
              "      <td>김형준</td>\n",
              "      <td>3.005290e+05</td>\n",
              "      <td>2</td>\n",
              "      <td>304</td>\n",
              "      <td>3</td>\n",
              "    </tr>\n",
              "    <tr>\n",
              "      <th>1</th>\n",
              "      <td>아빠가 여자를 좋아해</td>\n",
              "      <td>(주)쇼박스</td>\n",
              "      <td>멜로/로맨스</td>\n",
              "      <td>2010-01-14</td>\n",
              "      <td>113</td>\n",
              "      <td>12세 관람가</td>\n",
              "      <td>이광재</td>\n",
              "      <td>3.427002e+05</td>\n",
              "      <td>4</td>\n",
              "      <td>275</td>\n",
              "      <td>3</td>\n",
              "    </tr>\n",
              "    <tr>\n",
              "      <th>2</th>\n",
              "      <td>하모니</td>\n",
              "      <td>CJ 엔터테인먼트</td>\n",
              "      <td>드라마</td>\n",
              "      <td>2010-01-28</td>\n",
              "      <td>115</td>\n",
              "      <td>12세 관람가</td>\n",
              "      <td>강대규</td>\n",
              "      <td>4.206611e+06</td>\n",
              "      <td>3</td>\n",
              "      <td>419</td>\n",
              "      <td>7</td>\n",
              "    </tr>\n",
              "    <tr>\n",
              "      <th>3</th>\n",
              "      <td>의형제</td>\n",
              "      <td>(주)쇼박스</td>\n",
              "      <td>액션</td>\n",
              "      <td>2010-02-04</td>\n",
              "      <td>116</td>\n",
              "      <td>15세 관람가</td>\n",
              "      <td>장훈</td>\n",
              "      <td>6.913420e+05</td>\n",
              "      <td>2</td>\n",
              "      <td>408</td>\n",
              "      <td>2</td>\n",
              "    </tr>\n",
              "    <tr>\n",
              "      <th>4</th>\n",
              "      <td>평행 이론</td>\n",
              "      <td>CJ 엔터테인먼트</td>\n",
              "      <td>공포</td>\n",
              "      <td>2010-02-18</td>\n",
              "      <td>110</td>\n",
              "      <td>15세 관람가</td>\n",
              "      <td>권호영</td>\n",
              "      <td>3.173800e+04</td>\n",
              "      <td>1</td>\n",
              "      <td>380</td>\n",
              "      <td>1</td>\n",
              "    </tr>\n",
              "  </tbody>\n",
              "</table>\n",
              "</div>"
            ],
            "text/plain": [
              "         title distributor   genre  ... dir_prev_num  num_staff num_actor\n",
              "0       용서는 없다      시네마서비스     느와르  ...            2        304         3\n",
              "1  아빠가 여자를 좋아해      (주)쇼박스  멜로/로맨스  ...            4        275         3\n",
              "2          하모니   CJ 엔터테인먼트     드라마  ...            3        419         7\n",
              "3          의형제      (주)쇼박스      액션  ...            2        408         2\n",
              "4        평행 이론   CJ 엔터테인먼트      공포  ...            1        380         1\n",
              "\n",
              "[5 rows x 11 columns]"
            ]
          },
          "metadata": {},
          "execution_count": 8
        }
      ]
    },
    {
      "cell_type": "code",
      "metadata": {
        "colab": {
          "base_uri": "https://localhost:8080/",
          "height": 418
        },
        "id": "MXK0foIKJ_ZU",
        "outputId": "e8a393fe-d041-4ac9-bb79-54df99b68762"
      },
      "source": [
        "submission"
      ],
      "execution_count": 9,
      "outputs": [
        {
          "output_type": "execute_result",
          "data": {
            "text/html": [
              "<div>\n",
              "<style scoped>\n",
              "    .dataframe tbody tr th:only-of-type {\n",
              "        vertical-align: middle;\n",
              "    }\n",
              "\n",
              "    .dataframe tbody tr th {\n",
              "        vertical-align: top;\n",
              "    }\n",
              "\n",
              "    .dataframe thead th {\n",
              "        text-align: right;\n",
              "    }\n",
              "</style>\n",
              "<table border=\"1\" class=\"dataframe\">\n",
              "  <thead>\n",
              "    <tr style=\"text-align: right;\">\n",
              "      <th></th>\n",
              "      <th>title</th>\n",
              "      <th>box_off_num</th>\n",
              "    </tr>\n",
              "  </thead>\n",
              "  <tbody>\n",
              "    <tr>\n",
              "      <th>0</th>\n",
              "      <td>용서는 없다</td>\n",
              "      <td>0</td>\n",
              "    </tr>\n",
              "    <tr>\n",
              "      <th>1</th>\n",
              "      <td>아빠가 여자를 좋아해</td>\n",
              "      <td>0</td>\n",
              "    </tr>\n",
              "    <tr>\n",
              "      <th>2</th>\n",
              "      <td>하모니</td>\n",
              "      <td>0</td>\n",
              "    </tr>\n",
              "    <tr>\n",
              "      <th>3</th>\n",
              "      <td>의형제</td>\n",
              "      <td>0</td>\n",
              "    </tr>\n",
              "    <tr>\n",
              "      <th>4</th>\n",
              "      <td>평행 이론</td>\n",
              "      <td>0</td>\n",
              "    </tr>\n",
              "    <tr>\n",
              "      <th>...</th>\n",
              "      <td>...</td>\n",
              "      <td>...</td>\n",
              "    </tr>\n",
              "    <tr>\n",
              "      <th>238</th>\n",
              "      <td>해에게서 소년에게</td>\n",
              "      <td>0</td>\n",
              "    </tr>\n",
              "    <tr>\n",
              "      <th>239</th>\n",
              "      <td>울보 권투부</td>\n",
              "      <td>0</td>\n",
              "    </tr>\n",
              "    <tr>\n",
              "      <th>240</th>\n",
              "      <td>어떤살인</td>\n",
              "      <td>0</td>\n",
              "    </tr>\n",
              "    <tr>\n",
              "      <th>241</th>\n",
              "      <td>말하지 못한 비밀</td>\n",
              "      <td>0</td>\n",
              "    </tr>\n",
              "    <tr>\n",
              "      <th>242</th>\n",
              "      <td>조선안방 스캔들-칠거지악 2</td>\n",
              "      <td>0</td>\n",
              "    </tr>\n",
              "  </tbody>\n",
              "</table>\n",
              "<p>243 rows × 2 columns</p>\n",
              "</div>"
            ],
            "text/plain": [
              "               title  box_off_num\n",
              "0             용서는 없다            0\n",
              "1        아빠가 여자를 좋아해            0\n",
              "2                하모니            0\n",
              "3                의형제            0\n",
              "4              평행 이론            0\n",
              "..               ...          ...\n",
              "238        해에게서 소년에게            0\n",
              "239           울보 권투부            0\n",
              "240             어떤살인            0\n",
              "241        말하지 못한 비밀            0\n",
              "242  조선안방 스캔들-칠거지악 2            0\n",
              "\n",
              "[243 rows x 2 columns]"
            ]
          },
          "metadata": {},
          "execution_count": 9
        }
      ]
    },
    {
      "cell_type": "code",
      "metadata": {
        "colab": {
          "base_uri": "https://localhost:8080/"
        },
        "id": "iN4PZey9KD3N",
        "outputId": "dda38aa0-32b5-48b4-f8e1-e28da09dd707"
      },
      "source": [
        "print(\"train\", train.shape)\n",
        "print(\"test\", test.shape)\n",
        "print(\"submission\", submission.shape)"
      ],
      "execution_count": 10,
      "outputs": [
        {
          "output_type": "stream",
          "name": "stdout",
          "text": [
            "train (600, 12)\n",
            "test (243, 11)\n",
            "submission (243, 2)\n"
          ]
        }
      ]
    },
    {
      "cell_type": "code",
      "metadata": {
        "colab": {
          "base_uri": "https://localhost:8080/"
        },
        "id": "lugFW2cbKjW2",
        "outputId": "23032ba8-6e06-439a-a7c8-8d5d8e5173ab"
      },
      "source": [
        "train.info()"
      ],
      "execution_count": 11,
      "outputs": [
        {
          "output_type": "stream",
          "name": "stdout",
          "text": [
            "<class 'pandas.core.frame.DataFrame'>\n",
            "RangeIndex: 600 entries, 0 to 599\n",
            "Data columns (total 12 columns):\n",
            " #   Column          Non-Null Count  Dtype  \n",
            "---  ------          --------------  -----  \n",
            " 0   title           600 non-null    object \n",
            " 1   distributor     600 non-null    object \n",
            " 2   genre           600 non-null    object \n",
            " 3   release_time    600 non-null    object \n",
            " 4   time            600 non-null    int64  \n",
            " 5   screening_rat   600 non-null    object \n",
            " 6   director        600 non-null    object \n",
            " 7   dir_prev_bfnum  270 non-null    float64\n",
            " 8   dir_prev_num    600 non-null    int64  \n",
            " 9   num_staff       600 non-null    int64  \n",
            " 10  num_actor       600 non-null    int64  \n",
            " 11  box_off_num     600 non-null    int64  \n",
            "dtypes: float64(1), int64(5), object(6)\n",
            "memory usage: 56.4+ KB\n"
          ]
        }
      ]
    },
    {
      "cell_type": "code",
      "metadata": {
        "colab": {
          "base_uri": "https://localhost:8080/",
          "height": 296
        },
        "id": "Tq_58ZuQK_JY",
        "outputId": "6de30cd5-f473-4798-c5dd-f300547181e6"
      },
      "source": [
        "train.describe()"
      ],
      "execution_count": 12,
      "outputs": [
        {
          "output_type": "execute_result",
          "data": {
            "text/html": [
              "<div>\n",
              "<style scoped>\n",
              "    .dataframe tbody tr th:only-of-type {\n",
              "        vertical-align: middle;\n",
              "    }\n",
              "\n",
              "    .dataframe tbody tr th {\n",
              "        vertical-align: top;\n",
              "    }\n",
              "\n",
              "    .dataframe thead th {\n",
              "        text-align: right;\n",
              "    }\n",
              "</style>\n",
              "<table border=\"1\" class=\"dataframe\">\n",
              "  <thead>\n",
              "    <tr style=\"text-align: right;\">\n",
              "      <th></th>\n",
              "      <th>time</th>\n",
              "      <th>dir_prev_bfnum</th>\n",
              "      <th>dir_prev_num</th>\n",
              "      <th>num_staff</th>\n",
              "      <th>num_actor</th>\n",
              "      <th>box_off_num</th>\n",
              "    </tr>\n",
              "  </thead>\n",
              "  <tbody>\n",
              "    <tr>\n",
              "      <th>count</th>\n",
              "      <td>600.000000</td>\n",
              "      <td>2.700000e+02</td>\n",
              "      <td>600.000000</td>\n",
              "      <td>600.000000</td>\n",
              "      <td>600.000000</td>\n",
              "      <td>6.000000e+02</td>\n",
              "    </tr>\n",
              "    <tr>\n",
              "      <th>mean</th>\n",
              "      <td>100.863333</td>\n",
              "      <td>1.050443e+06</td>\n",
              "      <td>0.876667</td>\n",
              "      <td>151.118333</td>\n",
              "      <td>3.706667</td>\n",
              "      <td>7.081818e+05</td>\n",
              "    </tr>\n",
              "    <tr>\n",
              "      <th>std</th>\n",
              "      <td>18.097528</td>\n",
              "      <td>1.791408e+06</td>\n",
              "      <td>1.183409</td>\n",
              "      <td>165.654671</td>\n",
              "      <td>2.446889</td>\n",
              "      <td>1.828006e+06</td>\n",
              "    </tr>\n",
              "    <tr>\n",
              "      <th>min</th>\n",
              "      <td>45.000000</td>\n",
              "      <td>1.000000e+00</td>\n",
              "      <td>0.000000</td>\n",
              "      <td>0.000000</td>\n",
              "      <td>0.000000</td>\n",
              "      <td>1.000000e+00</td>\n",
              "    </tr>\n",
              "    <tr>\n",
              "      <th>25%</th>\n",
              "      <td>89.000000</td>\n",
              "      <td>2.038000e+04</td>\n",
              "      <td>0.000000</td>\n",
              "      <td>17.000000</td>\n",
              "      <td>2.000000</td>\n",
              "      <td>1.297250e+03</td>\n",
              "    </tr>\n",
              "    <tr>\n",
              "      <th>50%</th>\n",
              "      <td>100.000000</td>\n",
              "      <td>4.784236e+05</td>\n",
              "      <td>0.000000</td>\n",
              "      <td>82.500000</td>\n",
              "      <td>3.000000</td>\n",
              "      <td>1.259100e+04</td>\n",
              "    </tr>\n",
              "    <tr>\n",
              "      <th>75%</th>\n",
              "      <td>114.000000</td>\n",
              "      <td>1.286569e+06</td>\n",
              "      <td>2.000000</td>\n",
              "      <td>264.000000</td>\n",
              "      <td>4.000000</td>\n",
              "      <td>4.798868e+05</td>\n",
              "    </tr>\n",
              "    <tr>\n",
              "      <th>max</th>\n",
              "      <td>180.000000</td>\n",
              "      <td>1.761531e+07</td>\n",
              "      <td>5.000000</td>\n",
              "      <td>869.000000</td>\n",
              "      <td>25.000000</td>\n",
              "      <td>1.426277e+07</td>\n",
              "    </tr>\n",
              "  </tbody>\n",
              "</table>\n",
              "</div>"
            ],
            "text/plain": [
              "             time  dir_prev_bfnum  ...   num_actor   box_off_num\n",
              "count  600.000000    2.700000e+02  ...  600.000000  6.000000e+02\n",
              "mean   100.863333    1.050443e+06  ...    3.706667  7.081818e+05\n",
              "std     18.097528    1.791408e+06  ...    2.446889  1.828006e+06\n",
              "min     45.000000    1.000000e+00  ...    0.000000  1.000000e+00\n",
              "25%     89.000000    2.038000e+04  ...    2.000000  1.297250e+03\n",
              "50%    100.000000    4.784236e+05  ...    3.000000  1.259100e+04\n",
              "75%    114.000000    1.286569e+06  ...    4.000000  4.798868e+05\n",
              "max    180.000000    1.761531e+07  ...   25.000000  1.426277e+07\n",
              "\n",
              "[8 rows x 6 columns]"
            ]
          },
          "metadata": {},
          "execution_count": 12
        }
      ]
    },
    {
      "cell_type": "code",
      "metadata": {
        "colab": {
          "base_uri": "https://localhost:8080/",
          "height": 296
        },
        "id": "eHbWW_eYLtDP",
        "outputId": "c7c7c9e1-c6b5-482f-80fc-ee67ad0fa91f"
      },
      "source": [
        "#2.700000e+02 와 같은 수를 원래 형태로 보고싶은 경우\n",
        "pd.options.display.float_format = '{:.1f}'.format\n",
        "train.describe()"
      ],
      "execution_count": 13,
      "outputs": [
        {
          "output_type": "execute_result",
          "data": {
            "text/html": [
              "<div>\n",
              "<style scoped>\n",
              "    .dataframe tbody tr th:only-of-type {\n",
              "        vertical-align: middle;\n",
              "    }\n",
              "\n",
              "    .dataframe tbody tr th {\n",
              "        vertical-align: top;\n",
              "    }\n",
              "\n",
              "    .dataframe thead th {\n",
              "        text-align: right;\n",
              "    }\n",
              "</style>\n",
              "<table border=\"1\" class=\"dataframe\">\n",
              "  <thead>\n",
              "    <tr style=\"text-align: right;\">\n",
              "      <th></th>\n",
              "      <th>time</th>\n",
              "      <th>dir_prev_bfnum</th>\n",
              "      <th>dir_prev_num</th>\n",
              "      <th>num_staff</th>\n",
              "      <th>num_actor</th>\n",
              "      <th>box_off_num</th>\n",
              "    </tr>\n",
              "  </thead>\n",
              "  <tbody>\n",
              "    <tr>\n",
              "      <th>count</th>\n",
              "      <td>600.0</td>\n",
              "      <td>270.0</td>\n",
              "      <td>600.0</td>\n",
              "      <td>600.0</td>\n",
              "      <td>600.0</td>\n",
              "      <td>600.0</td>\n",
              "    </tr>\n",
              "    <tr>\n",
              "      <th>mean</th>\n",
              "      <td>100.9</td>\n",
              "      <td>1050442.9</td>\n",
              "      <td>0.9</td>\n",
              "      <td>151.1</td>\n",
              "      <td>3.7</td>\n",
              "      <td>708181.8</td>\n",
              "    </tr>\n",
              "    <tr>\n",
              "      <th>std</th>\n",
              "      <td>18.1</td>\n",
              "      <td>1791408.3</td>\n",
              "      <td>1.2</td>\n",
              "      <td>165.7</td>\n",
              "      <td>2.4</td>\n",
              "      <td>1828005.9</td>\n",
              "    </tr>\n",
              "    <tr>\n",
              "      <th>min</th>\n",
              "      <td>45.0</td>\n",
              "      <td>1.0</td>\n",
              "      <td>0.0</td>\n",
              "      <td>0.0</td>\n",
              "      <td>0.0</td>\n",
              "      <td>1.0</td>\n",
              "    </tr>\n",
              "    <tr>\n",
              "      <th>25%</th>\n",
              "      <td>89.0</td>\n",
              "      <td>20380.0</td>\n",
              "      <td>0.0</td>\n",
              "      <td>17.0</td>\n",
              "      <td>2.0</td>\n",
              "      <td>1297.2</td>\n",
              "    </tr>\n",
              "    <tr>\n",
              "      <th>50%</th>\n",
              "      <td>100.0</td>\n",
              "      <td>478423.6</td>\n",
              "      <td>0.0</td>\n",
              "      <td>82.5</td>\n",
              "      <td>3.0</td>\n",
              "      <td>12591.0</td>\n",
              "    </tr>\n",
              "    <tr>\n",
              "      <th>75%</th>\n",
              "      <td>114.0</td>\n",
              "      <td>1286568.6</td>\n",
              "      <td>2.0</td>\n",
              "      <td>264.0</td>\n",
              "      <td>4.0</td>\n",
              "      <td>479886.8</td>\n",
              "    </tr>\n",
              "    <tr>\n",
              "      <th>max</th>\n",
              "      <td>180.0</td>\n",
              "      <td>17615314.0</td>\n",
              "      <td>5.0</td>\n",
              "      <td>869.0</td>\n",
              "      <td>25.0</td>\n",
              "      <td>14262766.0</td>\n",
              "    </tr>\n",
              "  </tbody>\n",
              "</table>\n",
              "</div>"
            ],
            "text/plain": [
              "       time  dir_prev_bfnum  dir_prev_num  num_staff  num_actor  box_off_num\n",
              "count 600.0           270.0         600.0      600.0      600.0        600.0\n",
              "mean  100.9       1050442.9           0.9      151.1        3.7     708181.8\n",
              "std    18.1       1791408.3           1.2      165.7        2.4    1828005.9\n",
              "min    45.0             1.0           0.0        0.0        0.0          1.0\n",
              "25%    89.0         20380.0           0.0       17.0        2.0       1297.2\n",
              "50%   100.0        478423.6           0.0       82.5        3.0      12591.0\n",
              "75%   114.0       1286568.6           2.0      264.0        4.0     479886.8\n",
              "max   180.0      17615314.0           5.0      869.0       25.0   14262766.0"
            ]
          },
          "metadata": {},
          "execution_count": 13
        }
      ]
    },
    {
      "cell_type": "code",
      "metadata": {
        "colab": {
          "base_uri": "https://localhost:8080/",
          "height": 451
        },
        "id": "NgGw4MK_MNXd",
        "outputId": "94202c34-21d4-44ae-f271-c85cc95e366a"
      },
      "source": [
        "### 장르별 관객수 ### + 평균값(mean)을 내서 정렬을 시킨다\n",
        "train[['genre', 'box_off_num']].groupby('genre').mean().sort_values('box_off_num')"
      ],
      "execution_count": 14,
      "outputs": [
        {
          "output_type": "execute_result",
          "data": {
            "text/html": [
              "<div>\n",
              "<style scoped>\n",
              "    .dataframe tbody tr th:only-of-type {\n",
              "        vertical-align: middle;\n",
              "    }\n",
              "\n",
              "    .dataframe tbody tr th {\n",
              "        vertical-align: top;\n",
              "    }\n",
              "\n",
              "    .dataframe thead th {\n",
              "        text-align: right;\n",
              "    }\n",
              "</style>\n",
              "<table border=\"1\" class=\"dataframe\">\n",
              "  <thead>\n",
              "    <tr style=\"text-align: right;\">\n",
              "      <th></th>\n",
              "      <th>box_off_num</th>\n",
              "    </tr>\n",
              "    <tr>\n",
              "      <th>genre</th>\n",
              "      <th></th>\n",
              "    </tr>\n",
              "  </thead>\n",
              "  <tbody>\n",
              "    <tr>\n",
              "      <th>뮤지컬</th>\n",
              "      <td>6627.0</td>\n",
              "    </tr>\n",
              "    <tr>\n",
              "      <th>다큐멘터리</th>\n",
              "      <td>67172.3</td>\n",
              "    </tr>\n",
              "    <tr>\n",
              "      <th>서스펜스</th>\n",
              "      <td>82611.0</td>\n",
              "    </tr>\n",
              "    <tr>\n",
              "      <th>애니메이션</th>\n",
              "      <td>181926.7</td>\n",
              "    </tr>\n",
              "    <tr>\n",
              "      <th>멜로/로맨스</th>\n",
              "      <td>425968.0</td>\n",
              "    </tr>\n",
              "    <tr>\n",
              "      <th>미스터리</th>\n",
              "      <td>527548.2</td>\n",
              "    </tr>\n",
              "    <tr>\n",
              "      <th>공포</th>\n",
              "      <td>590832.5</td>\n",
              "    </tr>\n",
              "    <tr>\n",
              "      <th>드라마</th>\n",
              "      <td>625689.8</td>\n",
              "    </tr>\n",
              "    <tr>\n",
              "      <th>코미디</th>\n",
              "      <td>1193914.0</td>\n",
              "    </tr>\n",
              "    <tr>\n",
              "      <th>SF</th>\n",
              "      <td>1788345.7</td>\n",
              "    </tr>\n",
              "    <tr>\n",
              "      <th>액션</th>\n",
              "      <td>2203974.1</td>\n",
              "    </tr>\n",
              "    <tr>\n",
              "      <th>느와르</th>\n",
              "      <td>2263695.1</td>\n",
              "    </tr>\n",
              "  </tbody>\n",
              "</table>\n",
              "</div>"
            ],
            "text/plain": [
              "        box_off_num\n",
              "genre              \n",
              "뮤지컬          6627.0\n",
              "다큐멘터리       67172.3\n",
              "서스펜스        82611.0\n",
              "애니메이션      181926.7\n",
              "멜로/로맨스     425968.0\n",
              "미스터리       527548.2\n",
              "공포         590832.5\n",
              "드라마        625689.8\n",
              "코미디       1193914.0\n",
              "SF        1788345.7\n",
              "액션        2203974.1\n",
              "느와르       2263695.1"
            ]
          },
          "metadata": {},
          "execution_count": 14
        }
      ]
    },
    {
      "cell_type": "code",
      "metadata": {
        "id": "eWlbwA2GNOnR"
      },
      "source": [
        "# pd.options.display.float_format = '{:.1f}'.format 으로 \n",
        "# 2.700000e+02 -> 270.0 숫자변형 한 것을 복원\n",
        "\n",
        "pd.reset_option('display.float_format')"
      ],
      "execution_count": 15,
      "outputs": []
    },
    {
      "cell_type": "code",
      "metadata": {
        "colab": {
          "base_uri": "https://localhost:8080/",
          "height": 235
        },
        "id": "xMuaFchlNz8P",
        "outputId": "adace327-c610-491d-dfca-edc826704f86"
      },
      "source": [
        "#corr : 두 컬럼에 대한 상관계수...를 숫자형태로 표현\n",
        "train.corr() "
      ],
      "execution_count": 16,
      "outputs": [
        {
          "output_type": "execute_result",
          "data": {
            "text/html": [
              "<div>\n",
              "<style scoped>\n",
              "    .dataframe tbody tr th:only-of-type {\n",
              "        vertical-align: middle;\n",
              "    }\n",
              "\n",
              "    .dataframe tbody tr th {\n",
              "        vertical-align: top;\n",
              "    }\n",
              "\n",
              "    .dataframe thead th {\n",
              "        text-align: right;\n",
              "    }\n",
              "</style>\n",
              "<table border=\"1\" class=\"dataframe\">\n",
              "  <thead>\n",
              "    <tr style=\"text-align: right;\">\n",
              "      <th></th>\n",
              "      <th>time</th>\n",
              "      <th>dir_prev_bfnum</th>\n",
              "      <th>dir_prev_num</th>\n",
              "      <th>num_staff</th>\n",
              "      <th>num_actor</th>\n",
              "      <th>box_off_num</th>\n",
              "    </tr>\n",
              "  </thead>\n",
              "  <tbody>\n",
              "    <tr>\n",
              "      <th>time</th>\n",
              "      <td>1.000000</td>\n",
              "      <td>0.264675</td>\n",
              "      <td>0.306727</td>\n",
              "      <td>0.623205</td>\n",
              "      <td>0.114153</td>\n",
              "      <td>0.441452</td>\n",
              "    </tr>\n",
              "    <tr>\n",
              "      <th>dir_prev_bfnum</th>\n",
              "      <td>0.264675</td>\n",
              "      <td>1.000000</td>\n",
              "      <td>0.131822</td>\n",
              "      <td>0.323521</td>\n",
              "      <td>0.083818</td>\n",
              "      <td>0.283184</td>\n",
              "    </tr>\n",
              "    <tr>\n",
              "      <th>dir_prev_num</th>\n",
              "      <td>0.306727</td>\n",
              "      <td>0.131822</td>\n",
              "      <td>1.000000</td>\n",
              "      <td>0.450706</td>\n",
              "      <td>0.014006</td>\n",
              "      <td>0.259674</td>\n",
              "    </tr>\n",
              "    <tr>\n",
              "      <th>num_staff</th>\n",
              "      <td>0.623205</td>\n",
              "      <td>0.323521</td>\n",
              "      <td>0.450706</td>\n",
              "      <td>1.000000</td>\n",
              "      <td>0.077871</td>\n",
              "      <td>0.544265</td>\n",
              "    </tr>\n",
              "    <tr>\n",
              "      <th>num_actor</th>\n",
              "      <td>0.114153</td>\n",
              "      <td>0.083818</td>\n",
              "      <td>0.014006</td>\n",
              "      <td>0.077871</td>\n",
              "      <td>1.000000</td>\n",
              "      <td>0.111179</td>\n",
              "    </tr>\n",
              "    <tr>\n",
              "      <th>box_off_num</th>\n",
              "      <td>0.441452</td>\n",
              "      <td>0.283184</td>\n",
              "      <td>0.259674</td>\n",
              "      <td>0.544265</td>\n",
              "      <td>0.111179</td>\n",
              "      <td>1.000000</td>\n",
              "    </tr>\n",
              "  </tbody>\n",
              "</table>\n",
              "</div>"
            ],
            "text/plain": [
              "                    time  dir_prev_bfnum  ...  num_actor  box_off_num\n",
              "time            1.000000        0.264675  ...   0.114153     0.441452\n",
              "dir_prev_bfnum  0.264675        1.000000  ...   0.083818     0.283184\n",
              "dir_prev_num    0.306727        0.131822  ...   0.014006     0.259674\n",
              "num_staff       0.623205        0.323521  ...   0.077871     0.544265\n",
              "num_actor       0.114153        0.083818  ...   1.000000     0.111179\n",
              "box_off_num     0.441452        0.283184  ...   0.111179     1.000000\n",
              "\n",
              "[6 rows x 6 columns]"
            ]
          },
          "metadata": {},
          "execution_count": 16
        }
      ]
    },
    {
      "cell_type": "code",
      "metadata": {
        "colab": {
          "base_uri": "https://localhost:8080/",
          "height": 355
        },
        "id": "Or5WKNjnOQwY",
        "outputId": "eeeca193-604b-4885-c4af-31e3bc84a41a"
      },
      "source": [
        "### corr을 통해 수치로만 보기에는 직관적이지 않음 ###\n",
        "### -> 그림으로 시각적 #seaborn #heatmap\n",
        "\n",
        "import seaborn as sns\n",
        "sns.heatmap(train.corr(), annot = True)"
      ],
      "execution_count": 17,
      "outputs": [
        {
          "output_type": "execute_result",
          "data": {
            "text/plain": [
              "<matplotlib.axes._subplots.AxesSubplot at 0x7f67fa51b6d0>"
            ]
          },
          "metadata": {},
          "execution_count": 17
        },
        {
          "output_type": "display_data",
          "data": {
            "image/png": "[encoded data removed]",
            "text/plain": [
              "<Figure size 432x288 with 2 Axes>"
            ]
          },
          "metadata": {
            "needs_background": "light"
          }
        }
      ]
    },
    {
      "cell_type": "markdown",
      "metadata": {
        "id": "cFLhwZjjPtKC"
      },
      "source": [
        "영화별 관객수 box_off_num 에는 [스태프 수 num_staff 또는 상영 시간 time] 가 영향을 많이 받음"
      ]
    },
    {
      "cell_type": "markdown",
      "metadata": {
        "id": "l6k-c5-n10uD"
      },
      "source": [
        "#3. 데이터 전처리 Data Cleansing & Pre-Processing\n",
        "\n",
        "*   pd.Series.isna() ____ # DataFrame vs Series 차이만 인식 / True(1) \n",
        "        train.isna().sum() / 600 ___ #\n",
        "        train[train['dir_prev_bfnum'].isna()] ___ #train['dir_prev_bfnum] 만 있으면?\n",
        "        train[train['dir_prev_bfnum'].isna()['dir_prev_num']\n",
        "\n",
        "*   pd.DataFrame.fillna() ____ # Series라고 생각했는데..?\n",
        "\n",
        " "
      ]
    },
    {
      "cell_type": "code",
      "metadata": {
        "colab": {
          "base_uri": "https://localhost:8080/"
        },
        "id": "PDTlwGqAnigV",
        "outputId": "3f84d548-4f1e-4fad-ce43-2201bf4711c2"
      },
      "source": [
        "train.isna().sum() / 600"
      ],
      "execution_count": 18,
      "outputs": [
        {
          "output_type": "execute_result",
          "data": {
            "text/plain": [
              "title             0.00\n",
              "distributor       0.00\n",
              "genre             0.00\n",
              "release_time      0.00\n",
              "time              0.00\n",
              "screening_rat     0.00\n",
              "director          0.00\n",
              "dir_prev_bfnum    0.55\n",
              "dir_prev_num      0.00\n",
              "num_staff         0.00\n",
              "num_actor         0.00\n",
              "box_off_num       0.00\n",
              "dtype: float64"
            ]
          },
          "metadata": {},
          "execution_count": 18
        }
      ]
    },
    {
      "cell_type": "code",
      "metadata": {
        "colab": {
          "base_uri": "https://localhost:8080/",
          "height": 809
        },
        "id": "K2KHV2A0oqIG",
        "outputId": "df884ac9-a8e0-47fa-d5db-acced6d571de"
      },
      "source": [
        "train[train['dir_prev_bfnum'].isna()]"
      ],
      "execution_count": 19,
      "outputs": [
        {
          "output_type": "execute_result",
          "data": {
            "text/html": [
              "<div>\n",
              "<style scoped>\n",
              "    .dataframe tbody tr th:only-of-type {\n",
              "        vertical-align: middle;\n",
              "    }\n",
              "\n",
              "    .dataframe tbody tr th {\n",
              "        vertical-align: top;\n",
              "    }\n",
              "\n",
              "    .dataframe thead th {\n",
              "        text-align: right;\n",
              "    }\n",
              "</style>\n",
              "<table border=\"1\" class=\"dataframe\">\n",
              "  <thead>\n",
              "    <tr style=\"text-align: right;\">\n",
              "      <th></th>\n",
              "      <th>title</th>\n",
              "      <th>distributor</th>\n",
              "      <th>genre</th>\n",
              "      <th>release_time</th>\n",
              "      <th>time</th>\n",
              "      <th>screening_rat</th>\n",
              "      <th>director</th>\n",
              "      <th>dir_prev_bfnum</th>\n",
              "      <th>dir_prev_num</th>\n",
              "      <th>num_staff</th>\n",
              "      <th>num_actor</th>\n",
              "      <th>box_off_num</th>\n",
              "    </tr>\n",
              "  </thead>\n",
              "  <tbody>\n",
              "    <tr>\n",
              "      <th>0</th>\n",
              "      <td>개들의 전쟁</td>\n",
              "      <td>롯데엔터테인먼트</td>\n",
              "      <td>액션</td>\n",
              "      <td>2012-11-22</td>\n",
              "      <td>96</td>\n",
              "      <td>청소년 관람불가</td>\n",
              "      <td>조병옥</td>\n",
              "      <td>NaN</td>\n",
              "      <td>0</td>\n",
              "      <td>91</td>\n",
              "      <td>2</td>\n",
              "      <td>23398</td>\n",
              "    </tr>\n",
              "    <tr>\n",
              "      <th>6</th>\n",
              "      <td>길위에서</td>\n",
              "      <td>백두대간</td>\n",
              "      <td>다큐멘터리</td>\n",
              "      <td>2013-05-23</td>\n",
              "      <td>104</td>\n",
              "      <td>전체 관람가</td>\n",
              "      <td>이창재</td>\n",
              "      <td>NaN</td>\n",
              "      <td>0</td>\n",
              "      <td>32</td>\n",
              "      <td>5</td>\n",
              "      <td>53526</td>\n",
              "    </tr>\n",
              "    <tr>\n",
              "      <th>8</th>\n",
              "      <td>1789, 바스티유의 연인들</td>\n",
              "      <td>유니버설픽쳐스인터내셔널코리아</td>\n",
              "      <td>뮤지컬</td>\n",
              "      <td>2014-09-18</td>\n",
              "      <td>129</td>\n",
              "      <td>전체 관람가</td>\n",
              "      <td>정성복</td>\n",
              "      <td>NaN</td>\n",
              "      <td>0</td>\n",
              "      <td>3</td>\n",
              "      <td>5</td>\n",
              "      <td>4778</td>\n",
              "    </tr>\n",
              "    <tr>\n",
              "      <th>9</th>\n",
              "      <td>청춘그루브</td>\n",
              "      <td>(주)두타연</td>\n",
              "      <td>드라마</td>\n",
              "      <td>2012-03-15</td>\n",
              "      <td>94</td>\n",
              "      <td>15세 관람가</td>\n",
              "      <td>변성현</td>\n",
              "      <td>NaN</td>\n",
              "      <td>0</td>\n",
              "      <td>138</td>\n",
              "      <td>3</td>\n",
              "      <td>868</td>\n",
              "    </tr>\n",
              "    <tr>\n",
              "      <th>10</th>\n",
              "      <td>AV 아이돌</td>\n",
              "      <td>(주) 케이알씨지</td>\n",
              "      <td>멜로/로맨스</td>\n",
              "      <td>2015-07-27</td>\n",
              "      <td>89</td>\n",
              "      <td>청소년 관람불가</td>\n",
              "      <td>조조 히데오</td>\n",
              "      <td>NaN</td>\n",
              "      <td>0</td>\n",
              "      <td>0</td>\n",
              "      <td>4</td>\n",
              "      <td>745</td>\n",
              "    </tr>\n",
              "    <tr>\n",
              "      <th>...</th>\n",
              "      <td>...</td>\n",
              "      <td>...</td>\n",
              "      <td>...</td>\n",
              "      <td>...</td>\n",
              "      <td>...</td>\n",
              "      <td>...</td>\n",
              "      <td>...</td>\n",
              "      <td>...</td>\n",
              "      <td>...</td>\n",
              "      <td>...</td>\n",
              "      <td>...</td>\n",
              "      <td>...</td>\n",
              "    </tr>\n",
              "    <tr>\n",
              "      <th>593</th>\n",
              "      <td>낭만파 남편의 편지</td>\n",
              "      <td>퍼스트런</td>\n",
              "      <td>미스터리</td>\n",
              "      <td>2013-09-12</td>\n",
              "      <td>97</td>\n",
              "      <td>청소년 관람불가</td>\n",
              "      <td>최위안</td>\n",
              "      <td>NaN</td>\n",
              "      <td>0</td>\n",
              "      <td>5</td>\n",
              "      <td>3</td>\n",
              "      <td>1132</td>\n",
              "    </tr>\n",
              "    <tr>\n",
              "      <th>594</th>\n",
              "      <td>오빠가 돌아왔다</td>\n",
              "      <td>(주)마운틴픽쳐스</td>\n",
              "      <td>코미디</td>\n",
              "      <td>2014-03-20</td>\n",
              "      <td>94</td>\n",
              "      <td>청소년 관람불가</td>\n",
              "      <td>노진수</td>\n",
              "      <td>NaN</td>\n",
              "      <td>0</td>\n",
              "      <td>37</td>\n",
              "      <td>5</td>\n",
              "      <td>1958</td>\n",
              "    </tr>\n",
              "    <tr>\n",
              "      <th>597</th>\n",
              "      <td>살인의 강</td>\n",
              "      <td>(주)마운틴픽쳐스</td>\n",
              "      <td>공포</td>\n",
              "      <td>2010-09-30</td>\n",
              "      <td>99</td>\n",
              "      <td>청소년 관람불가</td>\n",
              "      <td>김대현</td>\n",
              "      <td>NaN</td>\n",
              "      <td>0</td>\n",
              "      <td>123</td>\n",
              "      <td>4</td>\n",
              "      <td>2475</td>\n",
              "    </tr>\n",
              "    <tr>\n",
              "      <th>598</th>\n",
              "      <td>악의 연대기</td>\n",
              "      <td>CJ 엔터테인먼트</td>\n",
              "      <td>느와르</td>\n",
              "      <td>2015-05-14</td>\n",
              "      <td>102</td>\n",
              "      <td>15세 관람가</td>\n",
              "      <td>백운학</td>\n",
              "      <td>NaN</td>\n",
              "      <td>0</td>\n",
              "      <td>431</td>\n",
              "      <td>4</td>\n",
              "      <td>2192525</td>\n",
              "    </tr>\n",
              "    <tr>\n",
              "      <th>599</th>\n",
              "      <td>베를린</td>\n",
              "      <td>CJ 엔터테인먼트</td>\n",
              "      <td>액션</td>\n",
              "      <td>2013-01-30</td>\n",
              "      <td>120</td>\n",
              "      <td>15세 관람가</td>\n",
              "      <td>류승완</td>\n",
              "      <td>NaN</td>\n",
              "      <td>0</td>\n",
              "      <td>363</td>\n",
              "      <td>5</td>\n",
              "      <td>7166532</td>\n",
              "    </tr>\n",
              "  </tbody>\n",
              "</table>\n",
              "<p>330 rows × 12 columns</p>\n",
              "</div>"
            ],
            "text/plain": [
              "               title      distributor  ... num_actor box_off_num\n",
              "0             개들의 전쟁         롯데엔터테인먼트  ...         2       23398\n",
              "6               길위에서             백두대간  ...         5       53526\n",
              "8    1789, 바스티유의 연인들  유니버설픽쳐스인터내셔널코리아  ...         5        4778\n",
              "9              청춘그루브           (주)두타연  ...         3         868\n",
              "10            AV 아이돌        (주) 케이알씨지  ...         4         745\n",
              "..               ...              ...  ...       ...         ...\n",
              "593       낭만파 남편의 편지             퍼스트런  ...         3        1132\n",
              "594         오빠가 돌아왔다        (주)마운틴픽쳐스  ...         5        1958\n",
              "597            살인의 강        (주)마운틴픽쳐스  ...         4        2475\n",
              "598           악의 연대기        CJ 엔터테인먼트  ...         4     2192525\n",
              "599              베를린        CJ 엔터테인먼트  ...         5     7166532\n",
              "\n",
              "[330 rows x 12 columns]"
            ]
          },
          "metadata": {},
          "execution_count": 19
        }
      ]
    },
    {
      "cell_type": "code",
      "metadata": {
        "id": "F6Ta0Q0hpQc-"
      },
      "source": [
        "# dir_prev_bfnum 칼럼의 수가 NaN인 경우, 관객 수가 알려지지 않은 것이라 판단\n",
        "# : 해당 감독이 이 영화를 만들기 전 제작에 참여한 영화에서의 평균 관객 수\n",
        "train['dir_prev_bfnum'].fillna(0, inplace = True)"
      ],
      "execution_count": 20,
      "outputs": []
    },
    {
      "cell_type": "code",
      "metadata": {
        "colab": {
          "base_uri": "https://localhost:8080/"
        },
        "id": "1fSE9h3oqG_S",
        "outputId": "2dc20932-234e-4bf9-ded4-f9f7c4879542"
      },
      "source": [
        "test.isna().sum()"
      ],
      "execution_count": 21,
      "outputs": [
        {
          "output_type": "execute_result",
          "data": {
            "text/plain": [
              "title               0\n",
              "distributor         0\n",
              "genre               0\n",
              "release_time        0\n",
              "time                0\n",
              "screening_rat       0\n",
              "director            0\n",
              "dir_prev_bfnum    136\n",
              "dir_prev_num        0\n",
              "num_staff           0\n",
              "num_actor           0\n",
              "dtype: int64"
            ]
          },
          "metadata": {},
          "execution_count": 21
        }
      ]
    },
    {
      "cell_type": "code",
      "metadata": {
        "colab": {
          "base_uri": "https://localhost:8080/"
        },
        "id": "0LA1uAv8qWRc",
        "outputId": "2e79d396-75c2-4353-bfc3-faac8cb67df9"
      },
      "source": [
        "test[test['dir_prev_bfnum'].isna()]['dir_prev_num'].sum()"
      ],
      "execution_count": 22,
      "outputs": [
        {
          "output_type": "execute_result",
          "data": {
            "text/plain": [
              "0"
            ]
          },
          "metadata": {},
          "execution_count": 22
        }
      ]
    },
    {
      "cell_type": "code",
      "metadata": {
        "id": "jCaCLg1nq0m0"
      },
      "source": [
        "test['dir_prev_bfnum'].fillna(0, inplace = True)"
      ],
      "execution_count": 23,
      "outputs": []
    },
    {
      "cell_type": "code",
      "metadata": {
        "colab": {
          "base_uri": "https://localhost:8080/"
        },
        "id": "A5Y2Lp3vq4Z4",
        "outputId": "976f6abb-62b6-4d52-ab0f-1b45bc307ef7"
      },
      "source": [
        "test.isna().sum() / 600"
      ],
      "execution_count": 24,
      "outputs": [
        {
          "output_type": "execute_result",
          "data": {
            "text/plain": [
              "title             0.0\n",
              "distributor       0.0\n",
              "genre             0.0\n",
              "release_time      0.0\n",
              "time              0.0\n",
              "screening_rat     0.0\n",
              "director          0.0\n",
              "dir_prev_bfnum    0.0\n",
              "dir_prev_num      0.0\n",
              "num_staff         0.0\n",
              "num_actor         0.0\n",
              "dtype: float64"
            ]
          },
          "metadata": {},
          "execution_count": 24
        }
      ]
    },
    {
      "cell_type": "markdown",
      "metadata": {
        "id": "iWeuXovE5JnE"
      },
      "source": [
        "#4. 변수 선택 및 모델 구축 \n",
        "Feature Engineering & Initial Modeling\n",
        "\n",
        "*   model = lgb.LGBMRegressor(random_state= 숫자, n_estimators= 숫자)\n",
        "        LGBMRegressor 설명필요\n",
        "\n",
        "*   항목 추가\n",
        "\n"
      ]
    },
    {
      "cell_type": "markdown",
      "metadata": {
        "id": "dQ2ifSSJ5z1-"
      },
      "source": [
        "X (상영 시간, 영화 제작에 참여한 스태프 수, 배우 수...) -> model -> Y(영화 관객 수)"
      ]
    },
    {
      "cell_type": "markdown",
      "metadata": {
        "id": "BTRqeXbGt66z"
      },
      "source": [
        "훈련 시, 사이킷런 : .fit / lightGBM :  .train 으로 다름 \n",
        "\n",
        "그래서 LGBM\"Regressor\"로 통일"
      ]
    },
    {
      "cell_type": "code",
      "metadata": {
        "id": "As-GoPEnrTwU"
      },
      "source": [
        "#import lightbgm as lgb\n",
        "model = lgb.LGBMRegressor(random_state=777, n_estimators=1000)"
      ],
      "execution_count": 28,
      "outputs": []
    },
    {
      "cell_type": "code",
      "metadata": {
        "id": "W3LtgLHZs8dc"
      },
      "source": [
        "features = ['time', 'dir_prev_num', 'num_staff', 'num_actor']\n",
        "target = ['box_off_num']"
      ],
      "execution_count": 29,
      "outputs": []
    },
    {
      "cell_type": "code",
      "metadata": {
        "id": "smrb8GY8tLP6"
      },
      "source": [
        "X_train, X_test, y_train = train[features], test[features], train[target]"
      ],
      "execution_count": 30,
      "outputs": []
    },
    {
      "cell_type": "markdown",
      "metadata": {
        "id": "E8t_-ZVWv5Pf"
      },
      "source": [
        "##5. 모델 학습 및 검증 (Model Tuning & Evaluation)\n",
        "\n",
        "*   lightGBM (base model)\n",
        "*   k-fold  lightGBM (k-fold model)\n",
        "*   feature engineering (fe)\n",
        "*   grid search (hyperparameter tuning)\n",
        "\n"
      ]
    },
    {
      "cell_type": "markdown",
      "metadata": {
        "id": "sf_EW_PIuaaF"
      },
      "source": [
        "##LightGBM\n",
        "\n",
        "*   부스팅 모델\n",
        "*   기존 모델이 못 맞춘 문제에 가중치를 두어 지속적으로 학습 이어나감\n",
        "*   타 부스팅 모델에 비해 속도가 빠름\n",
        "\n",
        "![다운로드.png](data:image/png;base64,iVBORw0KGgoAAAANSUhEUgAAAWsAAACLCAMAAACQq0h8AAAB+FBMVEX/AP9mAJnMAP/+AP7LAP9lAJnMAP7////y8vJhAJf/0v/10v/j0uy+APH5AP9kAJvOnK1eAJLy9fHmnfvz9/HVWPOlccL0+vJhAJ3uyPiql4XOobLNtNuqoYb6YvGlf7KJUqbz8PTNVdqOY47QLPn5avDRN/jcg+rXY/Hgefyu0wDngLzNcdibba79K/r7TfWVZKyPXKl5LKGtjLZ9OaLUUfTeiujx4/X8QfeFSKXoxtv6WPP3iOrade5tI474eO2FWpF2JJ/TSvX2svbmv935efnPvsXyv931m+Xzs+DSLvfluN6u0ByHbmp5M6CXl1GgrkGktjj3m/fhouS7oLy0mrjipePbeuz4guzGscGNf2PgmOXrvvi8m9DHMd99U3nBo9OboEurySm+eKPDVcNtGI31l+bpzdrWy8j1oeTjq+G2pmnAZ7S9gpq6jIdwLYqBYXPVweDJ2HyziMrQ8W91PoWTlFu0slucf4rCWb2xyDqBWXDsSNDyNN+5mHzps/i5u0Z4RH7d2Mq/ba+2oGyLdmWRhVe6kIK1rWDHJ93GQNbPxo+EZm20sYPPsJynr1PG0n7NXty25Qv7/9nb27ufiYnhZbXlWsB4PpTWf5qKYpDTiZLT63rEpmjOkYXInnXjYLnVzInOlLy8qkTpUMfVgprOo6vAZqusSAOjAAAgAElEQVR4nO19+0MTV9p/ZnJmyizokBAgui4QG0OIS7gFQuRiE5QqRCQKIjfRKBYviJaiNV7wXmXtdtd929rt7d13u/v+m99znnOZM5cE7Ha7P3zfUyHPXDIpn3nynM9zO+N77//GrzV8/+n/gf+Pxv9h/esN32/+U6P6PzVq/lPDV2b4nZv4Pzx87If88rkFeLEEXwVhN/oPjV0B4z80yiPt91sCyICoJMl7rEMUUHp3JMFvF/y+3TpSdVUn/2QBMUEayLa144FsAhJ7dgUUTVPgRwial2Bo0h6NCuQYE0FQlB0IcDJ+k5cSM1gcR/xir58JVEd9/n4fE/x+DqhL8DmF3QRU/J9KYSbwUkGnAv6tIvIbxaIqPY/uVEEkW1Hk2EPgdAqqU8BYVx4ae82UOWQoWjaruQ9KJ2meggfQ5Qc7tanJtrd/xDrB7xCkmyYJRNzNoAaldgkSuGi+FVHQiV7qIKvEGORaEbyKQ3CT6C8qqF57AGuu1ELrXIKmjCoGaKVhaPCbHMPiRI9hNHcZRIY9hnV3thG8DHMZmOFfcoBalGRHkmz29zOs8abfZjp8luBxD3z+3ez7zewFYrqnWkqoUwHN9+ViBND6HIYU5XoJvr05RPQa6fXkEMrVM0MDNogK7P2WwK64K+AJhFsVR1NdWIcNpSVlYERbMvh3tiurdI5OKFmMcXdXlgCO97NbpHjdNEUSyiqwEy+KUtOes6d8Rw/7Tu05tWfQ5184dWqBYO3fc2rhFFd8YZt9dsF+4d1e33DdwloIqO+jvvGrCM2fvnoEoSOn5w/p+kfzV6+i+jOo9aPTR84gNH5m/iNhONTKwvY2hI8nUz1PMkbmSc/srJF9Mj21YrSs9Ewps0+mlelmY3Z0aqXZUFam8VFNvkvl1Vtg60KJ22RpUvP5Th3FEsZ6BOvzHl8TxnckibE+ewBvSnrsfL+HsFvlX2onuOKbz4z2/AyGmOiwPl4fn8fI5lqxVTmi955Gp3uJEMN34moOiW+CU9BlYedYjxpGatYYnTCM2cxUu2H0NPdg80H2GRhrbGGyKwbZM2pBWnnI2red6SamY2ThqE9gffQow3pk5NSp6n4JZxe0LsONeYiOgGPoqltAHBm8g9jr0736maunP2qbmSFYn65HKsW6ntwGcgMw1oxo6KqXYN1LgbXjm+8UsL3WsqPGCrYTPZ2zGPHOWWVqtMfIMKyzRveoMduJsa40UTqw3sGQrLh/T5Ji7d/jG+B6feqoP+kXqPpkeDnHc7JsgjXYV8QEJAt0BqSTYB/GejxafxqbkTby+6qk14B1bByhMzlgdZzoVRAsrDX+3fcS8NyIbfIswdSYapntMkCHlZVuG9ag19ntjAe7KkPD77dBapE6ts39mANnD1RTG+LHWPtHjp1KE6yT1UePnhJv8RCYKZLg361SdgG6bON/nI/QPXji+6it7wiKfjQz9NGYfuTq6Sc5/aPTZ57o2F6fjiP9UBSNj88/ySHV/lZL0PnlgVBSHuKFim2fZsxOt4+2G50r7T0rSupJc/MTpb2n/YmSXWlXpijWKxj7qakn4vtQ4VuiAQ+xqIH1lXcxYq6Y/gNHMRdJ+jrwng58ajI5kiSC/+jRZBkX0e8pAOfjACCdk2xJEBQbxWbi5H7MzJDbEouOYz6Six7Rozn8gtRe/C2IRYW9RsJMI274ETcfcIzrtQfadsnoaiYMZKK5E/s12eZ2TEnam7sNI9OsZCaMFvy+FnwglR21PBcHuHZB2JAdsWzXSU0DR/e8Az+Xx25Vdgfd06M0EP3+w0u8fgjzkKH61nGyicBIo3gc7yx/qTL2etthME5NeAbl0UQkv/AL2Yl/2rt6Zo1tTAgXdowNdxZtQtPg4aS8x/ZdqCSU8WWQZDu8BAzrfGsU6UPzM8LfgZ19MWQ/sbywc6x3MLTm6eadTo2Kt77++webG9VfNewEd5RhLQeFtH9TsElclxoT9qcfPny8/1D/8cODVwY+7P+w6fKVDrx1YPBYE94aOHa56cPkhwOXLx843vFhx5XBA8eTh/DLYbJ1/OxZ+s6zsAUXSH54YPAK2Tpwmbzz0MCxY/Sq+J39hwbOwifuBvOJWoeu5g7lrva1HRk70nsab/UeiY3PzIzH8M6Z1jO947HxeN+Z3KGx8ba+0/XjufH4/Hwcn0te8Fb96b628bFDuTP4JXek/kzrDL4cvcCR3qtDrad78bltffAZ2Oojrtea0dWDmVxqJTM13bWSHe2a7mmfzYxmZnvaR7tHM1PNZCs129yMT4GXFnysvWeqBR+Fl8xs5/R0J97qmp7uGs2Mdk3hC+DLkQukRlum8FsyKxOjzc14q6sHnH1uQ/qTv55G+5kvQ+c9nSud6hZU/dX+u3f3vyLG5RfQahoOoHqtTXS79E+8hI3A26Wb9zaWjbBZVlc9tsoMhVoZjRGPwx0eiEiCzSH0FPw7OAeEA4fBbEM8REczMW5LHS47fr17LZ8vPHpUyOdfXt+lOqOkNqHCUZ1HVVttet3ZZfA5S5EETTHDw3OFfLFQKBTzpdsbpmmdUdkwl5sZ8VfIYPYacDggO31ux287AN/F4CfpV4jyEDQ0Vg6k66XS6laU8Lfo1mqp9BRmTu6R6NzX2YGAaEAKE0Oi2xC/JgC0GJ5c2Fy+nZ888RYLpjJ870J+ciOs2SDclpm7hGwK+AyP87ltiAtSR/DfWxCxVPlr4bcJA00g7wYmjXK6FYFTrZCGqr/MPwXx3N9h83rxTtQ7Hi0EYXk8yAdBPt4r25DUhCcu4SWMrmmaGvENMd7DtxNzpk2fXeE7xQgEApQYug4Rwci0GzLnGxxwAO2yDHKa5l0FvyT4OgZ8NC8DNGQ+hnh6QLUE9VXx5S6GEeNx+rP8OdUbZRbXzrXOb9YNRbl7L4e2gIHU58BTp1gbze2GhyaGTyROmKalwZoWflu8UMF4aEYgu35+3/nFjBEoc5aW6eQ2BFBJWlbg300A+6m5YjYkqnuZkFf5G7rYRdNX8/pq4pw9oYX4W4hX2ZpubAzh/xpr2hDysksoF+N6TUDMuoLWWAfDz/OPw8yYaDQQrc1dKE5avp9jGEZDzXuhIB6NkcWs4f6ekN8TLRLWoNeWXfa01zsY3hZEXJaNpgMUa+rAYCdE59OXEHYVnu0CHdQpGwELoKurxTF2Bk2YWQLqTTdW4VEXqqoKNu6JInY3dNUS0FC98NGxb93ebsjfdkDWXEo8NhnERLnxL/Pxm8SLwu2w5hmfNrK3QkH8kefT+MODkQZDcdw/8ttoaWb2milbUsLDAyoXZBWEbYY1N0JGRbcpH315du3iZ1SK9pJ9sS166NpLj5PJTYlHggTqqnpAPJSOySrPhWhUtdlrl2utLedvnjxJYxhrSwStx8vmcDGxNJy/GfZQWMWYSMPnBtfT8PFV6wEvi52d0ATWfspDbHTCPTVuL1jRQsce223DnM8HfiOgjHmIM8Kv/jkxpkdBy1Fsnrjtly4y5PN3VSmLwKgGnmCryJ9MFLqmEaR0FNHsvEqTYNRtihNCX4GHhL+4EH4xByiFL+Sx+TVfbGBesqaFX+cD0qk81GRkKdShdGqxioLeEBBZTGF3JM5HAeCcr9L4ZSy50GvQtqGo6hqFVUtxufLS23Cx4BWb0tPBYCjUWB2vi7TGaxpDoWBowaPOIRqVeAjF2jbMjcSySeg08amHHxOYTGxLCOUzS3Nhl63WjH3BKvzJ6Yb1yK2WfVgMVkW6nVdVuF6L3G4H53wOffa/M8JljIsw/8Re09gTJMB7o/ZcGP7ZSgAFQfoZruj4zGf7AafiJT476kzAClzXGFxorauvi4TwDDUUr2utDjbWI1XKNwC/xvaa8WtiJFIpu+nFunzyZJhoo9GJ7atmMpt7+wXeZd4ruqdGo6WqqmZ9vaEhEsLfqVup9fXzweCtgNOCcHst9PrsgAOgd7fDlZCWhQ76UbtVNjcKpeXCjWdsI85etwjK9JyHD13qivR0VbBtobpuaA/W6IW2zeq6ulBwj0uxgfNZet3e6dBALVB8DD6ilqIqj914TXv7JhEggOUfc//RotW3gsF9i+ma9cVIMFizfj5d04AVe8JwYq2lOOejmptMurBx47xjN7y84KecD9vx3VTjYsIjF4AXrnN06EvsoWU47pbcWMexWrWlQ6F0Xdtm23wkFNqD6UjIbWxyMQlrrdseCsW6u1HEu4i7qFFojGai3ydeE5DDk3OmYj9fUyJVwX37sOGoaVgEvCMY6+C6y4jYOJ+f+zL+ynrtqeFenroj1m1zLWFu9AvON884H7UfiJQ4JV5hO3JJ1nQmIEK87fYd+/CoDrCm/CNCSB/BmhgRewQckeyOyMtwzqewxEnADL8uEABP3CPWI0zsNqQfiWBq4bkLpmRyNC1rGpkgYI0/sKqhhkyNgPUtw2lsjBZ7PMTlo3u46O8oOAy+JSSpvaa0OcaTXVSRa/+wNZbAG/vvcqCtCiYUv4p25V/Z3Jk/f/x7fTNIscYWpL4RqxlgHWpF9uQXdZuQpdfdAjc8Ayof/07BcGrm3Js3G6YWuFB8bSocXPPC4/DNgqlJw/z887cNIYo19mPW8ezMsK5xT44szsdyu1ac7+fz5p3eCMr5uL1u5fb6ei0Zf/jkkz8mLLXFZE/n+XHM7/A8WvxjrTz+iM+vBqyDVZubm7HNzQWGdR3L8zAHHv8Qzmf56J1dVAHNT/eS8d0nH3+BPRbzxJvEmmm+fpMoBqyM4XLAXCrutY0/ffLdShXBOoRt9mJmfXExwrC2XExN4nxSPARzPr+Tdby7alsJc7vglwQ6NfghL6MD56M1krUQov6fP+x/ldAR10bsxMBuqG0ATQe9RiyeraI//+n3+gKxIdXpmt49ZGC3hum1zkN9VCA1mMiyIYLzmWQof9qbfXGSqPLSBnEWE28K4DZyp9JcKoVNaYQ//3wD9Hq9piZTk8ZjvSbI9NoZ9tOyKUPO7XYkbYhu48m4nXjPwl9PgcT5qL0GF7w3CgUL2HpA5cIY/peIynlDPPdxc0DsM8ZatuTRXdRe17Xh0UjGDMW6Mc7LKYW1b+uV7DXmfJoMyLAZnvvCVKh91rSl58PYJp8Y5q62+XqS2xSK37BmpLDZSC8uLqaqQtiMnK+her3PcIb7ysf5ZJPxyzgvjtFBzRWLPc3HGIq1AtzElp1nxKDM5hyAtpV38QvUhh1z7FJExgjebfVB4CGNupP0Yc4n+zIiHiKs9r0ShUajyq6EX7y5gAn3Gjkcvn3SwUPwWRHiKWJj3UBGJg16HWK4WnfRxvngi82dane8yC9sw44Ev6jOLiNgzkcEmpfRo7xespb5M7r6kriN0f1Ce2nB7/fniPz0C6HSQtBZMIQwARgLmF9Xc0dGFR6NnfO5Sqi1tfww8aw72aSJLUnpJgZ4krjnZuG1HWtyU/bRz8X+YgQbkZqamgb8f+C8rI3zAQyDLl/GY/wr7NqaCqw4n12vhR4+LRA1psEn/UhUlOSRnzurqkRNGD+Zb2RQh3LxejIWQsKEWDeGxvmcei3bVYynZrT/5YlBzPmsoZhhoH8a3Ic1t9+Y4rc4uN6AbcniOvbTz7srIiy/kSLQnxRYeMMt5VfEedsJXvVmfG4EzodonA/c7VqVh0B3yUbEbjLOWeZaMg56RGANMexQMFTtLvRBY7Y430S3EzzzecHEAD6ZNqSQKB3hF5MutcYgnmdfqNB6GmLY2G3MynePCdkUj/NRB8OZ23Wp507HthpOc7s+ntsdY3pbayWvHr6EHI1OS8aYAAG7h8/YHsQPgZHBniOMdIzFOCMxpPMCHy4QX8aq5+M8RIoza4H8EgZbMyS4aLkTPeIamlJDwY5kFtndzngkjA2oWVBsuV0bAfFCsBwFEYKojbQEdsgvBKzX8I7dVKGHoqx0rxaoMIA6lrjLfRC+a9ffCWL7SWaG7uFdGzQKPgNWJLgHVUNItaoenFHEXUeaOohGQWA2pKXFNYmFnxdZSkAj1gNCr51PsAEOn5wMSwgLlmEoNfQup87Tz20QkSdNOjU7YbDaSfivw8oVlIG7jJq6mZ/PLwmW8RFwg70GG0L4dW+UedK1Ko9LI/U6wxT19SLmOxLbEU1cFEbaYbLjxDnHDgz53ZiOITluyM8ZqofdIs6nWSgzwZychFwj9huZHhtdK1ktfCK/7KHW5LBxHgLXaWzFgqGalIfPqLjjfB1e+ap3NSA7yCcA5wMbQgEQhXi1sm29UYJbgOrHaMkk1e1HD1XEUwX2hgGEopsRbKjxv1C6Tue1fZzjUGtE+m10vUycjwIfKL6A3Ndw8QSJYwOaWnjJbUHELQpk9sFsEYrUrGueFScS56OQJh3xkJ8N9/ZD5HbBSMR0wa+Rhbb+rHiO2xDUR3nxq8JLoaiqS8Bot80v7Fmoi+sibm3PuqPemJVv5PEQR3LQfFs8qZjMCmSnITyKtfqE6UDYYuXEoLeP/tdoQ8rwVGpF5nwUzMEBn1Qk7ROCT4TqXP6330MQNfHlBcgV8L4Cncf5gF9zNSU/qwkaWSUVv0D7ruc/Y3yCh+4k/xs2pdI0JJW8cgHNcM4HHku72+kgYA8XCmthE5Lo2U6SWQ+c9JwXCcymqQ3/9dMv9376wVqgLNJOG+J35nadXM2jzsOKcfDjwg/yc2boLfAcGHzDY7wnrlZFkh4i9W7+0V2L8O1/lOBR7XKava0QpbIzzmdXV1O5nTi5FmbBj3Dgeb4w7IIaYM5+8OXevV9+kApopmZVyXvdFSvOB/Ac7rBw+tfGzjkfKGArs9eI22vE1FnVLxYTz57uP3du6+mzfH51FwetclVf+UHifBbWvJ7PjUx47UKidPvextuNpblCorAUNiXUQJsDKQLz3veXNVOu2ykn2HK7+E9v6pdQsRmMd8DSc59rl1WzAAGhKGs9rFXlflKK+59vvCzhcefGJWZyuaq6BYp5BYH4MhDDkjifN0RaePn1yUKxWCx98ZyUTvKUOEFWefvXT/d++en7ayRiUlGbpSFyuxQG2oXr9BxB6P/pq4Nfff2ARkJ9giZ7CDwg4hR8kgD1fMD5KIGgcT6KtWgl5c3/uv7q0t27lyDs5Kr34GWUSC8rsOi1Sq15W68q5WUyFkFzQqaFw8rG0r17j4fBS8dG/C3A/D6B+a9vFYpyBU12CNheU1+GgmWre5Jekt88ShTvvHz5KJ///uttUC4r2IPYJM5H5kaIoWLOR2cvVAtxbCuCgXdeepZPFAuPion8y+twB8TU+W4CXFYnnE/4jQ7OJ6ONp8MThXy+VCjl88WTjzHKGx9//ldsND794G2AGGphnb3XVVCcgpbqAq+fr7OQ9Pvs9gI2kj8k7nxFPUr/g2/zpa99v8CwOB8J9kcZsKiWl+gBh0AkjZt4uB9CGLu2buRJ1aqTeHBBwFlRsNfzKRDnE1ZA446NZiovEqW5DWVpydSW711IFB7/9bvvPt4YpkaDL2bBPHhBG4Wiex3ieXkGANVrG5Pw+X5KvHwAR3/4CnYeTHyfrOivuHxKryCU5TeqNM6HuA1h3joI0ZeJi4zjHSF+zfXio3PbzH2qVRJsH+w6FeJ81jCXiqUlbDrChQKx0OFlTEvefvl5RdNMOwzKH3b4jV49HAcTXznQTL589EAg6Tn8/QNHDwxUbAhJ8twutOzGoJUUER7CBMBmq/hybIyF+1h47mHikgeOFtRIz8Xb4jndE24yYtvE+cgIn0jMaRALGR6mWhneKBUC7qInCWglRVIF2bJwa9mUNDfy3K4wJOT3t/n7EuUGlL72/VB8IGPtEPyDNZFQY2Mw8puj5T1+K7dLEGI9HCwvw3nIVv4zVb30VCTBwY5fJGBbnqAuCwj1LqSD2EevSm/GELKdw94PNQuWj+7J+cLPE/cYrkKTzcBkabmc1mqB7vPpqmAoWBW51VDGn5FqFmA09Tu19avEA6dGPvgGm5NieTp3NI0/M/ibdDAYDNV4FAj6HXpNDG5bFEE7Acca0ImWPhPaeE4Qawx2OTOC9AVSNFBFyhdCVXWu/BeMMVs9X4urno8YkMQShtrkUT4BdsF0g01DroskKRS8RWJPwRqPYj4ybJzPJ+J8wkvsf/PT9w/o9n2A7SdmGO78aLmKdm43AjWioVN7IL4YPFBG/2lehq/V0ht15RtV9dkdi2j/uAUlwTAePrITcAF1LB2SaoIbqwXX498C1WWvMykXfFogcYJA/fyLt9Ixo7k9UPQonSSHlFshqSY4GMl49ana7LUf4nwcZTpe/ihykN/8RH5/y9Q8mfjJW6+P0Rhy1eGRkAS2m2H389wuYdEQ54PFLWpVRoyReinxCvIB3BPZv0pseTSGdpVIUJW2rUsCikZYbS7UPWGhmh3iPe8QD6kXsSeNcz5KFhgh0cIXCmHMNJbfvLmAXfDRLN5JavlSKfNxYs10sRb8eoulJhpusQxNynCewzkf4yF+R5wPb99PJF1gMuHbO26c8TjaiK1WqGrk6Mipo78JhkLBYCTpcQGfhTUQhxirtUE0zgftF49WqRzX5ZL1eB9Srxd3cVcRWYJegz8t1JhundnTVgfZqMZNxM5hEQCw6DHPuicxzLeJDYjxFXhgz7xdCoDXGJ48GRaGw1LYxSAkds833Fpcr4EcWNrtGCkMa81WsyBiTj7fjz/S1/8+aMH0gO5L5h9w/Cyl9fnTwcjICEY6EgqlTx0dGVkIhkY8bxbP7VIM+1hcH/xGiutWYgyC1+gqr92j2kv0vHSdRa15FA8CeI3B6s3N1pkafLerZ+o2N7GQQzSWpYsryD0cli8juXjh25PUIQ+sMRZt3pxjwuO8e3o0UpGq9L59GGmMeHpxfd++W165Xc0rt8vQ8wOe95kSPmAUhNju+1R++Q8PtT6M/96BkVMDC1i5gyMDIyP9+FvFLyruDVyKppF3AwKsTlWX7fWNlzrXWDKjvZQN741rPBytCoGUurfVbbbNpBuDjTVtM5utdaHQgtUNxidKK86neXE+TSneNOnaCiTeZ9IyEX6wJNcs0Hca54PBfQ37FhvI1yqy2LDvfEvQs2YhSz9KY3Ad7pDYHjYhEtuQdRr2HrxD74qfwQfeeHUwWD2IKdexpoURDHiosQPPUafEe/yWIDgfuOY0ziewJnCUrutS6E4/x60IGX/2qMWppzXBGObWGgJ4YzWphHLX4tjjfO1Ozmdu5IexDq5Ab4d2Yo53bQDdDt++4A5ip2k9H4a55jwBHOqeGlxcxNnD0dRvU9ODL/Gvr+/b8ebRj/slu68CtTyRqmD1WTwxhaqOngrhV4J1cI/P4xsgx/kQSQQA5sReI1rbmLi7ymPZiOslR3iMTJusoZEJoiY42Fgdxaot1wTbAn7Qm2TF+TKiQ47lZG6W8O7Rv5BlycznZH6EomDz3nMTs8CbJXvQxIQaM1oTHIpk9ok61X1u3sf0mmPtcPW+JWr8030PpA5+4+vPO7D+49d+bDEw1o2k5OrYbwj3A6zTTp2G28p6OKiZqI8yfaZ6fTGmnku82k9AudorJcWIlw72orjfpqz113W0ybG21QTPuPTayfmcej03iWGf6CHAhF8kEpMkU9iNHcgNzXy89LgYwGbFhAJizTTXbioGrwnGH1yxJtiZlzlr79v94QdL/pFPhdzaJvPfHLSNjz/52yD+RGxDgumFhaOnFhbSgHVVZBseglW5j5IDpNb+Ho+hj7/77d0EVeUo12Ua5NBXyV3RS3CeGP/zyd9+v4fVBO9ZWIjtWai2aoIRC2dRxcacj9lrmgOz5XY1biaop60NTxYeY+M9jU+CstXEi+L7H0jj0+/+dHOdYV1z61bLvlu3aE1wVY1HbrfLZkMcfbsCa7zxwB5lBSKS7E8m4Qd+ffy3rwdAr4PBs6cwGRk5PBKkeu3E2Yk1j/NhoXY/Hlsff/LHuwndMtDkMBrqs5I1pdX98rj4ycfXF2iteyS3ubmwuRmXat1lS89yu1bfblaxsRCGNa2eMUgXqaLQRT6xO/nmze3izfet8dcvv/vuy3bAuuq9hn1kNIiaYBvQEufTGBRWnA+A+OZ7Oz6++5LD/qDosCH3qb1Od3QMJCOkLneBYV0txwD5sPft8h4OqL9W0f/E1FeJqDAe+t+JLkatrn89z9pKGYJbT3VaE5zrzbGa4CqrJljnlIX3gelWPKTZEefTzOesOASKeGnjLt5aLhawzX4NNoQPzXz7pUJ6OKpqMplMd5BUS5xnWN8y5DXSNG5DNIXmG6EYyRZm+vqRQ5n/G5xF6t+Qg3Yah4Ua/DH4Lz11eBCPAwvAQ0LH2Dk23zFJV4hiPCSmsxmsluOnJ0iB+yvm7VEjAi9k16uEvaCP+D6kJphEvHJ1ra19rfEqWhMcddBrmgPTJV/GYVbNpRKwazwlEqwDS8vUmiSwP2OGTxQ0kRFQaN9HFgpwQu81rJPCyRZSE1wl9SZZyQIrzgdASGu1kO0HMP09cBAR/9+BGv8g8T8hnKIBCVIcW11dk45UEc5nnwTYOHCU6jXFyh7ng/GIOOLXXklw0nENuzh3i+6ISJSVTtK63DStCa5BLhsyUzm3S2pRsS5/8RwawcwXb14AyzPfkuBq+MJtVzmOwRxz8jfjEYmkSc+du/bJK84n5Qp8j0jo+v5BkH/61sf2U9+k9N8UYluuoJ/9wcHQwsBRMg5gwi0YiHxvrL5dotJxmPFUOaa6+kjljI8wld55qMihOkr6G9khxNfeI0SEfnZjPZS7x/HXqo0ZGovzOXO7UpkjC4uUiGs++ZxCfJN4NjTDQtS5eM9df90laoIXG9rbGxoa1r3awHidqtDrAUc85GDB2kzag6s/5T1TAcdYEXRoZKER6mODoSab+vNh99HrmXFGtUIRx95Q94V5I9GcpaLR/H4bhPR+iWL3UI5+NAk+uRZ5tnM+zRnnwz7685IJ/Y3UpCi82In27Qac6VxN4YqNDUcNLwMxFT0AABsxSURBVLf3KOkr17cr7G/+a59LK5nK/8PHZlH7QVayWTV4in4u9xqdNMaK86k0HsJrcQQq157ZbIRElFc9g6q8Jjgo1wS7z+rlnA8AcPXtkmUW7BVONEGzvKZ596MrRpbf5AbWYhBa9wiqSpxPBClskBzM2xUSb30F5ORgMelwT5iQZGB3DMBr44gdYjEszodU1erbrRVQY29mP2zsdxa2v2JpMNHjy5cjn4FMgagJjtQj1zkSvwYAXHMjNspz0HUuJrdhYlPMpRd4Zsx7LnpjpCjYkew6vceLXvFrJ78edE1jd1ikL/kj3wO25AEJX3vGWn3+BVi35Dfk7w1VnXKfQIfgfEDyaJwP8TgfNRerJVKho17cDz5ILEp6Tq/i4188E2qu2wQUh7VagnStlpocdWF0YfVVndsQXfZlHAUGmlI6iX3v2SysmQ9Y00qnjcRNz1yBZnSDggVv0bVapP5oydxIa7UACv1WSI6hkixSf8ZvIyMPit+6FNUaB6pJDwX+V7VQfo0M+9wYY3UISNgQAsgdnpghMZPTQJWxUj4jlcIWvdAlAUXnWU1wY7pVhJ0QPwmEKH23K7drRfXNtcRcWGsh+KZ6FE6xzeHi7bDmxhA0WyHuOcxOkX0TblsNZ2a76Ucw0+tYnw94X/F7y1VklSE/JX6w1NgpAB0ZHFlYGDnqXknA0mse54NIPonzUaEWsujMId9VeLTLwpFFkZ7lx1R7YYMEOubg8bqFhc26XtGewG8eE8rG+ST4sDc+B1VlRs9fUmwyDK8VL3gu4UyHoWUW99XsO9+gGK4LsjNEnI8V6vYLrRZcLnmnxHW6HyD2f5s4WEGrfV7W2T3s6/PFo4hzPoERUb6XjiCTulUojKkVh1US7H3YVqeKOZ9nzcLj/ORwmBgVmqfFtOR14nb56hB8PLvx5d4PAoEKBSJl4nx2A/yPxPf3Ld0+WHp0Xz68PdYeS8/Z7TUinA9iUARrxHWY/FpNXNuyQDv3MPHZLqmYTwAocJYFcRFdEizOR6AzMhnNa8Vxc3gy/2INHHGMY1hZKuRfm5JdF09EARdTS73/5d5P1zRTHFLcguSjwzjr3Qf24Id86ceDP93/6et/vMw/+kqKjHoKZQ/IAuUhpJ4PgQ1hClnLNZNDeO5hvrB6aWts7Nyl1S8w8GoZmLcDngs034jKcz4GtonhnXy+tLY8vHHzdql4e9lWwCAptLLx6d4vP8iaHvUM9lMlHkIyLEla2MifOGV1MSa//uFOqVR89P03DyzA/N6Cd02Z8wZxzkd5SFQXPAT6DEATmT6PPX1ZTOTzieLLi68EnGgHgrXNtdwWU7XifIpFQizB1DZeFPJkFC/cXA5r9nM0BvQHWKGhZFWQGKfAbxHBWsyNfrlOtcJwqqndm+E3iTs6Im7o+EdzBX62fsg8S8IiFnviyzjx7Et0bCzK8Lc9L4w/RIxXpOpWaaqqI5dALkdsiC7i183thsMkiG+9RopxlpeXAybp5pAO8N/Z90mlu2mKcJRdUOwC9xs1Blky6d8e63e+GU7zItwmv9SbxMCtddE5aYoTQVanvdDdguzDIElAtron5xpEri++ZtX+WlF/Bt/7H9Dcr1uXPQVH3ZOo5/v3Dym3Szkf2FPWw2EZbKqTultQKwo6b7XTkUOgfbuiFqezy/AESLMETQbYglxTTH6W0/x4rhjM43y8JtiK8/mcWukZrCujuWWnS2nY152MR5lVrZVMq9sSo7KCWk5QHQKsycx9GU3E+VwejReAHHVNmBLNccjjQqI6isT5gIf4eZzPVVnqYmz+bYRKjzjx83OovYbnN0LhV5RNibW0YIa37nJr7BaQHiX/IarFdKEXt6DaBXJ35L5dyvkcYzs+oWThv3cdcpyP/OUkzicaG9nUZhN2pNqV2nWtOB/vKwAnEeJ83IZwt1FFtsImZhpUChyK1utxPY5EhJsbZgDVuYcJKusr0FWPeIjUBFAJdm2ipbsl670cfMV7lLKvE5y0fBlPmLbpSrL76i5BMkZ+ti6OX+TA6IJO4DeyjDnv1tBVb4FVW1qmubyALMG+Lo48N7oV3MMeEM9l7f01zZGl3B5qR5zPT/t2Ze1zDWmpBL8Az0Gj/cxquASfJdB13WkPh64zvdZ13vvPO225wUB8gkOM1LGHtHkJzGJ4Cipd78maG6GHo0yYQ6i5ZvXbUc/FFVotHyixIibuer5tSchOJ8hthhQPQUyvVdabxGdDhKzgCB88HihXMjmFin4OrNXiFeerrJQ03Us8lw3F1DyJxnYC5nyWL8Pq+Zjb6FBXf1lw/Z7CdrdDcD6wHq2kN4kItdRBZ4vBsaUS9q8+vHbt2eqlXZyi6Lwvg3f4I5Hs0sW7EF9gTpUFaU1mxZ7btaDhfMMMwyDVCb8bVj7Yy2IeXvdi+9tlrdVCMRiovCazvyK6gmh4eI0elof5MjrMhHHoJSVzI2IdcgLprWeJ/J3Pbtz4DHvq1/Yzddc5r9PpVMqmPsbL6YNoKMUTtfKs/Z+EA9j6fCQVADxE4nUCO+KAP567MDk5efLEmvK7T/6w933FFP6jYOJlOZ4H2c4KX4agMNDvEysieJLs8gzDo9zGdpOcB61aHMavKXmoVZEuTAipBLmWeHaJl3fc/SxxZ4uG/HWqtnp5gZ0Dram6bgkz8prMGGtD9lsU/vxuzVy7XcxPvnh+Yu5kIV/85Ls/sGUXhI9eTuDXcArUXmua5DcK9mAH2ZL9HpTbfVNsghenkZ8Nwf1GsCG6Kunu3cS1c8IbOfdQHXtIF8UpH97zyg/Iw5HbLfMsH1N5kZ9cUoj9wD9rz0v5OdMVTXo3QeJ8AEPSXpburZ/vZJbLCmItRLCsMbbgKa+/RvQLfzHxv6pjXEp8JgEn5RW8oZcEtlmW80nDHC6VTpQml5mmmmHleaVUAcfUMCqcY1v/Gv9c5r6MNTEK++qvoMY2YWdD9O0CAB7rTuLxFDLpGM6tHy3YziVuWLzCSUJEWkaYcFW1CxDnEzzE/XwZgJrku+bevPmA6LJ5e8lUtPDb/AUxLbpmURLGC2AnvFsxAs510bggxfmoXpdX6Z0Pr64vtxmRat15PzrvA+MdR/uhNgGOvOJw6QTs66ogfw4BoVzdnnQ6vac1ipwFC8wDtT+Hw7XuJIF6OX/bNJcnb+PDwgaby0VHfZn8RkNpuBV57733qtKL3eXSYFacDzA420EdvX8dcM97IAt8rXGqjH0x1a7XBJjSqs0UCB1+SpdC9KDWqLcaWs+CwcbgAg1niXP4dez1fNhHt6DhXK9AVJgsNE4en8QPmW/zpO3Rk3cYDaR/lq5jVnXeKi2RTTbN7WpWvrH/F9DrnQ0pzkcXc0LcR6cCUi+WCE7XRaPMeIyjdsf9uAI4otdBMU4k3ghLirV59aQjR99uxsWvWS0OqW5/nqBlfRDDDt/06AKjWn1efr5MKO3duJtNSXOjfzt+TccvY7NFPR84LnThLMTXMQMLm4fGOoa1zgreQU/3k5JgTgQtAW3SPtYg7dutCs7I3IR7nLaeOy2TceLCa8zMuTVNWaO71jYAfN7e6IKalnqFGmjNVzCd9QBb9tGJ5TjLnlfAAxs2p3FHJIMbaJ+3YPmf/f3Ml1F1e90Tr/y4m9fteJITclT4YlVEWPmT2jBzbmWPSxrqbaWNu8F6HpW17DVdP8S9Pp9wOUjtJBQoLS3zlIy5dIKs+kmePCMrNpMNqCwLhmoaFhvow3ykbhnJQE24OZ8I2P18nd3J6LDV843x0KjFQ559JiJ6jNdhzb1K9P/vry4+UsUiLCwqpaJYiKzGnG5tS8PzfCKkx4FPnLoQYF0cVZ4bnTy4dCIFGRSTPiUawDZhVfJw6XnYwo/dHSMbIbXXGOlICON9Hs/M2JoEnL6MRjmfJvftVoR0Z/zZ6eh4XhLWe/LxdYLnYyyNa60TnL8keISu3mXL9NGUirqViPIkIlsUCr8shIIz9fHoQmOoKtQ4Pxbv3Qw1trKwtc6/HzqN87nWahGAm2v5tWwLf9wJwANrMhtPVgy2TrDdaBuLweC+zHrDeiSIlfpWZn29xatJmq7rTm0I/WJbdaoVDYUbTbcjuc2w1z3FeAZW9HCQFkYkTO05axkLUErSL2N3DFE0QnqTSDt6TWN1W126cU9dKJjmOQcBNsmBSfZaxPk4NrCuu0E7drVUN1k3+DYpdyeV2ubjvMLDJ7QMhygu9JI2BmvW19O3Gs7jOZn0gTWINfQ1FjXRYG7UbD0ctpBeGQtS2WLvROmlej4CM9Tz6SpfZ0El7eg0PaNL8TrYAMRKd1Vur3ld5FAj9IFhuzlTX5cOsd6kGK1yEDZdp/V88lotdpNA+huJB/PiQpjaEPPeG2ggNQzsTuaH7f4MPmWiij/zpCYDy4hAb5K7IV2K8wFGjPOV182yk549hrL9HbHWnQTTEI8yG0HtNVa9LdLfqK+QHPsMonEklcZJePO/SJSRp6CoopcUeEiQP8uHNXFIsVfqNrEaMw1iT3JCgPTckewLwVqDBxYoc0u0d5dQlA2TRahoMUPWNLp4LylZa1x6lg91J7lqEwGKjDVeH7Id5xPkRIDr9xS2A9on+TJgqAnno2vGwVz3p3/GtqC/kaxVHRtDdFWz69g51x+S0knQa2n87Z8xxPobyfxYH4pUWf2NgirS3O5MXFqT2chkHD41YE1cF1Knag4/J88+oUZaMwjWNiKS/dPe5XbWI40n44YaPCHz58toNm/HttY4/OXMhnjTNL+vrH3+GfbaWjOO2RBqd5/+87e//W3tx598fB2WtGBkm3E9rL76FjEtu/J//K088PlbFOvGYHxmqH5maEju2+VNe5zziefLeDyzG9sQkzvmmlJ8k1/TNEj/Yh6Bbcjnv7ON7z75eJrakGDD+vri+nomXa5H2rlOMI/zlVVJsVHe1OwQbP6cO4pCTCy2B9D+7Z/nCA9RhTKO8/VFyMm56LnELpbRoiFZotdgQ2bqWtvI6tdB9nyZ0JD00F36bu84n8VDeHs/UcxAIpF4bE4AgTAyzXhuDMjP8gkrWK/J88BuZRoaut9rDDW+Z/WSCoz5K43zieeS0txu+cXHfsEh+Y1SnI+ZVWInrt2AJRfsfGPrKQmexOEZHao4BPaaeDLp6uo9cWgzbGPP8skh6830ttrrQ5x9uyTsAfOf0YxJtnmi9AIrJAvQGeG5gqPlDttr0kuKDUhVw3k89rXQ58sEF7ft/Yd+dGttTtkyl2Em8jn2E7bJ4fBnVKm8TpXqKCuYwWBcL+porNf2/VfVV5dAvnNDdQ6Uo8tLVdW1ttbV1W3S9UMiuv39KjyvoJIvoyml16bJnmbHVgA22CQXLjj6wCDuxBrtSAcrHlWAtdfTISDOp4nnN4p+dIeh4ILzUbpS1bC/3N0oczH7msxiDX0reKEn7qr1fYgX1kieNuYo51RWu8AP4P+qWcNbqHGzjoy2ulBoE1kLFdELOHK77Z2OdYI1rLzhm49NlnLk5WSlk2Hs5iSGTUEORQ17A29qDO5roCMot/7zDJsV56OoAQ+R87BSiRhTd4GyY6k4S2A3wUtgUywtifXRfnTwE3kvKVdDIqwWyLK+oldOCKzzUSySDwLhMvxZPsEYPH5tD2ZgUdnDV5ley3E+d42ZNpx/XCRBJm359Rp3E8057M+EL3whBVWt21Nj9ZLCI5uw2ELXxLAxEaHXFJIBq3byX7HQ/rLKbQlirRaIobKYKo2mMmFX8SJASwo6xi5aVR7qXbYYomPaQwsM7MZe1rfb2Go/gdtrpKpWHt2Q4k4ghF+Ulgn5Ni+8KZmEhEBwxFTYknESyMwQZ/hDhNZZB2/ofECzn6O4e+7OsnXMuAl2G2cZSQ/BWfVX5k74gPNxG4J0tlaLztYGpoJ6iaTAsH7/L2ANMydgz555IqIlvJVUZyHNBX0B/ubGTe5USudI6wQrimcPB2Z6J+Gp0QRrxZj6C+VqZqD4ImyzNgLFhvcA4ojSThcIvCXskqTYlPNZsaekxZZtpE7Y5MraavdlvATr+pTzkXUnkcpyYIj7glxYJetasAkTqrRP442x/EPqrNNmL50tvwd1CdWg2ZEoQI6NNfUX4RAXgPOxGjON5cDsVQskB/YCmsBIVNUY/QukbsxAAdaS8+pkCmSgcTd4vqYKEjNej5vQtEync03miubDgwP+XFoo4nygbiK3a6d4NxKUd+hWuG4r/0zag3jvAQhIr4uQVbVIxC2UbkMsG48YD6FCvFfO7UpxPisZa27kXyhkAQDYmyI0JDxcnBS6LE95lIso+yJBWBExWFXTErAhLebGTLst9tSfFFrtpdc7q1P1pjCOk8TatTD/gS/DFjDTVUtQnyYejqn8GVUEodXEDZvLbRcQirZWpzHY6T1tOuLxPd0K9CFa666yHmkN1p3UFOc/83Fx8m3YFHESU7uZv+AOk0p2J9C9fqsG077zGcPlxTDB8VxS+hwOf2Ul3cZMOLRcFmTrTjmf33oOB+I0hJaGMWHri8QNEU99tZovXWKGm/omLgHfp2gsFtN51YIuz6GIxUMkveb1fDIuBOzlC4mTGyY4ieGwcrOQP6FpNt13AEqe5kOUN+BpP+Cj5HgI/tsHktsAXcFg+yrfIdeV6Mli/RDGEgRd4IJ66c6b0rPVp/+7+rDwpnBdJLNU1c4QLQEsOesmgEmRrabK3ibifABAxlqfz4YQtiNfJIonn99bujk3mc+/kJ8EVgZM2y3wOoOFAxgATYxfl6Md74R85WHvTaJxPquJFInHfxHKcP2zl4XSnYdPxyzqJu6H9SAOzlMEYVGRl4B9Gcr5CDRSHt0Fdjjw+mQhny9OvnhshqWCJs2Cleg6ZdKGJqKymnCALIGwFarXrnq+Sr7fAZjUOpL+pG033kx2CIV1mmq/S5B6OLAmztBadxZYpZxPZ+A4wWXI0UP1+liOVnDn6DtYCIULSLUEuoRADpZ/duYKXDYB/MYwKwqGtS0UyYhwPjJhZFtIYZmR6eYd0/zNXBCwT2T4czhAffuZDZE7QB11vcljdFkyf8cVFvBPQhxl4ArQcsIarU4Qtz0Xd47H+SgAMc9lEZDLpCB9jLp+2Cyj6BhC89Fe7LCM6Sg+ZLslZYcc59Psz17jgpNmTGCeMWFoRpaVImDYFMPAbqDRMoUtA5YMo9ldZ+K01xkpzufja7WUKXvieF2Gb0Dy7KEm//HLl32Xj/U3DR73Dx5q6j/gv4KlpiuDV8rbDj7kOJ/OOZ8LbbsBx1Cf6Tuj5/rO1OvjrXrffB/qi/bOoNN9V/X6IVbayh+J4hBUrtdQz6eXze3aLS5RzKmeTPdUz7TRPjXVnu0xlGljumdWaZnqmTV6Vjon2rXmnimMtZgky2DuXO8padWr2/VRCiwlAevBJH4d7PcdS2Jc/QODZ5ODvo6zGMD+wQMdeK9TjZ2CyO3qYBSiutxgy8yGzjmxEFCuFbX2olzbmeg8QrH6cZ1gjdGOzxCsPdr9+aOXxIUQ1PPxfhnmy1RQSa17tttobjGmJqYMbSqAsZ7q7jEy012dgemJCSz1GN0towrV6woXcvXtSmsQ+X1uKwtYYYz9DOvLx69c8WPbcbzp7GA/xvpwU5MvOXhgwHc5ySKz3Jv088vxXj7K+fz8mSfYR0eILXiP+Mr3dD4TIScwtjNoqHd+Jn5Gn0fx0wzr+kOnz+TquQ1xfzfsNsSxVov382WkYWSnm3tGp6a6pzHMCsF6YmVqqrOr3ZieSPUEMj2pWYF1xetYa7UAmgNJWfW8RxLs9eV+/5X+gWPY+8NYX2m63JS80t9xNnml6Vj/4QGu17bh0G1rDSK2fohsn4Vg1dBQXyV3tR7DHB/qw3od76s/g+Z39c7op+vjOrHXHiZElwS6OyqvO8meDVGh10jLtrf3EDU2eprbZ43p9p5ObaqzM9vZjvU6O5VJ9aSmu2aNbbCGr1A3j/MBCHxdHHkqk2kFyBA06ofZrQMTF/yW5NEBUshEqMjhfoJiv+QQlREse414bpebW0YcdMtUc91G8fG++liutTWWi8diQ329sXiutz5W39ca6613Lgng5uog2OuvWzKax3woCVq2uSeTau9pT6Wae2YnMj3NqVRLT0+mpSXVhfe3Z7pSnT1ErmyKuL3WRB+YWKulTFCkQjykgm223zK2QTkfjT3Rvl1K4rijx4DXbQqKdVmPlhu6pNKIfxuEoPMas1yM5WWAX7O+XRtBs0VHsEXPdnezX7PZbiLQX91coFsONXYJLLcrYqpJEQpxYUNfKwl+x55yYFOhg5azMR4S5VU2qmoTmPlWLYF7PFL7ABI+kM5zCy5B54L0nDs5zmerEZEE5pDQYXBB7LEGZ9+2f5okQG5X08Rz7kScjxsSe9RoO7S3UW2bYNXz6SzOJ8JDVjuAygskrbVWdiKovOlXEhBrDEbxHMy8UIujsbVa3OpsCbKCenjhZW2GU7Dq+ShSSRbn878bbnZ7s62fTr9C9KOstVoYRWORDb7UggBcElS5OcORDNC5tfAQ6G0l9Xy6btUseGC3k1GGkFd4Q3dGWlvLz2pxtsXJLrgVnP+uINB4CH0uKQlSxFhSRmeeOoT2wevWeXu6Q1Ddgu4WeFyKCTqreypfi+MQvBZi+XlDeg4HoFD5MYC/6BBxPnDm6kW+8d8+7OvzZVLGrzVYnE88X+bw8f5D/ccPD14Z+LD/wwOXr3R81H/8wOVjTXhr4MqxpkPJD5uOXT5wvOPDjuODRz9MHuq4MngYbw0cP3sW3olfyDFyAXzugcuwBRdIHhq4gnf20wv0f9Q0yLEmE17r0HjuUO5q39CRsUO9Z1pnrvYeio3PtI7HPspdnWm9Wn8kNz7Ud6b30Bh5ieOt+Px8/MjYEfIynjsSP9M3NE7eiV9yR+qv4gvkPoqNt86Mxw714guQdx4Z6ruKP2Nc8mUg+DbdOZpaaZma7lzpHu2a6mmfzYxmZnvaR7tXMlPNzdhPyczil9RKahZzPrw12t4z1YLPxS9deKtzGl+ge6ULXwBvwQVSK3CB1GgLuUBmZWK0uRl/Rte09Oy1f0/7V+VBa3HU7dXxFxwqEnOj8qtpNRkai/Oxb7ZPLPPxa2KNrNo8xuGsYCp76p3OBZZnYTwcOQUaTNHLCyxZyeIh1AS7lnjzsNOWpWbhPw+Bd7RrkgC7NSFgrD2g9Yo6lw1HOwtW3wFrhrGqugXuyaiqLDCPxRLUCoKjGAdxgT3b2IvoeUyRP4N3lB1lCZzHHfhFhd1WSM5ysa2Iqhtol2CPv8KrQ0Be654xzuelx9tCX5mQl3mXcP7/H+nf7X57tsWkAAAAAElFTkSuQmCC)\n",
        "\n"
      ]
    },
    {
      "cell_type": "code",
      "metadata": {
        "id": "IyHrx1DRtStY"
      },
      "source": [
        ""
      ],
      "execution_count": null,
      "outputs": []
    }
  ]
}