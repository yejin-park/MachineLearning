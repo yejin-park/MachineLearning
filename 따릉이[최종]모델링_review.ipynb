{
  "nbformat": 4,
  "nbformat_minor": 0,
  "metadata": {
    "colab": {
      "name": "따릉이[최종]모델링 review.ipynb",
      "provenance": [],
      "collapsed_sections": [],
      "mount_file_id": "1vhOASr6syBLXabRDKrq72U5Xfm0C-BK0",
      "authorship_tag": "ABX9TyO5CROV573lIBlDSk3ngpy/",
      "include_colab_link": true
    },
    "kernelspec": {
      "name": "python3",
      "display_name": "Python 3"
    },
    "language_info": {
      "name": "python"
    }
  },
  "cells": [
    {
      "cell_type": "markdown",
      "metadata": {
        "id": "view-in-github",
        "colab_type": "text"
      },
      "source": [
        "<a href=\"https://colab.research.google.com/github/yejin-park/MachineLearning/blob/main/%EB%94%B0%EB%A6%89%EC%9D%B4%5B%EC%B5%9C%EC%A2%85%5D%EB%AA%A8%EB%8D%B8%EB%A7%81_review.ipynb\" target=\"_parent\"><img src=\"https://colab.research.google.com/assets/colab-badge.svg\" alt=\"Open In Colab\"/></a>"
      ]
    },
    {
      "cell_type": "markdown",
      "metadata": {
        "id": "a6XuyoUx9bGy"
      },
      "source": [
        "# 따릉이 데이터를 활용한 데이터 분석\n",
        "\n",
        "\n",
        "> 각 날짜의 1시간 전의 [기상상황]을 가지고 1시간 후의 [따릉이 대여수]를 예측\n",
        "\n",
        "\n",
        "\n"
      ]
    },
    {
      "cell_type": "markdown",
      "metadata": {
        "id": "GSoal7z89tIT"
      },
      "source": [
        "# 1. 라이브러리 및 데이터 [Library & Data]"
      ]
    },
    {
      "cell_type": "code",
      "metadata": {
        "id": "_-unZgx_92Fh"
      },
      "source": [
        "import pandas as pd #판대스 패키지 불러오기\n",
        "from sklearn.tree import DecisionTreeRegressor\n",
        "from sklearn.ensemble import RandomForestRegressor #랜던 포레스트 불러오기"
      ],
      "execution_count": 1,
      "outputs": []
    },
    {
      "cell_type": "code",
      "metadata": {
        "id": "sLApUma9-YaB"
      },
      "source": [
        "# 데이터 불러오기\n",
        "train = pd.read_csv('/content/data/train.csv') # 모델 학습 파일\n",
        "test = pd.read_csv('/content/data/test.csv')   # 모델 시험지 파일\n",
        "submission = pd.read_csv('/content/data/submission.csv') # 답안지 파일\n"
      ],
      "execution_count": 2,
      "outputs": []
    },
    {
      "cell_type": "markdown",
      "metadata": {
        "id": "cEDQJHOY_DFY"
      },
      "source": [
        "# 2. 탐색적 자료분석 \n",
        "# Exploratory Data Analysis (EDA)"
      ]
    },
    {
      "cell_type": "markdown",
      "metadata": {
        "id": "eFPYbrOh_dHp"
      },
      "source": [
        "## pd.DataFrame.head()\n",
        "\n",
        "*   데이터 프레임의 위에서 부터 n개 행을 보여주는 함수\n",
        "*   n의 기본 값(default 값)은 5\n",
        "\n"
      ]
    },
    {
      "cell_type": "code",
      "metadata": {
        "colab": {
          "base_uri": "https://localhost:8080/",
          "height": 224
        },
        "id": "LDBtWsmM_462",
        "outputId": "6157908f-1ead-4932-b9d1-6b6e3f813c60"
      },
      "source": [
        "train.head()"
      ],
      "execution_count": 3,
      "outputs": [
        {
          "output_type": "execute_result",
          "data": {
            "text/html": [
              "<div>\n",
              "<style scoped>\n",
              "    .dataframe tbody tr th:only-of-type {\n",
              "        vertical-align: middle;\n",
              "    }\n",
              "\n",
              "    .dataframe tbody tr th {\n",
              "        vertical-align: top;\n",
              "    }\n",
              "\n",
              "    .dataframe thead th {\n",
              "        text-align: right;\n",
              "    }\n",
              "</style>\n",
              "<table border=\"1\" class=\"dataframe\">\n",
              "  <thead>\n",
              "    <tr style=\"text-align: right;\">\n",
              "      <th></th>\n",
              "      <th>id</th>\n",
              "      <th>hour</th>\n",
              "      <th>hour_bef_temperature</th>\n",
              "      <th>hour_bef_precipitation</th>\n",
              "      <th>hour_bef_windspeed</th>\n",
              "      <th>hour_bef_humidity</th>\n",
              "      <th>hour_bef_visibility</th>\n",
              "      <th>hour_bef_ozone</th>\n",
              "      <th>hour_bef_pm10</th>\n",
              "      <th>hour_bef_pm2.5</th>\n",
              "      <th>count</th>\n",
              "    </tr>\n",
              "  </thead>\n",
              "  <tbody>\n",
              "    <tr>\n",
              "      <th>0</th>\n",
              "      <td>3</td>\n",
              "      <td>20</td>\n",
              "      <td>16.3</td>\n",
              "      <td>1.0</td>\n",
              "      <td>1.5</td>\n",
              "      <td>89.0</td>\n",
              "      <td>576.0</td>\n",
              "      <td>0.027</td>\n",
              "      <td>76.0</td>\n",
              "      <td>33.0</td>\n",
              "      <td>49.0</td>\n",
              "    </tr>\n",
              "    <tr>\n",
              "      <th>1</th>\n",
              "      <td>6</td>\n",
              "      <td>13</td>\n",
              "      <td>20.1</td>\n",
              "      <td>0.0</td>\n",
              "      <td>1.4</td>\n",
              "      <td>48.0</td>\n",
              "      <td>916.0</td>\n",
              "      <td>0.042</td>\n",
              "      <td>73.0</td>\n",
              "      <td>40.0</td>\n",
              "      <td>159.0</td>\n",
              "    </tr>\n",
              "    <tr>\n",
              "      <th>2</th>\n",
              "      <td>7</td>\n",
              "      <td>6</td>\n",
              "      <td>13.9</td>\n",
              "      <td>0.0</td>\n",
              "      <td>0.7</td>\n",
              "      <td>79.0</td>\n",
              "      <td>1382.0</td>\n",
              "      <td>0.033</td>\n",
              "      <td>32.0</td>\n",
              "      <td>19.0</td>\n",
              "      <td>26.0</td>\n",
              "    </tr>\n",
              "    <tr>\n",
              "      <th>3</th>\n",
              "      <td>8</td>\n",
              "      <td>23</td>\n",
              "      <td>8.1</td>\n",
              "      <td>0.0</td>\n",
              "      <td>2.7</td>\n",
              "      <td>54.0</td>\n",
              "      <td>946.0</td>\n",
              "      <td>0.040</td>\n",
              "      <td>75.0</td>\n",
              "      <td>64.0</td>\n",
              "      <td>57.0</td>\n",
              "    </tr>\n",
              "    <tr>\n",
              "      <th>4</th>\n",
              "      <td>9</td>\n",
              "      <td>18</td>\n",
              "      <td>29.5</td>\n",
              "      <td>0.0</td>\n",
              "      <td>4.8</td>\n",
              "      <td>7.0</td>\n",
              "      <td>2000.0</td>\n",
              "      <td>0.057</td>\n",
              "      <td>27.0</td>\n",
              "      <td>11.0</td>\n",
              "      <td>431.0</td>\n",
              "    </tr>\n",
              "  </tbody>\n",
              "</table>\n",
              "</div>"
            ],
            "text/plain": [
              "   id  hour  hour_bef_temperature  ...  hour_bef_pm10  hour_bef_pm2.5  count\n",
              "0   3    20                  16.3  ...           76.0            33.0   49.0\n",
              "1   6    13                  20.1  ...           73.0            40.0  159.0\n",
              "2   7     6                  13.9  ...           32.0            19.0   26.0\n",
              "3   8    23                   8.1  ...           75.0            64.0   57.0\n",
              "4   9    18                  29.5  ...           27.0            11.0  431.0\n",
              "\n",
              "[5 rows x 11 columns]"
            ]
          },
          "metadata": {},
          "execution_count": 3
        }
      ]
    },
    {
      "cell_type": "code",
      "metadata": {
        "colab": {
          "base_uri": "https://localhost:8080/",
          "height": 224
        },
        "id": "j-coherTAmCf",
        "outputId": "b7e3621e-d6b4-4f66-906b-542c2f72e82f"
      },
      "source": [
        "test.head() # train 값과 달리 마지막 열에 'count'가 없음 _ 내가 예측해야하는 부분"
      ],
      "execution_count": 4,
      "outputs": [
        {
          "output_type": "execute_result",
          "data": {
            "text/html": [
              "<div>\n",
              "<style scoped>\n",
              "    .dataframe tbody tr th:only-of-type {\n",
              "        vertical-align: middle;\n",
              "    }\n",
              "\n",
              "    .dataframe tbody tr th {\n",
              "        vertical-align: top;\n",
              "    }\n",
              "\n",
              "    .dataframe thead th {\n",
              "        text-align: right;\n",
              "    }\n",
              "</style>\n",
              "<table border=\"1\" class=\"dataframe\">\n",
              "  <thead>\n",
              "    <tr style=\"text-align: right;\">\n",
              "      <th></th>\n",
              "      <th>id</th>\n",
              "      <th>hour</th>\n",
              "      <th>hour_bef_temperature</th>\n",
              "      <th>hour_bef_precipitation</th>\n",
              "      <th>hour_bef_windspeed</th>\n",
              "      <th>hour_bef_humidity</th>\n",
              "      <th>hour_bef_visibility</th>\n",
              "      <th>hour_bef_ozone</th>\n",
              "      <th>hour_bef_pm10</th>\n",
              "      <th>hour_bef_pm2.5</th>\n",
              "    </tr>\n",
              "  </thead>\n",
              "  <tbody>\n",
              "    <tr>\n",
              "      <th>0</th>\n",
              "      <td>0</td>\n",
              "      <td>7</td>\n",
              "      <td>20.7</td>\n",
              "      <td>0.0</td>\n",
              "      <td>1.3</td>\n",
              "      <td>62.0</td>\n",
              "      <td>954.0</td>\n",
              "      <td>0.041</td>\n",
              "      <td>44.0</td>\n",
              "      <td>27.0</td>\n",
              "    </tr>\n",
              "    <tr>\n",
              "      <th>1</th>\n",
              "      <td>1</td>\n",
              "      <td>17</td>\n",
              "      <td>30.0</td>\n",
              "      <td>0.0</td>\n",
              "      <td>5.4</td>\n",
              "      <td>33.0</td>\n",
              "      <td>1590.0</td>\n",
              "      <td>0.061</td>\n",
              "      <td>49.0</td>\n",
              "      <td>36.0</td>\n",
              "    </tr>\n",
              "    <tr>\n",
              "      <th>2</th>\n",
              "      <td>2</td>\n",
              "      <td>13</td>\n",
              "      <td>19.0</td>\n",
              "      <td>1.0</td>\n",
              "      <td>2.1</td>\n",
              "      <td>95.0</td>\n",
              "      <td>193.0</td>\n",
              "      <td>0.020</td>\n",
              "      <td>36.0</td>\n",
              "      <td>28.0</td>\n",
              "    </tr>\n",
              "    <tr>\n",
              "      <th>3</th>\n",
              "      <td>4</td>\n",
              "      <td>6</td>\n",
              "      <td>22.5</td>\n",
              "      <td>0.0</td>\n",
              "      <td>2.5</td>\n",
              "      <td>60.0</td>\n",
              "      <td>1185.0</td>\n",
              "      <td>0.027</td>\n",
              "      <td>52.0</td>\n",
              "      <td>38.0</td>\n",
              "    </tr>\n",
              "    <tr>\n",
              "      <th>4</th>\n",
              "      <td>5</td>\n",
              "      <td>22</td>\n",
              "      <td>14.6</td>\n",
              "      <td>1.0</td>\n",
              "      <td>3.4</td>\n",
              "      <td>93.0</td>\n",
              "      <td>218.0</td>\n",
              "      <td>0.041</td>\n",
              "      <td>18.0</td>\n",
              "      <td>15.0</td>\n",
              "    </tr>\n",
              "  </tbody>\n",
              "</table>\n",
              "</div>"
            ],
            "text/plain": [
              "   id  hour  ...  hour_bef_pm10  hour_bef_pm2.5\n",
              "0   0     7  ...           44.0            27.0\n",
              "1   1    17  ...           49.0            36.0\n",
              "2   2    13  ...           36.0            28.0\n",
              "3   4     6  ...           52.0            38.0\n",
              "4   5    22  ...           18.0            15.0\n",
              "\n",
              "[5 rows x 10 columns]"
            ]
          },
          "metadata": {},
          "execution_count": 4
        }
      ]
    },
    {
      "cell_type": "code",
      "metadata": {
        "colab": {
          "base_uri": "https://localhost:8080/",
          "height": 204
        },
        "id": "XLdQL7u9AnjM",
        "outputId": "6ee3e3e6-c14c-409e-da7e-331bf8d1d73f"
      },
      "source": [
        "submission.head()  #예측한 count 값을 표현할 수 있는 칸"
      ],
      "execution_count": 5,
      "outputs": [
        {
          "output_type": "execute_result",
          "data": {
            "text/html": [
              "<div>\n",
              "<style scoped>\n",
              "    .dataframe tbody tr th:only-of-type {\n",
              "        vertical-align: middle;\n",
              "    }\n",
              "\n",
              "    .dataframe tbody tr th {\n",
              "        vertical-align: top;\n",
              "    }\n",
              "\n",
              "    .dataframe thead th {\n",
              "        text-align: right;\n",
              "    }\n",
              "</style>\n",
              "<table border=\"1\" class=\"dataframe\">\n",
              "  <thead>\n",
              "    <tr style=\"text-align: right;\">\n",
              "      <th></th>\n",
              "      <th>id</th>\n",
              "      <th>count</th>\n",
              "    </tr>\n",
              "  </thead>\n",
              "  <tbody>\n",
              "    <tr>\n",
              "      <th>0</th>\n",
              "      <td>0</td>\n",
              "      <td>NaN</td>\n",
              "    </tr>\n",
              "    <tr>\n",
              "      <th>1</th>\n",
              "      <td>1</td>\n",
              "      <td>NaN</td>\n",
              "    </tr>\n",
              "    <tr>\n",
              "      <th>2</th>\n",
              "      <td>2</td>\n",
              "      <td>NaN</td>\n",
              "    </tr>\n",
              "    <tr>\n",
              "      <th>3</th>\n",
              "      <td>4</td>\n",
              "      <td>NaN</td>\n",
              "    </tr>\n",
              "    <tr>\n",
              "      <th>4</th>\n",
              "      <td>5</td>\n",
              "      <td>NaN</td>\n",
              "    </tr>\n",
              "  </tbody>\n",
              "</table>\n",
              "</div>"
            ],
            "text/plain": [
              "   id  count\n",
              "0   0    NaN\n",
              "1   1    NaN\n",
              "2   2    NaN\n",
              "3   4    NaN\n",
              "4   5    NaN"
            ]
          },
          "metadata": {},
          "execution_count": 5
        }
      ]
    },
    {
      "cell_type": "markdown",
      "metadata": {
        "id": "gfWSW6t2BQfl"
      },
      "source": [
        "## pd.DataFrame.tail()\n",
        "\n",
        "*   데이터 프레임의 아래에서 부터 n개 행을 보여주는 함수\n",
        "*   n의 기본 값(default값)은 5\n",
        "\n"
      ]
    },
    {
      "cell_type": "code",
      "metadata": {
        "colab": {
          "base_uri": "https://localhost:8080/",
          "height": 224
        },
        "id": "RdTvcl04Bgix",
        "outputId": "db78df94-cc89-425e-8ec2-fd2286bfa1ce"
      },
      "source": [
        "train.tail()"
      ],
      "execution_count": 6,
      "outputs": [
        {
          "output_type": "execute_result",
          "data": {
            "text/html": [
              "<div>\n",
              "<style scoped>\n",
              "    .dataframe tbody tr th:only-of-type {\n",
              "        vertical-align: middle;\n",
              "    }\n",
              "\n",
              "    .dataframe tbody tr th {\n",
              "        vertical-align: top;\n",
              "    }\n",
              "\n",
              "    .dataframe thead th {\n",
              "        text-align: right;\n",
              "    }\n",
              "</style>\n",
              "<table border=\"1\" class=\"dataframe\">\n",
              "  <thead>\n",
              "    <tr style=\"text-align: right;\">\n",
              "      <th></th>\n",
              "      <th>id</th>\n",
              "      <th>hour</th>\n",
              "      <th>hour_bef_temperature</th>\n",
              "      <th>hour_bef_precipitation</th>\n",
              "      <th>hour_bef_windspeed</th>\n",
              "      <th>hour_bef_humidity</th>\n",
              "      <th>hour_bef_visibility</th>\n",
              "      <th>hour_bef_ozone</th>\n",
              "      <th>hour_bef_pm10</th>\n",
              "      <th>hour_bef_pm2.5</th>\n",
              "      <th>count</th>\n",
              "    </tr>\n",
              "  </thead>\n",
              "  <tbody>\n",
              "    <tr>\n",
              "      <th>1454</th>\n",
              "      <td>2174</td>\n",
              "      <td>4</td>\n",
              "      <td>16.8</td>\n",
              "      <td>0.0</td>\n",
              "      <td>1.6</td>\n",
              "      <td>53.0</td>\n",
              "      <td>2000.0</td>\n",
              "      <td>0.031</td>\n",
              "      <td>37.0</td>\n",
              "      <td>27.0</td>\n",
              "      <td>21.0</td>\n",
              "    </tr>\n",
              "    <tr>\n",
              "      <th>1455</th>\n",
              "      <td>2175</td>\n",
              "      <td>3</td>\n",
              "      <td>10.8</td>\n",
              "      <td>0.0</td>\n",
              "      <td>3.8</td>\n",
              "      <td>45.0</td>\n",
              "      <td>2000.0</td>\n",
              "      <td>0.039</td>\n",
              "      <td>34.0</td>\n",
              "      <td>19.0</td>\n",
              "      <td>20.0</td>\n",
              "    </tr>\n",
              "    <tr>\n",
              "      <th>1456</th>\n",
              "      <td>2176</td>\n",
              "      <td>5</td>\n",
              "      <td>18.3</td>\n",
              "      <td>0.0</td>\n",
              "      <td>1.9</td>\n",
              "      <td>54.0</td>\n",
              "      <td>2000.0</td>\n",
              "      <td>0.009</td>\n",
              "      <td>30.0</td>\n",
              "      <td>21.0</td>\n",
              "      <td>22.0</td>\n",
              "    </tr>\n",
              "    <tr>\n",
              "      <th>1457</th>\n",
              "      <td>2178</td>\n",
              "      <td>21</td>\n",
              "      <td>20.7</td>\n",
              "      <td>0.0</td>\n",
              "      <td>3.7</td>\n",
              "      <td>37.0</td>\n",
              "      <td>1395.0</td>\n",
              "      <td>0.082</td>\n",
              "      <td>71.0</td>\n",
              "      <td>36.0</td>\n",
              "      <td>216.0</td>\n",
              "    </tr>\n",
              "    <tr>\n",
              "      <th>1458</th>\n",
              "      <td>2179</td>\n",
              "      <td>17</td>\n",
              "      <td>21.1</td>\n",
              "      <td>0.0</td>\n",
              "      <td>3.1</td>\n",
              "      <td>47.0</td>\n",
              "      <td>1973.0</td>\n",
              "      <td>0.046</td>\n",
              "      <td>38.0</td>\n",
              "      <td>17.0</td>\n",
              "      <td>170.0</td>\n",
              "    </tr>\n",
              "  </tbody>\n",
              "</table>\n",
              "</div>"
            ],
            "text/plain": [
              "        id  hour  hour_bef_temperature  ...  hour_bef_pm10  hour_bef_pm2.5  count\n",
              "1454  2174     4                  16.8  ...           37.0            27.0   21.0\n",
              "1455  2175     3                  10.8  ...           34.0            19.0   20.0\n",
              "1456  2176     5                  18.3  ...           30.0            21.0   22.0\n",
              "1457  2178    21                  20.7  ...           71.0            36.0  216.0\n",
              "1458  2179    17                  21.1  ...           38.0            17.0  170.0\n",
              "\n",
              "[5 rows x 11 columns]"
            ]
          },
          "metadata": {},
          "execution_count": 6
        }
      ]
    },
    {
      "cell_type": "markdown",
      "metadata": {
        "id": "TrNmDKBtBlRX"
      },
      "source": [
        "## pd.DataFrame.shape\n",
        "\n",
        "*   데이터 프레임의 [ 행의 개수 ]와 [ 열의 개수 ]가 저장되어있는 속성(attribute)\n",
        "\n"
      ]
    },
    {
      "cell_type": "code",
      "metadata": {
        "colab": {
          "base_uri": "https://localhost:8080/"
        },
        "id": "J50tdDq4B9Ub",
        "outputId": "2cc4f765-04a5-48a7-c637-49c15598fe75"
      },
      "source": [
        "print(train.shape)\n",
        "print(test.shape, \"count열이 없으므로 -1 \")\n",
        "print(submission.shape)"
      ],
      "execution_count": 7,
      "outputs": [
        {
          "output_type": "stream",
          "name": "stdout",
          "text": [
            "(1459, 11)\n",
            "(715, 10) count열이 없으므로 -1 \n",
            "(715, 2)\n"
          ]
        }
      ]
    },
    {
      "cell_type": "markdown",
      "metadata": {
        "id": "1U90L9qDCZ0N"
      },
      "source": [
        "## pd.DataFrame.info()\n",
        "\n",
        "*   데이터셋의 cloumn별 정보를 알려주는 함수\n",
        "*   비어 있지 않은 값은 (non-null)은 몇개인지?\n",
        "*   column의 type은 무엇인지?\n",
        "           ->  type의 종류 : int, float, object(문자열)..\n"
      ]
    },
    {
      "cell_type": "code",
      "metadata": {
        "colab": {
          "base_uri": "https://localhost:8080/"
        },
        "id": "Bv2Vz5pvC-43",
        "outputId": "f5df2e08-8a39-4327-c320-d858fdbca788"
      },
      "source": [
        "train.info()   #전체 (1459) 중 결측값을 찾아 데이터 오류 줄이기"
      ],
      "execution_count": 8,
      "outputs": [
        {
          "output_type": "stream",
          "name": "stdout",
          "text": [
            "<class 'pandas.core.frame.DataFrame'>\n",
            "RangeIndex: 1459 entries, 0 to 1458\n",
            "Data columns (total 11 columns):\n",
            " #   Column                  Non-Null Count  Dtype  \n",
            "---  ------                  --------------  -----  \n",
            " 0   id                      1459 non-null   int64  \n",
            " 1   hour                    1459 non-null   int64  \n",
            " 2   hour_bef_temperature    1457 non-null   float64\n",
            " 3   hour_bef_precipitation  1457 non-null   float64\n",
            " 4   hour_bef_windspeed      1450 non-null   float64\n",
            " 5   hour_bef_humidity       1457 non-null   float64\n",
            " 6   hour_bef_visibility     1457 non-null   float64\n",
            " 7   hour_bef_ozone          1383 non-null   float64\n",
            " 8   hour_bef_pm10           1369 non-null   float64\n",
            " 9   hour_bef_pm2.5          1342 non-null   float64\n",
            " 10  count                   1459 non-null   float64\n",
            "dtypes: float64(9), int64(2)\n",
            "memory usage: 125.5 KB\n"
          ]
        }
      ]
    },
    {
      "cell_type": "markdown",
      "metadata": {
        "id": "hcT8apMLGK_9"
      },
      "source": [
        "## pd.DataFrame.describe()\n",
        "\n",
        "\n",
        "*   숫자형(int, float) column들의 [기술 통계량]을 보여주는 함수\n",
        "*   기술통계량 : 해당 column을 대표할 수 있는 통계값들을 의미\n",
        "<기술통계랑 종류>\n",
        "1.   count : 해당 column에서 비어있지않은 값의 개수\n",
        "2.   mean 평균 / std 표준편차\n",
        "3.   min max (이상치 포함)\n",
        "4.   25% (Q1) / 75% (Q3) : **아래부터** 1/4번째 & 3/4번째 지점까지 \n",
        "5.   이상치 : 울타리 밖에 있는 부분을 이상치라고 정의함 ***`===> 이상치는 아직 잘 모르겠음`***\n",
        "\n",
        "\n"
      ]
    },
    {
      "cell_type": "code",
      "metadata": {
        "colab": {
          "base_uri": "https://localhost:8080/",
          "height": 316
        },
        "id": "gCVoGG68H02l",
        "outputId": "3e7b2ef5-b8de-4e26-bc17-dd50f5b3d457"
      },
      "source": [
        "train.describe()"
      ],
      "execution_count": 9,
      "outputs": [
        {
          "output_type": "execute_result",
          "data": {
            "text/html": [
              "<div>\n",
              "<style scoped>\n",
              "    .dataframe tbody tr th:only-of-type {\n",
              "        vertical-align: middle;\n",
              "    }\n",
              "\n",
              "    .dataframe tbody tr th {\n",
              "        vertical-align: top;\n",
              "    }\n",
              "\n",
              "    .dataframe thead th {\n",
              "        text-align: right;\n",
              "    }\n",
              "</style>\n",
              "<table border=\"1\" class=\"dataframe\">\n",
              "  <thead>\n",
              "    <tr style=\"text-align: right;\">\n",
              "      <th></th>\n",
              "      <th>id</th>\n",
              "      <th>hour</th>\n",
              "      <th>hour_bef_temperature</th>\n",
              "      <th>hour_bef_precipitation</th>\n",
              "      <th>hour_bef_windspeed</th>\n",
              "      <th>hour_bef_humidity</th>\n",
              "      <th>hour_bef_visibility</th>\n",
              "      <th>hour_bef_ozone</th>\n",
              "      <th>hour_bef_pm10</th>\n",
              "      <th>hour_bef_pm2.5</th>\n",
              "      <th>count</th>\n",
              "    </tr>\n",
              "  </thead>\n",
              "  <tbody>\n",
              "    <tr>\n",
              "      <th>count</th>\n",
              "      <td>1459.000000</td>\n",
              "      <td>1459.000000</td>\n",
              "      <td>1457.000000</td>\n",
              "      <td>1457.000000</td>\n",
              "      <td>1450.000000</td>\n",
              "      <td>1457.000000</td>\n",
              "      <td>1457.000000</td>\n",
              "      <td>1383.000000</td>\n",
              "      <td>1369.000000</td>\n",
              "      <td>1342.000000</td>\n",
              "      <td>1459.000000</td>\n",
              "    </tr>\n",
              "    <tr>\n",
              "      <th>mean</th>\n",
              "      <td>1105.914325</td>\n",
              "      <td>11.493489</td>\n",
              "      <td>16.717433</td>\n",
              "      <td>0.031572</td>\n",
              "      <td>2.479034</td>\n",
              "      <td>52.231297</td>\n",
              "      <td>1405.216884</td>\n",
              "      <td>0.039149</td>\n",
              "      <td>57.168736</td>\n",
              "      <td>30.327124</td>\n",
              "      <td>108.563400</td>\n",
              "    </tr>\n",
              "    <tr>\n",
              "      <th>std</th>\n",
              "      <td>631.338681</td>\n",
              "      <td>6.922790</td>\n",
              "      <td>5.239150</td>\n",
              "      <td>0.174917</td>\n",
              "      <td>1.378265</td>\n",
              "      <td>20.370387</td>\n",
              "      <td>583.131708</td>\n",
              "      <td>0.019509</td>\n",
              "      <td>31.771019</td>\n",
              "      <td>14.713252</td>\n",
              "      <td>82.631733</td>\n",
              "    </tr>\n",
              "    <tr>\n",
              "      <th>min</th>\n",
              "      <td>3.000000</td>\n",
              "      <td>0.000000</td>\n",
              "      <td>3.100000</td>\n",
              "      <td>0.000000</td>\n",
              "      <td>0.000000</td>\n",
              "      <td>7.000000</td>\n",
              "      <td>78.000000</td>\n",
              "      <td>0.003000</td>\n",
              "      <td>9.000000</td>\n",
              "      <td>8.000000</td>\n",
              "      <td>1.000000</td>\n",
              "    </tr>\n",
              "    <tr>\n",
              "      <th>25%</th>\n",
              "      <td>555.500000</td>\n",
              "      <td>5.500000</td>\n",
              "      <td>12.800000</td>\n",
              "      <td>0.000000</td>\n",
              "      <td>1.400000</td>\n",
              "      <td>36.000000</td>\n",
              "      <td>879.000000</td>\n",
              "      <td>0.025500</td>\n",
              "      <td>36.000000</td>\n",
              "      <td>20.000000</td>\n",
              "      <td>37.000000</td>\n",
              "    </tr>\n",
              "    <tr>\n",
              "      <th>50%</th>\n",
              "      <td>1115.000000</td>\n",
              "      <td>11.000000</td>\n",
              "      <td>16.600000</td>\n",
              "      <td>0.000000</td>\n",
              "      <td>2.300000</td>\n",
              "      <td>51.000000</td>\n",
              "      <td>1577.000000</td>\n",
              "      <td>0.039000</td>\n",
              "      <td>51.000000</td>\n",
              "      <td>26.000000</td>\n",
              "      <td>96.000000</td>\n",
              "    </tr>\n",
              "    <tr>\n",
              "      <th>75%</th>\n",
              "      <td>1651.000000</td>\n",
              "      <td>17.500000</td>\n",
              "      <td>20.100000</td>\n",
              "      <td>0.000000</td>\n",
              "      <td>3.400000</td>\n",
              "      <td>69.000000</td>\n",
              "      <td>1994.000000</td>\n",
              "      <td>0.052000</td>\n",
              "      <td>69.000000</td>\n",
              "      <td>37.000000</td>\n",
              "      <td>150.000000</td>\n",
              "    </tr>\n",
              "    <tr>\n",
              "      <th>max</th>\n",
              "      <td>2179.000000</td>\n",
              "      <td>23.000000</td>\n",
              "      <td>30.000000</td>\n",
              "      <td>1.000000</td>\n",
              "      <td>8.000000</td>\n",
              "      <td>99.000000</td>\n",
              "      <td>2000.000000</td>\n",
              "      <td>0.125000</td>\n",
              "      <td>269.000000</td>\n",
              "      <td>90.000000</td>\n",
              "      <td>431.000000</td>\n",
              "    </tr>\n",
              "  </tbody>\n",
              "</table>\n",
              "</div>"
            ],
            "text/plain": [
              "                id         hour  ...  hour_bef_pm2.5        count\n",
              "count  1459.000000  1459.000000  ...     1342.000000  1459.000000\n",
              "mean   1105.914325    11.493489  ...       30.327124   108.563400\n",
              "std     631.338681     6.922790  ...       14.713252    82.631733\n",
              "min       3.000000     0.000000  ...        8.000000     1.000000\n",
              "25%     555.500000     5.500000  ...       20.000000    37.000000\n",
              "50%    1115.000000    11.000000  ...       26.000000    96.000000\n",
              "75%    1651.000000    17.500000  ...       37.000000   150.000000\n",
              "max    2179.000000    23.000000  ...       90.000000   431.000000\n",
              "\n",
              "[8 rows x 11 columns]"
            ]
          },
          "metadata": {},
          "execution_count": 9
        }
      ]
    },
    {
      "cell_type": "markdown",
      "metadata": {
        "id": "ABF1DlO0INRX"
      },
      "source": [
        "## pd.DataFrame.groupby()\n",
        "*   집단에 대한 통계량 확인"
      ]
    },
    {
      "cell_type": "code",
      "metadata": {
        "colab": {
          "base_uri": "https://localhost:8080/"
        },
        "id": "Dz9VH1PjIVoe",
        "outputId": "68a17a40-b530-47ea-b1e8-9a9172b7c15c"
      },
      "source": [
        "train.groupby('hour').mean()['count']  # hour 가 컬럼명이므로!\n",
        "# hour시간별로 대여랑의 평균값이 계산되었고 'count'컬럼만 출력"
      ],
      "execution_count": 10,
      "outputs": [
        {
          "output_type": "execute_result",
          "data": {
            "text/plain": [
              "hour\n",
              "0      71.766667\n",
              "1      47.606557\n",
              "2      31.409836\n",
              "3      21.377049\n",
              "4      13.524590\n",
              "5      13.114754\n",
              "6      24.557377\n",
              "7      62.360656\n",
              "8     136.688525\n",
              "9      93.540984\n",
              "10     78.803279\n",
              "11     88.327869\n",
              "12    111.901639\n",
              "13    120.050000\n",
              "14    134.590164\n",
              "15    152.967213\n",
              "16    169.100000\n",
              "17    187.133333\n",
              "18    262.163934\n",
              "19    201.606557\n",
              "20    164.868852\n",
              "21    168.816667\n",
              "22    148.245902\n",
              "23    103.852459\n",
              "Name: count, dtype: float64"
            ]
          },
          "metadata": {},
          "execution_count": 10
        }
      ]
    },
    {
      "cell_type": "code",
      "metadata": {
        "colab": {
          "base_uri": "https://localhost:8080/",
          "height": 297
        },
        "id": "V2aytScWIr-S",
        "outputId": "67676000-755a-4460-e84a-94dd4ed35f61"
      },
      "source": [
        "###### 시각화 plot ######\n",
        "train.groupby('hour').mean()['count'].plot()"
      ],
      "execution_count": 11,
      "outputs": [
        {
          "output_type": "execute_result",
          "data": {
            "text/plain": [
              "<matplotlib.axes._subplots.AxesSubplot at 0x7f00a4a49bd0>"
            ]
          },
          "metadata": {},
          "execution_count": 11
        },
        {
          "output_type": "display_data",
          "data": {
            "image/png": "[encoded data removed]",
            "text/plain": [
              "<Figure size 432x288 with 1 Axes>"
            ]
          },
          "metadata": {
            "needs_background": "light"
          }
        }
      ]
    },
    {
      "cell_type": "markdown",
      "metadata": {
        "id": "TA4TZOW-J7pw"
      },
      "source": [
        "### 그래프로 커스터마이징하기위해 `시각화 전용 패키지matplotlib` 사용\n",
        "*   색깔 : 빨r 초g 파b 노y 검b 흰w / 청록(cyan)c / 자홍(magenta)m\n",
        "*   마커 : 점. 원o 역삼각형v 삼각형^ 사각형s 별* 엑스x 다이아몬드d\n",
        "*   문자열 : 실선- 끊어진실선-- 점+실선-. 점선:\n",
        "\n"
      ]
    },
    {
      "cell_type": "code",
      "metadata": {
        "id": "FSNUskKHJKKW"
      },
      "source": [
        "import matplotlib.pyplot as plt #앞에 것들을 plt로 칭하겠다"
      ],
      "execution_count": 12,
      "outputs": []
    },
    {
      "cell_type": "code",
      "metadata": {
        "colab": {
          "base_uri": "https://localhost:8080/",
          "height": 283
        },
        "id": "NTlaDlb2KRjC",
        "outputId": "cbdd6ab8-6460-4865-b5e0-cbb244014a5a"
      },
      "source": [
        "plt.plot(train.groupby('hour').mean()['count'])\n",
        "# plt 내에 .plot()함수가 있음\n",
        "# \"train.groupby('hour').mean()['count'].plot()\" 코드와 동일한 결과"
      ],
      "execution_count": 13,
      "outputs": [
        {
          "output_type": "execute_result",
          "data": {
            "text/plain": [
              "[<matplotlib.lines.Line2D at 0x7f00a414d590>]"
            ]
          },
          "metadata": {},
          "execution_count": 13
        },
        {
          "output_type": "display_data",
          "data": {
            "image/png": "[encoded data removed]",
            "text/plain": [
              "<Figure size 432x288 with 1 Axes>"
            ]
          },
          "metadata": {
            "needs_background": "light"
          }
        }
      ]
    },
    {
      "cell_type": "code",
      "metadata": {
        "colab": {
          "base_uri": "https://localhost:8080/",
          "height": 265
        },
        "id": "fTyFI-XBKnGC",
        "outputId": "c0542803-4505-4f56-84f7-ee39d50ff39c"
      },
      "source": [
        "###### 한번더 커스터마이징 하자면 ######\n",
        "plt.plot(train.groupby('hour').mean()['count'], 'go--')\n",
        "plt.grid()"
      ],
      "execution_count": 14,
      "outputs": [
        {
          "output_type": "display_data",
          "data": {
            "image/png": "[encoded data removed]",
            "text/plain": [
              "<Figure size 432x288 with 1 Axes>"
            ]
          },
          "metadata": {
            "needs_background": "light"
          }
        }
      ]
    },
    {
      "cell_type": "markdown",
      "metadata": {
        "id": "D5sUiUFmMgDG"
      },
      "source": [
        "### plt.title(label, fontsize)\n",
        "*   그래프 제목 생성\n",
        "\n",
        "### plt.xlabel(label, fontsize)\n",
        "*   x축 이름 설정\n",
        "\n",
        "### plt.ylabel(label, fontsize)\n",
        "*   y축 이름 설정\n"
      ]
    },
    {
      "cell_type": "code",
      "metadata": {
        "colab": {
          "base_uri": "https://localhost:8080/",
          "height": 302
        },
        "id": "KdJjGrdNK7K0",
        "outputId": "e50541b1-c863-4458-88bb-be1a7954513e"
      },
      "source": [
        "plt.plot(train.groupby('hour').mean()['count'], 'go--')\n",
        "plt.grid()\n",
        "\n",
        "plt.title('count by hours', fontsize = 15)\n",
        "plt.xlabel('hour', fontsize = 15)\n",
        "plt.ylabel('count', fontsize = 15)\n",
        "\n",
        "#그래프 이미지 저장 시\n",
        "plt.savefig('picture.png')\n"
      ],
      "execution_count": 15,
      "outputs": [
        {
          "output_type": "display_data",
          "data": {
            "image/png": "[encoded data removed]",
            "text/plain": [
              "<Figure size 432x288 with 1 Axes>"
            ]
          },
          "metadata": {
            "needs_background": "light"
          }
        }
      ]
    },
    {
      "cell_type": "markdown",
      "metadata": {
        "id": "GOowocSTOil4"
      },
      "source": [
        "### plt.axvline(x, color)\n",
        "*   축을 가로지르는 세로 선 생성\n",
        "\n",
        "### plt.text(x,y,s,fontsize)\n",
        "*   원하는 위치에 텍스트 생성\n"
      ]
    },
    {
      "cell_type": "code",
      "metadata": {
        "colab": {
          "base_uri": "https://localhost:8080/",
          "height": 302
        },
        "id": "a4Imr3y-O87u",
        "outputId": "3b75ac11-c1ff-41a1-a290-a35def9716d4"
      },
      "source": [
        "plt.plot(train.groupby('hour').mean()['count'], 'go--')\n",
        "plt.grid()\n",
        "\n",
        "plt.title('count by hours', fontsize = 15)\n",
        "plt.xlabel('hour', fontsize = 15)\n",
        "plt.ylabel('count', fontsize = 15)\n",
        "\n",
        "plt.axvline(8, color = 'r') # 'red'라 하면 오류남 \n",
        "plt.axvline(18, color = 'r')\n",
        "\n",
        "plt.text(8, 120, 'go work', fontsize = 10)\n",
        "plt.text(18, 120, 'leave work', fontsize = 10)\n",
        "\n",
        "plt.savefig('picture.png')"
      ],
      "execution_count": 19,
      "outputs": [
        {
          "output_type": "display_data",
          "data": {
            "image/png": "[encoded data removed]",
            "text/plain": [
              "<Figure size 432x288 with 1 Axes>"
            ]
          },
          "metadata": {
            "needs_background": "light"
          }
        }
      ]
    },
    {
      "cell_type": "markdown",
      "metadata": {
        "id": "29TMWrSJPzDL"
      },
      "source": [
        "### 매번 모든 데이터를 위와 같이 그래프로 표현할 수 없으니 \n",
        "### 단순히 수로 나타내기 위해 [상관계수] 등장!\n",
        "\n",
        "> 상관계수 : 두 개의 변수가 같이 일어나는 강도를 나타내는 수치 (!= 기울기)\n",
        "\n",
        "\n",
        "*   -1 에서 1사이의 값을 지님\n",
        "*   -1 이나 1인 수치는 현실 세계에서 관측되기 힘든 수치임\n",
        "*   보통 0.4이상이면 두 변수간에 상관성이 있다고 얘기함 \n",
        "(분야별/기준별 상이할 수도) \n",
        "\n",
        "\n",
        "\n"
      ]
    },
    {
      "cell_type": "markdown",
      "metadata": {
        "id": "rtmrz193SCn-"
      },
      "source": [
        "x변수 증가 -> y변수도 증가상황 : 1\n",
        "* x변수 증가 -> y변수 증가하는 상관정도가 약해질?수록 : 0 \n",
        "* x변수 중가 -> y변수 감소상황 : -1\n",
        "> '기울기'와는 다른 개념!!  비례 반비례랑도 아예 다름!!![상관계수.png](data:image/png;base64,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)"
      ]
    },
    {
      "cell_type": "markdown",
      "metadata": {
        "id": "iYY-XjdDXTUZ"
      },
      "source": [
        "## 그리고! 상관관계 & 인과관계는 다름\n",
        "> ex) 선글라스와 아이스크림 판매량"
      ]
    },
    {
      "cell_type": "markdown",
      "metadata": {
        "id": "PmEqQg55Xmz3"
      },
      "source": [
        "## pd.DataFrame.corr()\n",
        "*   correlation coefficient 의 줄임말\n",
        "\n",
        "+) 상관계수가 높은 변수들을 골라 모델을 생성한다 (간단히 표현하자면)"
      ]
    },
    {
      "cell_type": "code",
      "metadata": {
        "id": "j_NnUqmPYOSh"
      },
      "source": [
        "import seaborn as sns"
      ],
      "execution_count": 20,
      "outputs": []
    },
    {
      "cell_type": "code",
      "metadata": {
        "colab": {
          "base_uri": "https://localhost:8080/",
          "height": 607
        },
        "id": "4QQsTk6XYQoI",
        "outputId": "9083b893-d4ed-49a3-87ad-4029ef2eee5e"
      },
      "source": [
        "plt.figure(figsize=(8,8))\n",
        "sns.heatmap(train.corr(), annot = True)  #annot =True : 숫자 표시"
      ],
      "execution_count": 21,
      "outputs": [
        {
          "output_type": "execute_result",
          "data": {
            "text/plain": [
              "<matplotlib.axes._subplots.AxesSubplot at 0x7f009bdcf150>"
            ]
          },
          "metadata": {},
          "execution_count": 21
        },
        {
          "output_type": "display_data",
          "data": {
            "image/png": "[encoded data removed]",
            "text/plain": [
              "<Figure size 576x576 with 2 Axes>"
            ]
          },
          "metadata": {
            "needs_background": "light"
          }
        }
      ]
    },
    {
      "cell_type": "markdown",
      "metadata": {
        "id": "ACw4NHXMiR2W"
      },
      "source": [
        "# 3. 데이터 전처리 \n",
        "# Data Cleansing & Pre-Processing"
      ]
    },
    {
      "cell_type": "markdown",
      "metadata": {
        "id": "1YgcR7iwitXY"
      },
      "source": [
        "## pd.Series.isna()\n",
        "*   결측치 여부를 확인\n",
        "*   결측치면 True(1), 아니면 False(0)\n",
        "\n",
        "\n"
      ]
    },
    {
      "cell_type": "code",
      "metadata": {
        "colab": {
          "base_uri": "https://localhost:8080/"
        },
        "id": "V5J4gP2qjDJa",
        "outputId": "f0c0ea80-dd2b-4d4d-8dd2-f7158d7c6481"
      },
      "source": [
        "train.isna().sum()"
      ],
      "execution_count": 22,
      "outputs": [
        {
          "output_type": "execute_result",
          "data": {
            "text/plain": [
              "id                          0\n",
              "hour                        0\n",
              "hour_bef_temperature        2\n",
              "hour_bef_precipitation      2\n",
              "hour_bef_windspeed          9\n",
              "hour_bef_humidity           2\n",
              "hour_bef_visibility         2\n",
              "hour_bef_ozone             76\n",
              "hour_bef_pm10              90\n",
              "hour_bef_pm2.5            117\n",
              "count                       0\n",
              "dtype: int64"
            ]
          },
          "metadata": {},
          "execution_count": 22
        }
      ]
    },
    {
      "cell_type": "code",
      "metadata": {
        "colab": {
          "base_uri": "https://localhost:8080/",
          "height": 131
        },
        "id": "MfZBAtl9n67e",
        "outputId": "9702dfab-5cb4-4964-9201-aeec2c572886"
      },
      "source": [
        "#온도 결측치가 있는 행을 알아보자\n",
        "train[train['hour_bef_temperature'].isna()]\n"
      ],
      "execution_count": 23,
      "outputs": [
        {
          "output_type": "execute_result",
          "data": {
            "text/html": [
              "<div>\n",
              "<style scoped>\n",
              "    .dataframe tbody tr th:only-of-type {\n",
              "        vertical-align: middle;\n",
              "    }\n",
              "\n",
              "    .dataframe tbody tr th {\n",
              "        vertical-align: top;\n",
              "    }\n",
              "\n",
              "    .dataframe thead th {\n",
              "        text-align: right;\n",
              "    }\n",
              "</style>\n",
              "<table border=\"1\" class=\"dataframe\">\n",
              "  <thead>\n",
              "    <tr style=\"text-align: right;\">\n",
              "      <th></th>\n",
              "      <th>id</th>\n",
              "      <th>hour</th>\n",
              "      <th>hour_bef_temperature</th>\n",
              "      <th>hour_bef_precipitation</th>\n",
              "      <th>hour_bef_windspeed</th>\n",
              "      <th>hour_bef_humidity</th>\n",
              "      <th>hour_bef_visibility</th>\n",
              "      <th>hour_bef_ozone</th>\n",
              "      <th>hour_bef_pm10</th>\n",
              "      <th>hour_bef_pm2.5</th>\n",
              "      <th>count</th>\n",
              "    </tr>\n",
              "  </thead>\n",
              "  <tbody>\n",
              "    <tr>\n",
              "      <th>934</th>\n",
              "      <td>1420</td>\n",
              "      <td>0</td>\n",
              "      <td>NaN</td>\n",
              "      <td>NaN</td>\n",
              "      <td>NaN</td>\n",
              "      <td>NaN</td>\n",
              "      <td>NaN</td>\n",
              "      <td>NaN</td>\n",
              "      <td>NaN</td>\n",
              "      <td>NaN</td>\n",
              "      <td>39.0</td>\n",
              "    </tr>\n",
              "    <tr>\n",
              "      <th>1035</th>\n",
              "      <td>1553</td>\n",
              "      <td>18</td>\n",
              "      <td>NaN</td>\n",
              "      <td>NaN</td>\n",
              "      <td>NaN</td>\n",
              "      <td>NaN</td>\n",
              "      <td>NaN</td>\n",
              "      <td>NaN</td>\n",
              "      <td>NaN</td>\n",
              "      <td>NaN</td>\n",
              "      <td>1.0</td>\n",
              "    </tr>\n",
              "  </tbody>\n",
              "</table>\n",
              "</div>"
            ],
            "text/plain": [
              "        id  hour  hour_bef_temperature  ...  hour_bef_pm10  hour_bef_pm2.5  count\n",
              "934   1420     0                   NaN  ...            NaN             NaN   39.0\n",
              "1035  1553    18                   NaN  ...            NaN             NaN    1.0\n",
              "\n",
              "[2 rows x 11 columns]"
            ]
          },
          "metadata": {},
          "execution_count": 23
        }
      ]
    },
    {
      "cell_type": "code",
      "metadata": {
        "colab": {
          "base_uri": "https://localhost:8080/",
          "height": 297
        },
        "id": "J_JjqS8zjE_0",
        "outputId": "bcf049e1-7d81-4bbf-8f29-e0929b45e788"
      },
      "source": [
        "### 시간별 온도 평균 ###  \n",
        "train.groupby('hour').mean()['hour_bef_temperature'].plot() #시각화\n",
        "plt.axhline(train.groupby('hour').mean()['hour_bef_temperature'].mean())\n",
        "\n",
        "# axvline수직 axhline수평\n",
        "\n",
        "\n",
        "#### 0시와 18시의 온도 결측치를 전체 평균 등의 같은 값으로 채우기에는 정확성 하락이 예상 ####\n",
        "#### -> 따라서 시간당 평균으로 대체 예정 ####"
      ],
      "execution_count": 24,
      "outputs": [
        {
          "output_type": "execute_result",
          "data": {
            "text/plain": [
              "<matplotlib.lines.Line2D at 0x7f009b4b61d0>"
            ]
          },
          "metadata": {},
          "execution_count": 24
        },
        {
          "output_type": "display_data",
          "data": {
            "image/png": "[encoded data removed]",
            "text/plain": [
              "<Figure size 432x288 with 1 Axes>"
            ]
          },
          "metadata": {
            "needs_background": "light"
          }
        }
      ]
    },
    {
      "cell_type": "markdown",
      "metadata": {
        "id": "atQEZjIZrQ-x"
      },
      "source": [
        "## pd.DataFrame.fillna()\n",
        "*   결측치를 [ 채우고자하는 column ]& 결측치를 [ 대신하여 넣고자하는 값 ] 명시해야함\n",
        "*   결측치를 대체할 때는 필승하는 값은 없음 기준따라 달라짐"
      ]
    },
    {
      "cell_type": "code",
      "metadata": {
        "id": "rYkr2VR6nljD"
      },
      "source": [
        "train['hour_bef_temperature'].fillna({934:14.788136, 1035:20.926667}, inplace = True)\n",
        "# inplace = True 안하면 위 코드는 그냥 보여주기만 하고 저장되는 건 아님"
      ],
      "execution_count": 25,
      "outputs": []
    },
    {
      "cell_type": "code",
      "metadata": {
        "colab": {
          "base_uri": "https://localhost:8080/",
          "height": 131
        },
        "id": "34X6OUBYr1Wo",
        "outputId": "c9db3d17-5be1-444d-a386-e29065227034"
      },
      "source": [
        "train.loc[[934, 1035], : ] #확인용"
      ],
      "execution_count": 26,
      "outputs": [
        {
          "output_type": "execute_result",
          "data": {
            "text/html": [
              "<div>\n",
              "<style scoped>\n",
              "    .dataframe tbody tr th:only-of-type {\n",
              "        vertical-align: middle;\n",
              "    }\n",
              "\n",
              "    .dataframe tbody tr th {\n",
              "        vertical-align: top;\n",
              "    }\n",
              "\n",
              "    .dataframe thead th {\n",
              "        text-align: right;\n",
              "    }\n",
              "</style>\n",
              "<table border=\"1\" class=\"dataframe\">\n",
              "  <thead>\n",
              "    <tr style=\"text-align: right;\">\n",
              "      <th></th>\n",
              "      <th>id</th>\n",
              "      <th>hour</th>\n",
              "      <th>hour_bef_temperature</th>\n",
              "      <th>hour_bef_precipitation</th>\n",
              "      <th>hour_bef_windspeed</th>\n",
              "      <th>hour_bef_humidity</th>\n",
              "      <th>hour_bef_visibility</th>\n",
              "      <th>hour_bef_ozone</th>\n",
              "      <th>hour_bef_pm10</th>\n",
              "      <th>hour_bef_pm2.5</th>\n",
              "      <th>count</th>\n",
              "    </tr>\n",
              "  </thead>\n",
              "  <tbody>\n",
              "    <tr>\n",
              "      <th>934</th>\n",
              "      <td>1420</td>\n",
              "      <td>0</td>\n",
              "      <td>14.788136</td>\n",
              "      <td>NaN</td>\n",
              "      <td>NaN</td>\n",
              "      <td>NaN</td>\n",
              "      <td>NaN</td>\n",
              "      <td>NaN</td>\n",
              "      <td>NaN</td>\n",
              "      <td>NaN</td>\n",
              "      <td>39.0</td>\n",
              "    </tr>\n",
              "    <tr>\n",
              "      <th>1035</th>\n",
              "      <td>1553</td>\n",
              "      <td>18</td>\n",
              "      <td>20.926667</td>\n",
              "      <td>NaN</td>\n",
              "      <td>NaN</td>\n",
              "      <td>NaN</td>\n",
              "      <td>NaN</td>\n",
              "      <td>NaN</td>\n",
              "      <td>NaN</td>\n",
              "      <td>NaN</td>\n",
              "      <td>1.0</td>\n",
              "    </tr>\n",
              "  </tbody>\n",
              "</table>\n",
              "</div>"
            ],
            "text/plain": [
              "        id  hour  hour_bef_temperature  ...  hour_bef_pm10  hour_bef_pm2.5  count\n",
              "934   1420     0             14.788136  ...            NaN             NaN   39.0\n",
              "1035  1553    18             20.926667  ...            NaN             NaN    1.0\n",
              "\n",
              "[2 rows x 11 columns]"
            ]
          },
          "metadata": {},
          "execution_count": 26
        }
      ]
    },
    {
      "cell_type": "markdown",
      "metadata": {
        "id": "h_pzS-Q-XwIG"
      },
      "source": [
        "## 이번에는 풍속!"
      ]
    },
    {
      "cell_type": "code",
      "metadata": {
        "colab": {
          "base_uri": "https://localhost:8080/"
        },
        "id": "_m4Li2_XXy8q",
        "outputId": "fe3e62b3-3395-4a23-b0d2-a4b779581e5c"
      },
      "source": [
        "train[train['hour_bef_windspeed'].isna()].index"
      ],
      "execution_count": 27,
      "outputs": [
        {
          "output_type": "execute_result",
          "data": {
            "text/plain": [
              "Int64Index([18, 244, 260, 376, 780, 934, 1035, 1138, 1229], dtype='int64')"
            ]
          },
          "metadata": {},
          "execution_count": 27
        }
      ]
    },
    {
      "cell_type": "code",
      "metadata": {
        "colab": {
          "base_uri": "https://localhost:8080/",
          "height": 297
        },
        "id": "lVoDDpQWX6gw",
        "outputId": "5cda1848-74f2-412e-eb53-81d34a85ea4e"
      },
      "source": [
        "train.groupby('hour').mean()['hour_bef_windspeed'].plot()"
      ],
      "execution_count": 28,
      "outputs": [
        {
          "output_type": "execute_result",
          "data": {
            "text/plain": [
              "<matplotlib.axes._subplots.AxesSubplot at 0x7f0099c4f290>"
            ]
          },
          "metadata": {},
          "execution_count": 28
        },
        {
          "output_type": "display_data",
          "data": {
            "image/png": "[encoded data removed]",
            "text/plain": [
              "<Figure size 432x288 with 1 Axes>"
            ]
          },
          "metadata": {
            "needs_background": "light"
          }
        }
      ]
    },
    {
      "cell_type": "markdown",
      "metadata": {
        "id": "n5o-IGW-Yj4U"
      },
      "source": [
        "풍속도 편차가 심해서 평균으로 보기에는 무리가 있음"
      ]
    },
    {
      "cell_type": "code",
      "metadata": {
        "colab": {
          "base_uri": "https://localhost:8080/"
        },
        "id": "50s5I3xeYd5P",
        "outputId": "9597e05a-12cb-4e54-8e3e-558b806dfb2e"
      },
      "source": [
        "train['hour_bef_windspeed'].isna()"
      ],
      "execution_count": 29,
      "outputs": [
        {
          "output_type": "execute_result",
          "data": {
            "text/plain": [
              "0       False\n",
              "1       False\n",
              "2       False\n",
              "3       False\n",
              "4       False\n",
              "        ...  \n",
              "1454    False\n",
              "1455    False\n",
              "1456    False\n",
              "1457    False\n",
              "1458    False\n",
              "Name: hour_bef_windspeed, Length: 1459, dtype: bool"
            ]
          },
          "metadata": {},
          "execution_count": 29
        }
      ]
    },
    {
      "cell_type": "code",
      "metadata": {
        "colab": {
          "base_uri": "https://localhost:8080/",
          "height": 297
        },
        "id": "MYd7Dh7kZMqS",
        "outputId": "d923c347-7a76-477a-92fa-a3db46a00acd"
      },
      "source": [
        "train.groupby('hour').mean()['hour_bef_windspeed'].plot() #시각화\n",
        "plt.axhline(train.groupby('hour').mean()['hour_bef_windspeed'].mean())"
      ],
      "execution_count": 30,
      "outputs": [
        {
          "output_type": "execute_result",
          "data": {
            "text/plain": [
              "<matplotlib.lines.Line2D at 0x7f0099bb7350>"
            ]
          },
          "metadata": {},
          "execution_count": 30
        },
        {
          "output_type": "display_data",
          "data": {
            "image/png": "[encoded data removed]",
            "text/plain": [
              "<Figure size 432x288 with 1 Axes>"
            ]
          },
          "metadata": {
            "needs_background": "light"
          }
        }
      ]
    },
    {
      "cell_type": "code",
      "metadata": {
        "colab": {
          "base_uri": "https://localhost:8080/",
          "height": 347
        },
        "id": "mEO-_9nzabDy",
        "outputId": "9ffc2bfd-fa17-4174-c4bb-7a13761d97df"
      },
      "source": [
        "train[train['hour_bef_windspeed'].isna()]"
      ],
      "execution_count": 31,
      "outputs": [
        {
          "output_type": "execute_result",
          "data": {
            "text/html": [
              "<div>\n",
              "<style scoped>\n",
              "    .dataframe tbody tr th:only-of-type {\n",
              "        vertical-align: middle;\n",
              "    }\n",
              "\n",
              "    .dataframe tbody tr th {\n",
              "        vertical-align: top;\n",
              "    }\n",
              "\n",
              "    .dataframe thead th {\n",
              "        text-align: right;\n",
              "    }\n",
              "</style>\n",
              "<table border=\"1\" class=\"dataframe\">\n",
              "  <thead>\n",
              "    <tr style=\"text-align: right;\">\n",
              "      <th></th>\n",
              "      <th>id</th>\n",
              "      <th>hour</th>\n",
              "      <th>hour_bef_temperature</th>\n",
              "      <th>hour_bef_precipitation</th>\n",
              "      <th>hour_bef_windspeed</th>\n",
              "      <th>hour_bef_humidity</th>\n",
              "      <th>hour_bef_visibility</th>\n",
              "      <th>hour_bef_ozone</th>\n",
              "      <th>hour_bef_pm10</th>\n",
              "      <th>hour_bef_pm2.5</th>\n",
              "      <th>count</th>\n",
              "    </tr>\n",
              "  </thead>\n",
              "  <tbody>\n",
              "    <tr>\n",
              "      <th>18</th>\n",
              "      <td>33</td>\n",
              "      <td>13</td>\n",
              "      <td>22.600000</td>\n",
              "      <td>0.0</td>\n",
              "      <td>NaN</td>\n",
              "      <td>41.0</td>\n",
              "      <td>987.0</td>\n",
              "      <td>0.046</td>\n",
              "      <td>64.0</td>\n",
              "      <td>39.0</td>\n",
              "      <td>208.0</td>\n",
              "    </tr>\n",
              "    <tr>\n",
              "      <th>244</th>\n",
              "      <td>381</td>\n",
              "      <td>1</td>\n",
              "      <td>14.100000</td>\n",
              "      <td>0.0</td>\n",
              "      <td>NaN</td>\n",
              "      <td>55.0</td>\n",
              "      <td>1992.0</td>\n",
              "      <td>NaN</td>\n",
              "      <td>NaN</td>\n",
              "      <td>NaN</td>\n",
              "      <td>38.0</td>\n",
              "    </tr>\n",
              "    <tr>\n",
              "      <th>260</th>\n",
              "      <td>404</td>\n",
              "      <td>3</td>\n",
              "      <td>14.000000</td>\n",
              "      <td>0.0</td>\n",
              "      <td>NaN</td>\n",
              "      <td>50.0</td>\n",
              "      <td>2000.0</td>\n",
              "      <td>0.049</td>\n",
              "      <td>35.0</td>\n",
              "      <td>22.0</td>\n",
              "      <td>17.0</td>\n",
              "    </tr>\n",
              "    <tr>\n",
              "      <th>376</th>\n",
              "      <td>570</td>\n",
              "      <td>0</td>\n",
              "      <td>14.300000</td>\n",
              "      <td>0.0</td>\n",
              "      <td>NaN</td>\n",
              "      <td>49.0</td>\n",
              "      <td>2000.0</td>\n",
              "      <td>0.044</td>\n",
              "      <td>37.0</td>\n",
              "      <td>20.0</td>\n",
              "      <td>58.0</td>\n",
              "    </tr>\n",
              "    <tr>\n",
              "      <th>780</th>\n",
              "      <td>1196</td>\n",
              "      <td>20</td>\n",
              "      <td>16.500000</td>\n",
              "      <td>0.0</td>\n",
              "      <td>NaN</td>\n",
              "      <td>31.0</td>\n",
              "      <td>2000.0</td>\n",
              "      <td>0.058</td>\n",
              "      <td>39.0</td>\n",
              "      <td>18.0</td>\n",
              "      <td>181.0</td>\n",
              "    </tr>\n",
              "    <tr>\n",
              "      <th>934</th>\n",
              "      <td>1420</td>\n",
              "      <td>0</td>\n",
              "      <td>14.788136</td>\n",
              "      <td>NaN</td>\n",
              "      <td>NaN</td>\n",
              "      <td>NaN</td>\n",
              "      <td>NaN</td>\n",
              "      <td>NaN</td>\n",
              "      <td>NaN</td>\n",
              "      <td>NaN</td>\n",
              "      <td>39.0</td>\n",
              "    </tr>\n",
              "    <tr>\n",
              "      <th>1035</th>\n",
              "      <td>1553</td>\n",
              "      <td>18</td>\n",
              "      <td>20.926667</td>\n",
              "      <td>NaN</td>\n",
              "      <td>NaN</td>\n",
              "      <td>NaN</td>\n",
              "      <td>NaN</td>\n",
              "      <td>NaN</td>\n",
              "      <td>NaN</td>\n",
              "      <td>NaN</td>\n",
              "      <td>1.0</td>\n",
              "    </tr>\n",
              "    <tr>\n",
              "      <th>1138</th>\n",
              "      <td>1717</td>\n",
              "      <td>12</td>\n",
              "      <td>21.400000</td>\n",
              "      <td>0.0</td>\n",
              "      <td>NaN</td>\n",
              "      <td>44.0</td>\n",
              "      <td>1375.0</td>\n",
              "      <td>0.044</td>\n",
              "      <td>61.0</td>\n",
              "      <td>37.0</td>\n",
              "      <td>116.0</td>\n",
              "    </tr>\n",
              "    <tr>\n",
              "      <th>1229</th>\n",
              "      <td>1855</td>\n",
              "      <td>2</td>\n",
              "      <td>14.000000</td>\n",
              "      <td>0.0</td>\n",
              "      <td>NaN</td>\n",
              "      <td>52.0</td>\n",
              "      <td>2000.0</td>\n",
              "      <td>0.044</td>\n",
              "      <td>37.0</td>\n",
              "      <td>20.0</td>\n",
              "      <td>20.0</td>\n",
              "    </tr>\n",
              "  </tbody>\n",
              "</table>\n",
              "</div>"
            ],
            "text/plain": [
              "        id  hour  hour_bef_temperature  ...  hour_bef_pm10  hour_bef_pm2.5  count\n",
              "18      33    13             22.600000  ...           64.0            39.0  208.0\n",
              "244    381     1             14.100000  ...            NaN             NaN   38.0\n",
              "260    404     3             14.000000  ...           35.0            22.0   17.0\n",
              "376    570     0             14.300000  ...           37.0            20.0   58.0\n",
              "780   1196    20             16.500000  ...           39.0            18.0  181.0\n",
              "934   1420     0             14.788136  ...            NaN             NaN   39.0\n",
              "1035  1553    18             20.926667  ...            NaN             NaN    1.0\n",
              "1138  1717    12             21.400000  ...           61.0            37.0  116.0\n",
              "1229  1855     2             14.000000  ...           37.0            20.0   20.0\n",
              "\n",
              "[9 rows x 11 columns]"
            ]
          },
          "metadata": {},
          "execution_count": 31
        }
      ]
    },
    {
      "cell_type": "code",
      "metadata": {
        "colab": {
          "base_uri": "https://localhost:8080/"
        },
        "id": "lZALGDqXdDIH",
        "outputId": "5bef9ef4-7e56-46a5-e172-f0de5dbad224"
      },
      "source": [
        "train.groupby('hour').mean()['hour_bef_windspeed']"
      ],
      "execution_count": 32,
      "outputs": [
        {
          "output_type": "execute_result",
          "data": {
            "text/plain": [
              "hour\n",
              "0     1.965517\n",
              "1     1.836667\n",
              "2     1.633333\n",
              "3     1.620000\n",
              "4     1.409836\n",
              "5     1.296721\n",
              "6     1.331148\n",
              "7     1.262295\n",
              "8     1.632787\n",
              "9     1.829508\n",
              "10    2.122951\n",
              "11    2.485246\n",
              "12    2.766667\n",
              "13    3.281356\n",
              "14    3.522951\n",
              "15    3.768852\n",
              "16    3.820000\n",
              "17    3.801667\n",
              "18    3.838333\n",
              "19    3.595082\n",
              "20    3.278333\n",
              "21    2.755000\n",
              "22    2.498361\n",
              "23    2.195082\n",
              "Name: hour_bef_windspeed, dtype: float64"
            ]
          },
          "metadata": {},
          "execution_count": 32
        }
      ]
    },
    {
      "cell_type": "code",
      "metadata": {
        "id": "Y3NqgSKpZjBp"
      },
      "source": [
        "train['hour_bef_windspeed'].fillna({18:3.281356 , 244:1.836667 , 260:1.620000, 376:2.182850, 780:3.278333, 1138:2.766667, 1229:1.633333}, inplace = True)\n",
        "# fillna 안에 들어가는 숫자는 풍속이 null값인 행열를 나타내니까 temperature 의 값과는 다르지!\n",
        "# inplace = True 안하면 위 코드는 그냥 보여주기만 하고 저장되는 건 아님"
      ],
      "execution_count": 33,
      "outputs": []
    },
    {
      "cell_type": "code",
      "metadata": {
        "colab": {
          "base_uri": "https://localhost:8080/",
          "height": 111
        },
        "id": "stg4fQ1bZs_m",
        "outputId": "276788a6-254a-4f99-eafb-f4b8a0756b25"
      },
      "source": [
        "## 결측치 재확인\n",
        "train[train['hour_bef_windspeed'].isna()]"
      ],
      "execution_count": 34,
      "outputs": [
        {
          "output_type": "execute_result",
          "data": {
            "text/html": [
              "<div>\n",
              "<style scoped>\n",
              "    .dataframe tbody tr th:only-of-type {\n",
              "        vertical-align: middle;\n",
              "    }\n",
              "\n",
              "    .dataframe tbody tr th {\n",
              "        vertical-align: top;\n",
              "    }\n",
              "\n",
              "    .dataframe thead th {\n",
              "        text-align: right;\n",
              "    }\n",
              "</style>\n",
              "<table border=\"1\" class=\"dataframe\">\n",
              "  <thead>\n",
              "    <tr style=\"text-align: right;\">\n",
              "      <th></th>\n",
              "      <th>id</th>\n",
              "      <th>hour</th>\n",
              "      <th>hour_bef_temperature</th>\n",
              "      <th>hour_bef_precipitation</th>\n",
              "      <th>hour_bef_windspeed</th>\n",
              "      <th>hour_bef_humidity</th>\n",
              "      <th>hour_bef_visibility</th>\n",
              "      <th>hour_bef_ozone</th>\n",
              "      <th>hour_bef_pm10</th>\n",
              "      <th>hour_bef_pm2.5</th>\n",
              "      <th>count</th>\n",
              "    </tr>\n",
              "  </thead>\n",
              "  <tbody>\n",
              "    <tr>\n",
              "      <th>934</th>\n",
              "      <td>1420</td>\n",
              "      <td>0</td>\n",
              "      <td>14.788136</td>\n",
              "      <td>NaN</td>\n",
              "      <td>NaN</td>\n",
              "      <td>NaN</td>\n",
              "      <td>NaN</td>\n",
              "      <td>NaN</td>\n",
              "      <td>NaN</td>\n",
              "      <td>NaN</td>\n",
              "      <td>39.0</td>\n",
              "    </tr>\n",
              "    <tr>\n",
              "      <th>1035</th>\n",
              "      <td>1553</td>\n",
              "      <td>18</td>\n",
              "      <td>20.926667</td>\n",
              "      <td>NaN</td>\n",
              "      <td>NaN</td>\n",
              "      <td>NaN</td>\n",
              "      <td>NaN</td>\n",
              "      <td>NaN</td>\n",
              "      <td>NaN</td>\n",
              "      <td>NaN</td>\n",
              "      <td>1.0</td>\n",
              "    </tr>\n",
              "  </tbody>\n",
              "</table>\n",
              "</div>"
            ],
            "text/plain": [
              "        id  hour  hour_bef_temperature  ...  hour_bef_pm10  hour_bef_pm2.5  count\n",
              "934   1420     0             14.788136  ...            NaN             NaN   39.0\n",
              "1035  1553    18             20.926667  ...            NaN             NaN    1.0\n",
              "\n",
              "[2 rows x 11 columns]"
            ]
          },
          "metadata": {},
          "execution_count": 34
        }
      ]
    },
    {
      "cell_type": "code",
      "metadata": {
        "colab": {
          "base_uri": "https://localhost:8080/"
        },
        "id": "32OQGIAHebcx",
        "outputId": "7e1f83ac-3a99-4e30-be76-ba1e62d3aee3"
      },
      "source": [
        "#train 파일\n",
        "train.isna().sum()"
      ],
      "execution_count": 35,
      "outputs": [
        {
          "output_type": "execute_result",
          "data": {
            "text/plain": [
              "id                          0\n",
              "hour                        0\n",
              "hour_bef_temperature        0\n",
              "hour_bef_precipitation      2\n",
              "hour_bef_windspeed          2\n",
              "hour_bef_humidity           2\n",
              "hour_bef_visibility         2\n",
              "hour_bef_ozone             76\n",
              "hour_bef_pm10              90\n",
              "hour_bef_pm2.5            117\n",
              "count                       0\n",
              "dtype: int64"
            ]
          },
          "metadata": {},
          "execution_count": 35
        }
      ]
    },
    {
      "cell_type": "code",
      "metadata": {
        "colab": {
          "base_uri": "https://localhost:8080/"
        },
        "id": "N6kFf5w3ekEy",
        "outputId": "e5a61928-2b8e-4a25-e9f8-eda16ebb6c03"
      },
      "source": [
        "#test 파일\n",
        "test.isna().sum()"
      ],
      "execution_count": 36,
      "outputs": [
        {
          "output_type": "execute_result",
          "data": {
            "text/plain": [
              "id                         0\n",
              "hour                       0\n",
              "hour_bef_temperature       1\n",
              "hour_bef_precipitation     1\n",
              "hour_bef_windspeed         1\n",
              "hour_bef_humidity          1\n",
              "hour_bef_visibility        1\n",
              "hour_bef_ozone            35\n",
              "hour_bef_pm10             37\n",
              "hour_bef_pm2.5            36\n",
              "dtype: int64"
            ]
          },
          "metadata": {},
          "execution_count": 36
        }
      ]
    },
    {
      "cell_type": "code",
      "metadata": {
        "colab": {
          "base_uri": "https://localhost:8080/",
          "height": 100
        },
        "id": "8ze72VcTeu-4",
        "outputId": "9f46deec-d84f-4625-c7c7-338b2be0711a"
      },
      "source": [
        "test[test['hour_bef_temperature'].isna()]"
      ],
      "execution_count": 37,
      "outputs": [
        {
          "output_type": "execute_result",
          "data": {
            "text/html": [
              "<div>\n",
              "<style scoped>\n",
              "    .dataframe tbody tr th:only-of-type {\n",
              "        vertical-align: middle;\n",
              "    }\n",
              "\n",
              "    .dataframe tbody tr th {\n",
              "        vertical-align: top;\n",
              "    }\n",
              "\n",
              "    .dataframe thead th {\n",
              "        text-align: right;\n",
              "    }\n",
              "</style>\n",
              "<table border=\"1\" class=\"dataframe\">\n",
              "  <thead>\n",
              "    <tr style=\"text-align: right;\">\n",
              "      <th></th>\n",
              "      <th>id</th>\n",
              "      <th>hour</th>\n",
              "      <th>hour_bef_temperature</th>\n",
              "      <th>hour_bef_precipitation</th>\n",
              "      <th>hour_bef_windspeed</th>\n",
              "      <th>hour_bef_humidity</th>\n",
              "      <th>hour_bef_visibility</th>\n",
              "      <th>hour_bef_ozone</th>\n",
              "      <th>hour_bef_pm10</th>\n",
              "      <th>hour_bef_pm2.5</th>\n",
              "    </tr>\n",
              "  </thead>\n",
              "  <tbody>\n",
              "    <tr>\n",
              "      <th>653</th>\n",
              "      <td>1943</td>\n",
              "      <td>19</td>\n",
              "      <td>NaN</td>\n",
              "      <td>NaN</td>\n",
              "      <td>NaN</td>\n",
              "      <td>NaN</td>\n",
              "      <td>NaN</td>\n",
              "      <td>NaN</td>\n",
              "      <td>NaN</td>\n",
              "      <td>NaN</td>\n",
              "    </tr>\n",
              "  </tbody>\n",
              "</table>\n",
              "</div>"
            ],
            "text/plain": [
              "       id  hour  ...  hour_bef_pm10  hour_bef_pm2.5\n",
              "653  1943    19  ...            NaN             NaN\n",
              "\n",
              "[1 rows x 10 columns]"
            ]
          },
          "metadata": {},
          "execution_count": 37
        }
      ]
    },
    {
      "cell_type": "code",
      "metadata": {
        "colab": {
          "base_uri": "https://localhost:8080/"
        },
        "id": "Q7UL3lqTe39u",
        "outputId": "e9a4102d-bfe5-4022-86ad-a57e2fd12f13"
      },
      "source": [
        "train.groupby('hour').mean()['hour_bef_temperature']"
      ],
      "execution_count": 38,
      "outputs": [
        {
          "output_type": "execute_result",
          "data": {
            "text/plain": [
              "hour\n",
              "0     14.788136\n",
              "1     14.155738\n",
              "2     13.747541\n",
              "3     13.357377\n",
              "4     13.001639\n",
              "5     12.673770\n",
              "6     12.377049\n",
              "7     12.191803\n",
              "8     12.600000\n",
              "9     14.318033\n",
              "10    16.242623\n",
              "11    18.019672\n",
              "12    19.457377\n",
              "13    20.648333\n",
              "14    21.234426\n",
              "15    21.744262\n",
              "16    22.015000\n",
              "17    21.603333\n",
              "18    20.926667\n",
              "19    19.704918\n",
              "20    18.191803\n",
              "21    16.978333\n",
              "22    16.063934\n",
              "23    15.418033\n",
              "Name: hour_bef_temperature, dtype: float64"
            ]
          },
          "metadata": {},
          "execution_count": 38
        }
      ]
    },
    {
      "cell_type": "code",
      "metadata": {
        "colab": {
          "base_uri": "https://localhost:8080/"
        },
        "id": "ZJaSjUkuf-VQ",
        "outputId": "07475ae6-0e13-406b-dff8-a201966246e3"
      },
      "source": [
        "train.groupby('hour').mean()['hour_bef_windspeed']"
      ],
      "execution_count": 39,
      "outputs": [
        {
          "output_type": "execute_result",
          "data": {
            "text/plain": [
              "hour\n",
              "0     1.969201\n",
              "1     1.836667\n",
              "2     1.633333\n",
              "3     1.620000\n",
              "4     1.409836\n",
              "5     1.296721\n",
              "6     1.331148\n",
              "7     1.262295\n",
              "8     1.632787\n",
              "9     1.829508\n",
              "10    2.122951\n",
              "11    2.485246\n",
              "12    2.766667\n",
              "13    3.281356\n",
              "14    3.522951\n",
              "15    3.768852\n",
              "16    3.820000\n",
              "17    3.801667\n",
              "18    3.838333\n",
              "19    3.595082\n",
              "20    3.278333\n",
              "21    2.755000\n",
              "22    2.498361\n",
              "23    2.195082\n",
              "Name: hour_bef_windspeed, dtype: float64"
            ]
          },
          "metadata": {},
          "execution_count": 39
        }
      ]
    },
    {
      "cell_type": "code",
      "metadata": {
        "id": "E2jCQnXQfXki"
      },
      "source": [
        "#train 데이터셋에 시간별 평균값으로 채워놓음\n",
        "test['hour_bef_temperature'].fillna(19.704918, inplace=True)\n",
        "test['hour_bef_windspeed'].fillna(3.595082, inplace=True)"
      ],
      "execution_count": 40,
      "outputs": []
    },
    {
      "cell_type": "code",
      "metadata": {
        "colab": {
          "base_uri": "https://localhost:8080/"
        },
        "id": "RtggEuraffEr",
        "outputId": "1174b0ae-b383-4c56-9a92-cdec95aa2b30"
      },
      "source": [
        "test.isna().sum()"
      ],
      "execution_count": 41,
      "outputs": [
        {
          "output_type": "execute_result",
          "data": {
            "text/plain": [
              "id                         0\n",
              "hour                       0\n",
              "hour_bef_temperature       0\n",
              "hour_bef_precipitation     1\n",
              "hour_bef_windspeed         0\n",
              "hour_bef_humidity          1\n",
              "hour_bef_visibility        1\n",
              "hour_bef_ozone            35\n",
              "hour_bef_pm10             37\n",
              "hour_bef_pm2.5            36\n",
              "dtype: int64"
            ]
          },
          "metadata": {},
          "execution_count": 41
        }
      ]
    },
    {
      "cell_type": "markdown",
      "metadata": {
        "id": "aXx6YFbTR_on"
      },
      "source": [
        "# 4. 변수 선택 및 모델 구축\n",
        "# Feature Engineering & Initial Modeling\n",
        "\n",
        "이제야 처음 목적을 진행하기위한 모델을 만들 예정.\n",
        "> 각 날짜의 1시간 전의 [기상상황]을 가지고 1시간 후의 [따릉이 대여수]를 예측\n",
        "\n",
        "지금까지의 모든 과정이 우리가 분석해야하는 데이터셋에 대한 전처리였던 것"
      ]
    },
    {
      "cell_type": "markdown",
      "metadata": {
        "id": "nUHPxQm_TUqW"
      },
      "source": [
        "## 모델 :  X -> model -> Y\n"
      ]
    },
    {
      "cell_type": "code",
      "metadata": {
        "id": "VYRrwbKpgMU8",
        "colab": {
          "base_uri": "https://localhost:8080/",
          "height": 224
        },
        "outputId": "d6690f2c-6795-4289-e949-3bdc518eddd8"
      },
      "source": [
        "train.head()"
      ],
      "execution_count": 42,
      "outputs": [
        {
          "output_type": "execute_result",
          "data": {
            "text/html": [
              "<div>\n",
              "<style scoped>\n",
              "    .dataframe tbody tr th:only-of-type {\n",
              "        vertical-align: middle;\n",
              "    }\n",
              "\n",
              "    .dataframe tbody tr th {\n",
              "        vertical-align: top;\n",
              "    }\n",
              "\n",
              "    .dataframe thead th {\n",
              "        text-align: right;\n",
              "    }\n",
              "</style>\n",
              "<table border=\"1\" class=\"dataframe\">\n",
              "  <thead>\n",
              "    <tr style=\"text-align: right;\">\n",
              "      <th></th>\n",
              "      <th>id</th>\n",
              "      <th>hour</th>\n",
              "      <th>hour_bef_temperature</th>\n",
              "      <th>hour_bef_precipitation</th>\n",
              "      <th>hour_bef_windspeed</th>\n",
              "      <th>hour_bef_humidity</th>\n",
              "      <th>hour_bef_visibility</th>\n",
              "      <th>hour_bef_ozone</th>\n",
              "      <th>hour_bef_pm10</th>\n",
              "      <th>hour_bef_pm2.5</th>\n",
              "      <th>count</th>\n",
              "    </tr>\n",
              "  </thead>\n",
              "  <tbody>\n",
              "    <tr>\n",
              "      <th>0</th>\n",
              "      <td>3</td>\n",
              "      <td>20</td>\n",
              "      <td>16.3</td>\n",
              "      <td>1.0</td>\n",
              "      <td>1.5</td>\n",
              "      <td>89.0</td>\n",
              "      <td>576.0</td>\n",
              "      <td>0.027</td>\n",
              "      <td>76.0</td>\n",
              "      <td>33.0</td>\n",
              "      <td>49.0</td>\n",
              "    </tr>\n",
              "    <tr>\n",
              "      <th>1</th>\n",
              "      <td>6</td>\n",
              "      <td>13</td>\n",
              "      <td>20.1</td>\n",
              "      <td>0.0</td>\n",
              "      <td>1.4</td>\n",
              "      <td>48.0</td>\n",
              "      <td>916.0</td>\n",
              "      <td>0.042</td>\n",
              "      <td>73.0</td>\n",
              "      <td>40.0</td>\n",
              "      <td>159.0</td>\n",
              "    </tr>\n",
              "    <tr>\n",
              "      <th>2</th>\n",
              "      <td>7</td>\n",
              "      <td>6</td>\n",
              "      <td>13.9</td>\n",
              "      <td>0.0</td>\n",
              "      <td>0.7</td>\n",
              "      <td>79.0</td>\n",
              "      <td>1382.0</td>\n",
              "      <td>0.033</td>\n",
              "      <td>32.0</td>\n",
              "      <td>19.0</td>\n",
              "      <td>26.0</td>\n",
              "    </tr>\n",
              "    <tr>\n",
              "      <th>3</th>\n",
              "      <td>8</td>\n",
              "      <td>23</td>\n",
              "      <td>8.1</td>\n",
              "      <td>0.0</td>\n",
              "      <td>2.7</td>\n",
              "      <td>54.0</td>\n",
              "      <td>946.0</td>\n",
              "      <td>0.040</td>\n",
              "      <td>75.0</td>\n",
              "      <td>64.0</td>\n",
              "      <td>57.0</td>\n",
              "    </tr>\n",
              "    <tr>\n",
              "      <th>4</th>\n",
              "      <td>9</td>\n",
              "      <td>18</td>\n",
              "      <td>29.5</td>\n",
              "      <td>0.0</td>\n",
              "      <td>4.8</td>\n",
              "      <td>7.0</td>\n",
              "      <td>2000.0</td>\n",
              "      <td>0.057</td>\n",
              "      <td>27.0</td>\n",
              "      <td>11.0</td>\n",
              "      <td>431.0</td>\n",
              "    </tr>\n",
              "  </tbody>\n",
              "</table>\n",
              "</div>"
            ],
            "text/plain": [
              "   id  hour  hour_bef_temperature  ...  hour_bef_pm10  hour_bef_pm2.5  count\n",
              "0   3    20                  16.3  ...           76.0            33.0   49.0\n",
              "1   6    13                  20.1  ...           73.0            40.0  159.0\n",
              "2   7     6                  13.9  ...           32.0            19.0   26.0\n",
              "3   8    23                   8.1  ...           75.0            64.0   57.0\n",
              "4   9    18                  29.5  ...           27.0            11.0  431.0\n",
              "\n",
              "[5 rows x 11 columns]"
            ]
          },
          "metadata": {},
          "execution_count": 42
        }
      ]
    },
    {
      "cell_type": "markdown",
      "metadata": {
        "id": "Uamt1lkOTvAY"
      },
      "source": [
        "## X -> model -> Y\n",
        "X : feature ['hour', 'hour_bef_temperature', 'hour_bef_windspeed'] \n",
        "\n",
        "Y : 해당 시간에 따릉이 대여량"
      ]
    },
    {
      "cell_type": "code",
      "metadata": {
        "id": "Vb0JbkvbSNTi"
      },
      "source": [
        "features = ['hour', 'hour_bef_temperature', 'hour_bef_windspeed']\n",
        "X_train = train[features] # X\n",
        "y_train = train['count']  # Y\n",
        "X_test = test[features]   # X 내가 학습시킨 모델의 성능을 확인\n",
        "### 위와 같이 분리 ###"
      ],
      "execution_count": 63,
      "outputs": []
    },
    {
      "cell_type": "code",
      "metadata": {
        "colab": {
          "base_uri": "https://localhost:8080/"
        },
        "id": "mOMoTg2aUUGb",
        "outputId": "0d55598b-8c48-4138-e79d-1c75ce67c047"
      },
      "source": [
        "print(X_train.shape)\n",
        "print(y_train.shape)\n",
        "print(X_test.shape)"
      ],
      "execution_count": 64,
      "outputs": [
        {
          "output_type": "stream",
          "name": "stdout",
          "text": [
            "(1459, 3)\n",
            "(1459,)\n",
            "(715, 3)\n"
          ]
        }
      ]
    },
    {
      "cell_type": "code",
      "metadata": {
        "id": "zjrPU7EhVTKU"
      },
      "source": [
        "# 랜덤 포레스트\n",
        "model= RandomForestRegressor()\n",
        "# DecisionTreeRegressor 이 모여서 만들어진 모델"
      ],
      "execution_count": 65,
      "outputs": []
    },
    {
      "cell_type": "code",
      "metadata": {
        "id": "JxZlgmbgX_7x"
      },
      "source": [
        "model100 = RandomForestRegressor(n_estimators=100, random_state=0)\n",
        "model100_5 = RandomForestRegressor(n_estimators=100, max_depth=5, random_state=0)\n",
        "model200 = RandomForestRegressor(n_estimators=200)\n",
        "#데이터마다 적합한 옵션이 다 다름"
      ],
      "execution_count": 66,
      "outputs": []
    },
    {
      "cell_type": "code",
      "metadata": {
        "colab": {
          "base_uri": "https://localhost:8080/",
          "height": 111
        },
        "id": "6y-wn1Tda9gx",
        "outputId": "34774960-9ccf-4eeb-c00d-c97ea685980e"
      },
      "source": [
        "X_train[X_train['hour_bef_windspeed'].isna()]"
      ],
      "execution_count": 71,
      "outputs": [
        {
          "output_type": "execute_result",
          "data": {
            "text/html": [
              "<div>\n",
              "<style scoped>\n",
              "    .dataframe tbody tr th:only-of-type {\n",
              "        vertical-align: middle;\n",
              "    }\n",
              "\n",
              "    .dataframe tbody tr th {\n",
              "        vertical-align: top;\n",
              "    }\n",
              "\n",
              "    .dataframe thead th {\n",
              "        text-align: right;\n",
              "    }\n",
              "</style>\n",
              "<table border=\"1\" class=\"dataframe\">\n",
              "  <thead>\n",
              "    <tr style=\"text-align: right;\">\n",
              "      <th></th>\n",
              "      <th>hour</th>\n",
              "      <th>hour_bef_temperature</th>\n",
              "      <th>hour_bef_windspeed</th>\n",
              "    </tr>\n",
              "  </thead>\n",
              "  <tbody>\n",
              "    <tr>\n",
              "      <th>934</th>\n",
              "      <td>0</td>\n",
              "      <td>14.788136</td>\n",
              "      <td>NaN</td>\n",
              "    </tr>\n",
              "    <tr>\n",
              "      <th>1035</th>\n",
              "      <td>18</td>\n",
              "      <td>20.926667</td>\n",
              "      <td>NaN</td>\n",
              "    </tr>\n",
              "  </tbody>\n",
              "</table>\n",
              "</div>"
            ],
            "text/plain": [
              "      hour  hour_bef_temperature  hour_bef_windspeed\n",
              "934      0             14.788136                 NaN\n",
              "1035    18             20.926667                 NaN"
            ]
          },
          "metadata": {},
          "execution_count": 71
        }
      ]
    },
    {
      "cell_type": "code",
      "metadata": {
        "colab": {
          "base_uri": "https://localhost:8080/"
        },
        "id": "p8Ob7Jgebnqo",
        "outputId": "e163aadb-cb98-4589-9637-969b5a31ecc1"
      },
      "source": [
        "X_train['hour_bef_windspeed'].fillna({934:1.969201,1035:3.838333}, inplace = True)"
      ],
      "execution_count": 72,
      "outputs": [
        {
          "output_type": "stream",
          "name": "stderr",
          "text": [
            "/usr/local/lib/python3.7/dist-packages/pandas/core/series.py:4536: SettingWithCopyWarning: \n",
            "A value is trying to be set on a copy of a slice from a DataFrame\n",
            "\n",
            "See the caveats in the documentation: https://pandas.pydata.org/pandas-docs/stable/user_guide/indexing.html#returning-a-view-versus-a-copy\n",
            "  downcast=downcast,\n"
          ]
        }
      ]
    },
    {
      "cell_type": "code",
      "metadata": {
        "colab": {
          "base_uri": "https://localhost:8080/"
        },
        "id": "BjJgVESKYLo6",
        "outputId": "b5bb126e-7a12-4531-f00b-fca1e2a8e87e"
      },
      "source": [
        "model100.fit(X_train, y_train)\n",
        "model100_5.fit(X_train, y_train)\n",
        "model200.fit(X_train, y_train)\n",
        "### 학습완료 ###"
      ],
      "execution_count": 73,
      "outputs": [
        {
          "output_type": "execute_result",
          "data": {
            "text/plain": [
              "RandomForestRegressor(bootstrap=True, ccp_alpha=0.0, criterion='mse',\n",
              "                      max_depth=None, max_features='auto', max_leaf_nodes=None,\n",
              "                      max_samples=None, min_impurity_decrease=0.0,\n",
              "                      min_impurity_split=None, min_samples_leaf=1,\n",
              "                      min_samples_split=2, min_weight_fraction_leaf=0.0,\n",
              "                      n_estimators=200, n_jobs=None, oob_score=False,\n",
              "                      random_state=None, verbose=0, warm_start=False)"
            ]
          },
          "metadata": {},
          "execution_count": 73
        }
      ]
    },
    {
      "cell_type": "code",
      "metadata": {
        "id": "nJXJxUhsYrH0"
      },
      "source": [
        "### 각각의 모델별로 예측 ###\n",
        "ypred1 = model100.predict(X_test)\n",
        "ypred2 = model100_5.predict(X_test)\n",
        "ypred3 = model200.predict(X_test)"
      ],
      "execution_count": 77,
      "outputs": []
    },
    {
      "cell_type": "code",
      "metadata": {
        "colab": {
          "base_uri": "https://localhost:8080/",
          "height": 418
        },
        "id": "pTqhmVQecYYh",
        "outputId": "3cc39925-f23e-47a7-88ee-f5a71e713481"
      },
      "source": [
        "### 이 내용들을 데이콘에 제출하기위해서는 답안지에 옮겨담기 ###\n",
        "submission['count'] = ypred1\n",
        "submission     # 그냥 출력"
      ],
      "execution_count": 82,
      "outputs": [
        {
          "output_type": "execute_result",
          "data": {
            "text/html": [
              "<div>\n",
              "<style scoped>\n",
              "    .dataframe tbody tr th:only-of-type {\n",
              "        vertical-align: middle;\n",
              "    }\n",
              "\n",
              "    .dataframe tbody tr th {\n",
              "        vertical-align: top;\n",
              "    }\n",
              "\n",
              "    .dataframe thead th {\n",
              "        text-align: right;\n",
              "    }\n",
              "</style>\n",
              "<table border=\"1\" class=\"dataframe\">\n",
              "  <thead>\n",
              "    <tr style=\"text-align: right;\">\n",
              "      <th></th>\n",
              "      <th>id</th>\n",
              "      <th>count</th>\n",
              "    </tr>\n",
              "  </thead>\n",
              "  <tbody>\n",
              "    <tr>\n",
              "      <th>0</th>\n",
              "      <td>0</td>\n",
              "      <td>86.615000</td>\n",
              "    </tr>\n",
              "    <tr>\n",
              "      <th>1</th>\n",
              "      <td>1</td>\n",
              "      <td>245.590000</td>\n",
              "    </tr>\n",
              "    <tr>\n",
              "      <th>2</th>\n",
              "      <td>2</td>\n",
              "      <td>106.400000</td>\n",
              "    </tr>\n",
              "    <tr>\n",
              "      <th>3</th>\n",
              "      <td>4</td>\n",
              "      <td>32.740000</td>\n",
              "    </tr>\n",
              "    <tr>\n",
              "      <th>4</th>\n",
              "      <td>5</td>\n",
              "      <td>133.016667</td>\n",
              "    </tr>\n",
              "    <tr>\n",
              "      <th>...</th>\n",
              "      <td>...</td>\n",
              "      <td>...</td>\n",
              "    </tr>\n",
              "    <tr>\n",
              "      <th>710</th>\n",
              "      <td>2148</td>\n",
              "      <td>66.650000</td>\n",
              "    </tr>\n",
              "    <tr>\n",
              "      <th>711</th>\n",
              "      <td>2149</td>\n",
              "      <td>52.660000</td>\n",
              "    </tr>\n",
              "    <tr>\n",
              "      <th>712</th>\n",
              "      <td>2165</td>\n",
              "      <td>126.390000</td>\n",
              "    </tr>\n",
              "    <tr>\n",
              "      <th>713</th>\n",
              "      <td>2166</td>\n",
              "      <td>189.110000</td>\n",
              "    </tr>\n",
              "    <tr>\n",
              "      <th>714</th>\n",
              "      <td>2177</td>\n",
              "      <td>225.410000</td>\n",
              "    </tr>\n",
              "  </tbody>\n",
              "</table>\n",
              "<p>715 rows × 2 columns</p>\n",
              "</div>"
            ],
            "text/plain": [
              "       id       count\n",
              "0       0   86.615000\n",
              "1       1  245.590000\n",
              "2       2  106.400000\n",
              "3       4   32.740000\n",
              "4       5  133.016667\n",
              "..    ...         ...\n",
              "710  2148   66.650000\n",
              "711  2149   52.660000\n",
              "712  2165  126.390000\n",
              "713  2166  189.110000\n",
              "714  2177  225.410000\n",
              "\n",
              "[715 rows x 2 columns]"
            ]
          },
          "metadata": {},
          "execution_count": 82
        }
      ]
    },
    {
      "cell_type": "code",
      "metadata": {
        "id": "l9Sslt2udgSZ"
      },
      "source": [
        "submission.to_csv('model100.csv', index = False)"
      ],
      "execution_count": 83,
      "outputs": []
    },
    {
      "cell_type": "code",
      "metadata": {
        "id": "s_plS0JvdDKK"
      },
      "source": [
        "submission['count'] = ypred2\n",
        "submission.to_csv('model100_5.csv', index = False)"
      ],
      "execution_count": 84,
      "outputs": []
    },
    {
      "cell_type": "code",
      "metadata": {
        "id": "FRKaiETEdKl5"
      },
      "source": [
        "submission['count'] = ypred3\n",
        "submission.to_csv('model200.csv', index = False)"
      ],
      "execution_count": 86,
      "outputs": []
    },
    {
      "cell_type": "code",
      "metadata": {
        "id": "SkRrEZJtdyOD"
      },
      "source": [
        ""
      ],
      "execution_count": null,
      "outputs": []
    }
  ]
}