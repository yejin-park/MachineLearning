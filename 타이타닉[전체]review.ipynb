{
  "nbformat": 4,
  "nbformat_minor": 0,
  "metadata": {
    "colab": {
      "name": "타이타닉[전체]review.ipynb",
      "provenance": [],
      "collapsed_sections": [],
      "mount_file_id": "182mwkS31pRATgs6DI1DhS_ThDhHMO9xf",
      "authorship_tag": "ABX9TyMq+ij4mNbXxdNJOMpiHngo",
      "include_colab_link": true
    },
    "kernelspec": {
      "name": "python3",
      "display_name": "Python 3"
    },
    "language_info": {
      "name": "python"
    }
  },
  "cells": [
    {
      "cell_type": "markdown",
      "metadata": {
        "id": "view-in-github",
        "colab_type": "text"
      },
      "source": [
        "<a href=\"https://colab.research.google.com/github/yejin-park/MachineLearning/blob/main/%ED%83%80%EC%9D%B4%ED%83%80%EB%8B%89%5B%EC%A0%84%EC%B2%B4%5Dreview.ipynb\" target=\"_parent\"><img src=\"https://colab.research.google.com/assets/colab-badge.svg\" alt=\"Open In Colab\"/></a>"
      ]
    },
    {
      "cell_type": "markdown",
      "metadata": {
        "id": "gKdcsmG9dZIz"
      },
      "source": [
        "<<<Sex칼럼이 결측치로 인식되는 이유를 알아야함>>> : 알 수 없는 데이터 오류\n",
        "\n",
        "<<<자료형이 숫자형인 경우에만 학습이 가능>>> : map 활용\n",
        "          \n",
        "          train['Sex'] = train['Sex'].map({'male':0, 'female':1})\n"
      ]
    },
    {
      "cell_type": "markdown",
      "metadata": {
        "id": "KtH-BljymL7D"
      },
      "source": [
        "# 타이타닉 데이터를 활용한 데이터 분석\n",
        "\n",
        "> 탑승자의 인적사항 정보에 따른 생존여부\n",
        "\n",
        "\n"
      ]
    },
    {
      "cell_type": "markdown",
      "metadata": {
        "id": "gq8fjumXmPt8"
      },
      "source": [
        "## 1.라이브러리 및 데이터 (Library & Data)"
      ]
    },
    {
      "cell_type": "code",
      "metadata": {
        "id": "1SMWbUQEk9rJ"
      },
      "source": [
        "import pandas as pd #판다스 패키지 불러오기\n",
        "from sklearn.linear_model import LogisticRegression #로지스틱 회귀 모델 불러오기\n",
        "from sklearn.tree import DecisionTreeClassifier #의사결정 나무 모델 불러오기"
      ],
      "execution_count": 170,
      "outputs": []
    },
    {
      "cell_type": "markdown",
      "metadata": {
        "id": "5FoNof7omzQ2"
      },
      "source": [
        "##pd.read_csv()\n",
        "* csv파일 읽는 함수"
      ]
    },
    {
      "cell_type": "code",
      "metadata": {
        "id": "agQ1n-E-mywR"
      },
      "source": [
        "# 데이터 불러오기\n",
        "train = pd.read_csv('/content/titanic/train.csv')  #모델 학습 파일\n",
        "test = pd.read_csv('/content/titanic/test.csv') # 모델 시험지 파일\n",
        "submission = pd.read_csv('/content/titanic/submission.csv') # 답안지 파일"
      ],
      "execution_count": 171,
      "outputs": []
    },
    {
      "cell_type": "markdown",
      "metadata": {
        "id": "vNUqFEGX55ga"
      },
      "source": [
        "## 2. 탐색적 자료분석\n",
        "Exploratory Data Analysis (EDA)"
      ]
    },
    {
      "cell_type": "markdown",
      "metadata": {
        "id": "3cPJQuQi6HeZ"
      },
      "source": [
        "### pd.DateFrame.head()\n",
        "### pd.DateFrame.tail()\n",
        "### pd.DateFrame.shape #괄호없음\n"
      ]
    },
    {
      "cell_type": "code",
      "metadata": {
        "colab": {
          "base_uri": "https://localhost:8080/",
          "height": 902
        },
        "id": "cSBKaCQN7S_K",
        "outputId": "7774715b-5416-4731-af11-97f031ce7bad"
      },
      "source": [
        "train.head(10)"
      ],
      "execution_count": 172,
      "outputs": [
        {
          "output_type": "execute_result",
          "data": {
            "text/html": [
              "<div>\n",
              "<style scoped>\n",
              "    .dataframe tbody tr th:only-of-type {\n",
              "        vertical-align: middle;\n",
              "    }\n",
              "\n",
              "    .dataframe tbody tr th {\n",
              "        vertical-align: top;\n",
              "    }\n",
              "\n",
              "    .dataframe thead th {\n",
              "        text-align: right;\n",
              "    }\n",
              "</style>\n",
              "<table border=\"1\" class=\"dataframe\">\n",
              "  <thead>\n",
              "    <tr style=\"text-align: right;\">\n",
              "      <th></th>\n",
              "      <th>PassengerId</th>\n",
              "      <th>Survived</th>\n",
              "      <th>Pclass</th>\n",
              "      <th>Name</th>\n",
              "      <th>Sex</th>\n",
              "      <th>Age</th>\n",
              "      <th>SibSp</th>\n",
              "      <th>Parch</th>\n",
              "      <th>Ticket</th>\n",
              "      <th>Fare</th>\n",
              "      <th>Cabin</th>\n",
              "      <th>Embarked</th>\n",
              "    </tr>\n",
              "  </thead>\n",
              "  <tbody>\n",
              "    <tr>\n",
              "      <th>0</th>\n",
              "      <td>1</td>\n",
              "      <td>0</td>\n",
              "      <td>3</td>\n",
              "      <td>Braund, Mr. Owen Harris</td>\n",
              "      <td>male</td>\n",
              "      <td>22.0</td>\n",
              "      <td>1</td>\n",
              "      <td>0</td>\n",
              "      <td>A/5 21171</td>\n",
              "      <td>7.2500</td>\n",
              "      <td>NaN</td>\n",
              "      <td>S</td>\n",
              "    </tr>\n",
              "    <tr>\n",
              "      <th>1</th>\n",
              "      <td>2</td>\n",
              "      <td>1</td>\n",
              "      <td>1</td>\n",
              "      <td>Cumings, Mrs. John Bradley (Florence Briggs Th...</td>\n",
              "      <td>female</td>\n",
              "      <td>38.0</td>\n",
              "      <td>1</td>\n",
              "      <td>0</td>\n",
              "      <td>PC 17599</td>\n",
              "      <td>71.2833</td>\n",
              "      <td>C85</td>\n",
              "      <td>C</td>\n",
              "    </tr>\n",
              "    <tr>\n",
              "      <th>2</th>\n",
              "      <td>3</td>\n",
              "      <td>1</td>\n",
              "      <td>3</td>\n",
              "      <td>Heikkinen, Miss. Laina</td>\n",
              "      <td>female</td>\n",
              "      <td>26.0</td>\n",
              "      <td>0</td>\n",
              "      <td>0</td>\n",
              "      <td>STON/O2. 3101282</td>\n",
              "      <td>7.9250</td>\n",
              "      <td>NaN</td>\n",
              "      <td>S</td>\n",
              "    </tr>\n",
              "    <tr>\n",
              "      <th>3</th>\n",
              "      <td>4</td>\n",
              "      <td>1</td>\n",
              "      <td>1</td>\n",
              "      <td>Futrelle, Mrs. Jacques Heath (Lily May Peel)</td>\n",
              "      <td>female</td>\n",
              "      <td>35.0</td>\n",
              "      <td>1</td>\n",
              "      <td>0</td>\n",
              "      <td>113803</td>\n",
              "      <td>53.1000</td>\n",
              "      <td>C123</td>\n",
              "      <td>S</td>\n",
              "    </tr>\n",
              "    <tr>\n",
              "      <th>4</th>\n",
              "      <td>5</td>\n",
              "      <td>0</td>\n",
              "      <td>3</td>\n",
              "      <td>Allen, Mr. William Henry</td>\n",
              "      <td>male</td>\n",
              "      <td>35.0</td>\n",
              "      <td>0</td>\n",
              "      <td>0</td>\n",
              "      <td>373450</td>\n",
              "      <td>8.0500</td>\n",
              "      <td>NaN</td>\n",
              "      <td>S</td>\n",
              "    </tr>\n",
              "    <tr>\n",
              "      <th>5</th>\n",
              "      <td>6</td>\n",
              "      <td>0</td>\n",
              "      <td>3</td>\n",
              "      <td>Moran, Mr. James</td>\n",
              "      <td>male</td>\n",
              "      <td>NaN</td>\n",
              "      <td>0</td>\n",
              "      <td>0</td>\n",
              "      <td>330877</td>\n",
              "      <td>8.4583</td>\n",
              "      <td>NaN</td>\n",
              "      <td>Q</td>\n",
              "    </tr>\n",
              "    <tr>\n",
              "      <th>6</th>\n",
              "      <td>7</td>\n",
              "      <td>0</td>\n",
              "      <td>1</td>\n",
              "      <td>McCarthy, Mr. Timothy J</td>\n",
              "      <td>male</td>\n",
              "      <td>54.0</td>\n",
              "      <td>0</td>\n",
              "      <td>0</td>\n",
              "      <td>17463</td>\n",
              "      <td>51.8625</td>\n",
              "      <td>E46</td>\n",
              "      <td>S</td>\n",
              "    </tr>\n",
              "    <tr>\n",
              "      <th>7</th>\n",
              "      <td>8</td>\n",
              "      <td>0</td>\n",
              "      <td>3</td>\n",
              "      <td>Palsson, Master. Gosta Leonard</td>\n",
              "      <td>male</td>\n",
              "      <td>2.0</td>\n",
              "      <td>3</td>\n",
              "      <td>1</td>\n",
              "      <td>349909</td>\n",
              "      <td>21.0750</td>\n",
              "      <td>NaN</td>\n",
              "      <td>S</td>\n",
              "    </tr>\n",
              "    <tr>\n",
              "      <th>8</th>\n",
              "      <td>9</td>\n",
              "      <td>1</td>\n",
              "      <td>3</td>\n",
              "      <td>Johnson, Mrs. Oscar W (Elisabeth Vilhelmina Berg)</td>\n",
              "      <td>female</td>\n",
              "      <td>27.0</td>\n",
              "      <td>0</td>\n",
              "      <td>2</td>\n",
              "      <td>347742</td>\n",
              "      <td>11.1333</td>\n",
              "      <td>NaN</td>\n",
              "      <td>S</td>\n",
              "    </tr>\n",
              "    <tr>\n",
              "      <th>9</th>\n",
              "      <td>10</td>\n",
              "      <td>1</td>\n",
              "      <td>2</td>\n",
              "      <td>Nasser, Mrs. Nicholas (Adele Achem)</td>\n",
              "      <td>female</td>\n",
              "      <td>14.0</td>\n",
              "      <td>1</td>\n",
              "      <td>0</td>\n",
              "      <td>237736</td>\n",
              "      <td>30.0708</td>\n",
              "      <td>NaN</td>\n",
              "      <td>C</td>\n",
              "    </tr>\n",
              "  </tbody>\n",
              "</table>\n",
              "</div>"
            ],
            "text/plain": [
              "   PassengerId  Survived  Pclass  ...     Fare Cabin  Embarked\n",
              "0            1         0       3  ...   7.2500   NaN         S\n",
              "1            2         1       1  ...  71.2833   C85         C\n",
              "2            3         1       3  ...   7.9250   NaN         S\n",
              "3            4         1       1  ...  53.1000  C123         S\n",
              "4            5         0       3  ...   8.0500   NaN         S\n",
              "5            6         0       3  ...   8.4583   NaN         Q\n",
              "6            7         0       1  ...  51.8625   E46         S\n",
              "7            8         0       3  ...  21.0750   NaN         S\n",
              "8            9         1       3  ...  11.1333   NaN         S\n",
              "9           10         1       2  ...  30.0708   NaN         C\n",
              "\n",
              "[10 rows x 12 columns]"
            ]
          },
          "metadata": {},
          "execution_count": 172
        }
      ]
    },
    {
      "cell_type": "code",
      "metadata": {
        "colab": {
          "base_uri": "https://localhost:8080/",
          "height": 443
        },
        "id": "V50i3Q-983Sg",
        "outputId": "dfc363ad-a777-4d46-919c-e86176c6a054"
      },
      "source": [
        "test.tail()"
      ],
      "execution_count": 173,
      "outputs": [
        {
          "output_type": "execute_result",
          "data": {
            "text/html": [
              "<div>\n",
              "<style scoped>\n",
              "    .dataframe tbody tr th:only-of-type {\n",
              "        vertical-align: middle;\n",
              "    }\n",
              "\n",
              "    .dataframe tbody tr th {\n",
              "        vertical-align: top;\n",
              "    }\n",
              "\n",
              "    .dataframe thead th {\n",
              "        text-align: right;\n",
              "    }\n",
              "</style>\n",
              "<table border=\"1\" class=\"dataframe\">\n",
              "  <thead>\n",
              "    <tr style=\"text-align: right;\">\n",
              "      <th></th>\n",
              "      <th>PassengerId</th>\n",
              "      <th>Pclass</th>\n",
              "      <th>Name</th>\n",
              "      <th>Sex</th>\n",
              "      <th>Age</th>\n",
              "      <th>SibSp</th>\n",
              "      <th>Parch</th>\n",
              "      <th>Ticket</th>\n",
              "      <th>Fare</th>\n",
              "      <th>Cabin</th>\n",
              "      <th>Embarked</th>\n",
              "    </tr>\n",
              "  </thead>\n",
              "  <tbody>\n",
              "    <tr>\n",
              "      <th>413</th>\n",
              "      <td>1305</td>\n",
              "      <td>3</td>\n",
              "      <td>Spector, Mr. Woolf</td>\n",
              "      <td>male</td>\n",
              "      <td>NaN</td>\n",
              "      <td>0</td>\n",
              "      <td>0</td>\n",
              "      <td>A.5. 3236</td>\n",
              "      <td>8.0500</td>\n",
              "      <td>NaN</td>\n",
              "      <td>S</td>\n",
              "    </tr>\n",
              "    <tr>\n",
              "      <th>414</th>\n",
              "      <td>1306</td>\n",
              "      <td>1</td>\n",
              "      <td>Oliva y Ocana, Dona. Fermina</td>\n",
              "      <td>female</td>\n",
              "      <td>39.0</td>\n",
              "      <td>0</td>\n",
              "      <td>0</td>\n",
              "      <td>PC 17758</td>\n",
              "      <td>108.9000</td>\n",
              "      <td>C105</td>\n",
              "      <td>C</td>\n",
              "    </tr>\n",
              "    <tr>\n",
              "      <th>415</th>\n",
              "      <td>1307</td>\n",
              "      <td>3</td>\n",
              "      <td>Saether, Mr. Simon Sivertsen</td>\n",
              "      <td>male</td>\n",
              "      <td>38.5</td>\n",
              "      <td>0</td>\n",
              "      <td>0</td>\n",
              "      <td>SOTON/O.Q. 3101262</td>\n",
              "      <td>7.2500</td>\n",
              "      <td>NaN</td>\n",
              "      <td>S</td>\n",
              "    </tr>\n",
              "    <tr>\n",
              "      <th>416</th>\n",
              "      <td>1308</td>\n",
              "      <td>3</td>\n",
              "      <td>Ware, Mr. Frederick</td>\n",
              "      <td>male</td>\n",
              "      <td>NaN</td>\n",
              "      <td>0</td>\n",
              "      <td>0</td>\n",
              "      <td>359309</td>\n",
              "      <td>8.0500</td>\n",
              "      <td>NaN</td>\n",
              "      <td>S</td>\n",
              "    </tr>\n",
              "    <tr>\n",
              "      <th>417</th>\n",
              "      <td>1309</td>\n",
              "      <td>3</td>\n",
              "      <td>Peter, Master. Michael J</td>\n",
              "      <td>male</td>\n",
              "      <td>NaN</td>\n",
              "      <td>1</td>\n",
              "      <td>1</td>\n",
              "      <td>2668</td>\n",
              "      <td>22.3583</td>\n",
              "      <td>NaN</td>\n",
              "      <td>C</td>\n",
              "    </tr>\n",
              "  </tbody>\n",
              "</table>\n",
              "</div>"
            ],
            "text/plain": [
              "     PassengerId  Pclass                          Name  ...      Fare  Cabin  Embarked\n",
              "413         1305       3            Spector, Mr. Woolf  ...    8.0500    NaN         S\n",
              "414         1306       1  Oliva y Ocana, Dona. Fermina  ...  108.9000   C105         C\n",
              "415         1307       3  Saether, Mr. Simon Sivertsen  ...    7.2500    NaN         S\n",
              "416         1308       3           Ware, Mr. Frederick  ...    8.0500    NaN         S\n",
              "417         1309       3      Peter, Master. Michael J  ...   22.3583    NaN         C\n",
              "\n",
              "[5 rows x 11 columns]"
            ]
          },
          "metadata": {},
          "execution_count": 173
        }
      ]
    },
    {
      "cell_type": "code",
      "metadata": {
        "colab": {
          "base_uri": "https://localhost:8080/"
        },
        "id": "SBoaKEaf84Uw",
        "outputId": "ecbf9964-aaec-4b5d-9998-a2b3d9bfbf77"
      },
      "source": [
        "train.shape"
      ],
      "execution_count": 174,
      "outputs": [
        {
          "output_type": "execute_result",
          "data": {
            "text/plain": [
              "(891, 12)"
            ]
          },
          "metadata": {},
          "execution_count": 174
        }
      ]
    },
    {
      "cell_type": "code",
      "metadata": {
        "colab": {
          "base_uri": "https://localhost:8080/"
        },
        "id": "xpeoqTNI9O8b",
        "outputId": "980df309-3868-4a2c-c9c6-1aa88754b7fc"
      },
      "source": [
        "print(test.shape)\n",
        "print(submission.shape)"
      ],
      "execution_count": 175,
      "outputs": [
        {
          "output_type": "stream",
          "name": "stdout",
          "text": [
            "(418, 11)\n",
            "(418, 2)\n"
          ]
        }
      ]
    },
    {
      "cell_type": "markdown",
      "metadata": {
        "id": "_D2stx0W-_1l"
      },
      "source": [
        "##pd.DataFrame.info()\n",
        "\n",
        "*   데이터셋의 칼럼별 정보를 알려줌\n",
        "*   non-null은 몇 개인지\n",
        "*   칼럼의 type은 무엇인지 int, float, object 드등\n",
        "\n"
      ]
    },
    {
      "cell_type": "code",
      "metadata": {
        "colab": {
          "base_uri": "https://localhost:8080/"
        },
        "id": "SLtv1ID09bmG",
        "outputId": "5d9216c6-6b10-4a87-f169-aeb44683c9b6"
      },
      "source": [
        "train.info()"
      ],
      "execution_count": 176,
      "outputs": [
        {
          "output_type": "stream",
          "name": "stdout",
          "text": [
            "<class 'pandas.core.frame.DataFrame'>\n",
            "RangeIndex: 891 entries, 0 to 890\n",
            "Data columns (total 12 columns):\n",
            " #   Column       Non-Null Count  Dtype  \n",
            "---  ------       --------------  -----  \n",
            " 0   PassengerId  891 non-null    int64  \n",
            " 1   Survived     891 non-null    int64  \n",
            " 2   Pclass       891 non-null    int64  \n",
            " 3   Name         891 non-null    object \n",
            " 4   Sex          891 non-null    object \n",
            " 5   Age          714 non-null    float64\n",
            " 6   SibSp        891 non-null    int64  \n",
            " 7   Parch        891 non-null    int64  \n",
            " 8   Ticket       891 non-null    object \n",
            " 9   Fare         891 non-null    float64\n",
            " 10  Cabin        204 non-null    object \n",
            " 11  Embarked     889 non-null    object \n",
            "dtypes: float64(2), int64(5), object(5)\n",
            "memory usage: 83.7+ KB\n"
          ]
        }
      ]
    },
    {
      "cell_type": "markdown",
      "metadata": {
        "id": "cVbAguGe_fh-"
      },
      "source": [
        "##pd.DataFrame.describe()\n",
        "### #숫자형들의 기술 통계량 #이상치\n",
        "\n",
        "### #count, mean, std, min, max  #25%(Q1) 아래부터~\n",
        "### #이상치\n"
      ]
    },
    {
      "cell_type": "code",
      "metadata": {
        "colab": {
          "base_uri": "https://localhost:8080/",
          "height": 316
        },
        "id": "K6OB3cmcALE_",
        "outputId": "d770305a-dfb7-4d02-a570-3b13b7986b3c"
      },
      "source": [
        "train.describe()"
      ],
      "execution_count": 177,
      "outputs": [
        {
          "output_type": "execute_result",
          "data": {
            "text/html": [
              "<div>\n",
              "<style scoped>\n",
              "    .dataframe tbody tr th:only-of-type {\n",
              "        vertical-align: middle;\n",
              "    }\n",
              "\n",
              "    .dataframe tbody tr th {\n",
              "        vertical-align: top;\n",
              "    }\n",
              "\n",
              "    .dataframe thead th {\n",
              "        text-align: right;\n",
              "    }\n",
              "</style>\n",
              "<table border=\"1\" class=\"dataframe\">\n",
              "  <thead>\n",
              "    <tr style=\"text-align: right;\">\n",
              "      <th></th>\n",
              "      <th>PassengerId</th>\n",
              "      <th>Survived</th>\n",
              "      <th>Pclass</th>\n",
              "      <th>Age</th>\n",
              "      <th>SibSp</th>\n",
              "      <th>Parch</th>\n",
              "      <th>Fare</th>\n",
              "    </tr>\n",
              "  </thead>\n",
              "  <tbody>\n",
              "    <tr>\n",
              "      <th>count</th>\n",
              "      <td>891.000000</td>\n",
              "      <td>891.000000</td>\n",
              "      <td>891.000000</td>\n",
              "      <td>714.000000</td>\n",
              "      <td>891.000000</td>\n",
              "      <td>891.000000</td>\n",
              "      <td>891.000000</td>\n",
              "    </tr>\n",
              "    <tr>\n",
              "      <th>mean</th>\n",
              "      <td>446.000000</td>\n",
              "      <td>0.383838</td>\n",
              "      <td>2.308642</td>\n",
              "      <td>29.699118</td>\n",
              "      <td>0.523008</td>\n",
              "      <td>0.381594</td>\n",
              "      <td>32.204208</td>\n",
              "    </tr>\n",
              "    <tr>\n",
              "      <th>std</th>\n",
              "      <td>257.353842</td>\n",
              "      <td>0.486592</td>\n",
              "      <td>0.836071</td>\n",
              "      <td>14.526497</td>\n",
              "      <td>1.102743</td>\n",
              "      <td>0.806057</td>\n",
              "      <td>49.693429</td>\n",
              "    </tr>\n",
              "    <tr>\n",
              "      <th>min</th>\n",
              "      <td>1.000000</td>\n",
              "      <td>0.000000</td>\n",
              "      <td>1.000000</td>\n",
              "      <td>0.420000</td>\n",
              "      <td>0.000000</td>\n",
              "      <td>0.000000</td>\n",
              "      <td>0.000000</td>\n",
              "    </tr>\n",
              "    <tr>\n",
              "      <th>25%</th>\n",
              "      <td>223.500000</td>\n",
              "      <td>0.000000</td>\n",
              "      <td>2.000000</td>\n",
              "      <td>20.125000</td>\n",
              "      <td>0.000000</td>\n",
              "      <td>0.000000</td>\n",
              "      <td>7.910400</td>\n",
              "    </tr>\n",
              "    <tr>\n",
              "      <th>50%</th>\n",
              "      <td>446.000000</td>\n",
              "      <td>0.000000</td>\n",
              "      <td>3.000000</td>\n",
              "      <td>28.000000</td>\n",
              "      <td>0.000000</td>\n",
              "      <td>0.000000</td>\n",
              "      <td>14.454200</td>\n",
              "    </tr>\n",
              "    <tr>\n",
              "      <th>75%</th>\n",
              "      <td>668.500000</td>\n",
              "      <td>1.000000</td>\n",
              "      <td>3.000000</td>\n",
              "      <td>38.000000</td>\n",
              "      <td>1.000000</td>\n",
              "      <td>0.000000</td>\n",
              "      <td>31.000000</td>\n",
              "    </tr>\n",
              "    <tr>\n",
              "      <th>max</th>\n",
              "      <td>891.000000</td>\n",
              "      <td>1.000000</td>\n",
              "      <td>3.000000</td>\n",
              "      <td>80.000000</td>\n",
              "      <td>8.000000</td>\n",
              "      <td>6.000000</td>\n",
              "      <td>512.329200</td>\n",
              "    </tr>\n",
              "  </tbody>\n",
              "</table>\n",
              "</div>"
            ],
            "text/plain": [
              "       PassengerId    Survived      Pclass  ...       SibSp       Parch        Fare\n",
              "count   891.000000  891.000000  891.000000  ...  891.000000  891.000000  891.000000\n",
              "mean    446.000000    0.383838    2.308642  ...    0.523008    0.381594   32.204208\n",
              "std     257.353842    0.486592    0.836071  ...    1.102743    0.806057   49.693429\n",
              "min       1.000000    0.000000    1.000000  ...    0.000000    0.000000    0.000000\n",
              "25%     223.500000    0.000000    2.000000  ...    0.000000    0.000000    7.910400\n",
              "50%     446.000000    0.000000    3.000000  ...    0.000000    0.000000   14.454200\n",
              "75%     668.500000    1.000000    3.000000  ...    1.000000    0.000000   31.000000\n",
              "max     891.000000    1.000000    3.000000  ...    8.000000    6.000000  512.329200\n",
              "\n",
              "[8 rows x 7 columns]"
            ]
          },
          "metadata": {},
          "execution_count": 177
        }
      ]
    },
    {
      "cell_type": "code",
      "metadata": {
        "colab": {
          "base_uri": "https://localhost:8080/",
          "height": 296
        },
        "id": "oeoLZYBsAWmS",
        "outputId": "0391cffa-8909-4a27-bb84-c17e852ca8af"
      },
      "source": [
        "test.describe()"
      ],
      "execution_count": 178,
      "outputs": [
        {
          "output_type": "execute_result",
          "data": {
            "text/html": [
              "<div>\n",
              "<style scoped>\n",
              "    .dataframe tbody tr th:only-of-type {\n",
              "        vertical-align: middle;\n",
              "    }\n",
              "\n",
              "    .dataframe tbody tr th {\n",
              "        vertical-align: top;\n",
              "    }\n",
              "\n",
              "    .dataframe thead th {\n",
              "        text-align: right;\n",
              "    }\n",
              "</style>\n",
              "<table border=\"1\" class=\"dataframe\">\n",
              "  <thead>\n",
              "    <tr style=\"text-align: right;\">\n",
              "      <th></th>\n",
              "      <th>PassengerId</th>\n",
              "      <th>Pclass</th>\n",
              "      <th>Age</th>\n",
              "      <th>SibSp</th>\n",
              "      <th>Parch</th>\n",
              "      <th>Fare</th>\n",
              "    </tr>\n",
              "  </thead>\n",
              "  <tbody>\n",
              "    <tr>\n",
              "      <th>count</th>\n",
              "      <td>418.000000</td>\n",
              "      <td>418.000000</td>\n",
              "      <td>332.000000</td>\n",
              "      <td>418.000000</td>\n",
              "      <td>418.000000</td>\n",
              "      <td>417.000000</td>\n",
              "    </tr>\n",
              "    <tr>\n",
              "      <th>mean</th>\n",
              "      <td>1100.500000</td>\n",
              "      <td>2.265550</td>\n",
              "      <td>30.272590</td>\n",
              "      <td>0.447368</td>\n",
              "      <td>0.392344</td>\n",
              "      <td>35.627188</td>\n",
              "    </tr>\n",
              "    <tr>\n",
              "      <th>std</th>\n",
              "      <td>120.810458</td>\n",
              "      <td>0.841838</td>\n",
              "      <td>14.181209</td>\n",
              "      <td>0.896760</td>\n",
              "      <td>0.981429</td>\n",
              "      <td>55.907576</td>\n",
              "    </tr>\n",
              "    <tr>\n",
              "      <th>min</th>\n",
              "      <td>892.000000</td>\n",
              "      <td>1.000000</td>\n",
              "      <td>0.170000</td>\n",
              "      <td>0.000000</td>\n",
              "      <td>0.000000</td>\n",
              "      <td>0.000000</td>\n",
              "    </tr>\n",
              "    <tr>\n",
              "      <th>25%</th>\n",
              "      <td>996.250000</td>\n",
              "      <td>1.000000</td>\n",
              "      <td>21.000000</td>\n",
              "      <td>0.000000</td>\n",
              "      <td>0.000000</td>\n",
              "      <td>7.895800</td>\n",
              "    </tr>\n",
              "    <tr>\n",
              "      <th>50%</th>\n",
              "      <td>1100.500000</td>\n",
              "      <td>3.000000</td>\n",
              "      <td>27.000000</td>\n",
              "      <td>0.000000</td>\n",
              "      <td>0.000000</td>\n",
              "      <td>14.454200</td>\n",
              "    </tr>\n",
              "    <tr>\n",
              "      <th>75%</th>\n",
              "      <td>1204.750000</td>\n",
              "      <td>3.000000</td>\n",
              "      <td>39.000000</td>\n",
              "      <td>1.000000</td>\n",
              "      <td>0.000000</td>\n",
              "      <td>31.500000</td>\n",
              "    </tr>\n",
              "    <tr>\n",
              "      <th>max</th>\n",
              "      <td>1309.000000</td>\n",
              "      <td>3.000000</td>\n",
              "      <td>76.000000</td>\n",
              "      <td>8.000000</td>\n",
              "      <td>9.000000</td>\n",
              "      <td>512.329200</td>\n",
              "    </tr>\n",
              "  </tbody>\n",
              "</table>\n",
              "</div>"
            ],
            "text/plain": [
              "       PassengerId      Pclass         Age       SibSp       Parch        Fare\n",
              "count   418.000000  418.000000  332.000000  418.000000  418.000000  417.000000\n",
              "mean   1100.500000    2.265550   30.272590    0.447368    0.392344   35.627188\n",
              "std     120.810458    0.841838   14.181209    0.896760    0.981429   55.907576\n",
              "min     892.000000    1.000000    0.170000    0.000000    0.000000    0.000000\n",
              "25%     996.250000    1.000000   21.000000    0.000000    0.000000    7.895800\n",
              "50%    1100.500000    3.000000   27.000000    0.000000    0.000000   14.454200\n",
              "75%    1204.750000    3.000000   39.000000    1.000000    0.000000   31.500000\n",
              "max    1309.000000    3.000000   76.000000    8.000000    9.000000  512.329200"
            ]
          },
          "metadata": {},
          "execution_count": 178
        }
      ]
    },
    {
      "cell_type": "markdown",
      "metadata": {
        "id": "TZWo5J_tBPW4"
      },
      "source": [
        "##pd.Series.value_counts()\n",
        "\n",
        "*   series 내 고유값들 각각의 개수를 보여줌\n",
        "*   가장 많이 나오는 고유값들 순서로 보여줌\n",
        "*   비어 있는 값은 고려하지않음\n",
        "\n"
      ]
    },
    {
      "cell_type": "markdown",
      "metadata": {
        "id": "dbqwo4_yCCGu"
      },
      "source": [
        "## pd.DataFrame.describe() 의 경우 DataFrame\n",
        "train.describe()\n",
        "## Series : 전체 DataFrame에서 하나의 열 \n",
        "train['Embarked'].value_counts()"
      ]
    },
    {
      "cell_type": "code",
      "metadata": {
        "colab": {
          "base_uri": "https://localhost:8080/"
        },
        "id": "l9ofvIinBOQr",
        "outputId": "c6f0e733-4e2b-4b71-91e3-d1a84d052a91"
      },
      "source": [
        "train['Embarked'].value_counts()"
      ],
      "execution_count": 179,
      "outputs": [
        {
          "output_type": "execute_result",
          "data": {
            "text/plain": [
              "S    644\n",
              "C    168\n",
              "Q     77\n",
              "Name: Embarked, dtype: int64"
            ]
          },
          "metadata": {},
          "execution_count": 179
        }
      ]
    },
    {
      "cell_type": "markdown",
      "metadata": {
        "id": "q252ULnFC6ed"
      },
      "source": [
        "##pd.Series.unique()\n",
        "\n",
        "*   해당 series의 고유값들만 보여줌\n",
        "*   [1, 1, 1, 3]이라는 시리즈 중, unique() 함수 적용시 [1, 3]만 출력됨\n",
        "*   nan값도 포함\n",
        "*   출현하는 순서대로 나옴 (정렬X)\n"
      ]
    },
    {
      "cell_type": "code",
      "metadata": {
        "colab": {
          "base_uri": "https://localhost:8080/"
        },
        "id": "_FvXfpNOCwAA",
        "outputId": "472e6227-f104-4aab-a87e-103fbe1e5892"
      },
      "source": [
        "train['Embarked'].unique()"
      ],
      "execution_count": 180,
      "outputs": [
        {
          "output_type": "execute_result",
          "data": {
            "text/plain": [
              "array(['S', 'C', 'Q', nan], dtype=object)"
            ]
          },
          "metadata": {},
          "execution_count": 180
        }
      ]
    },
    {
      "cell_type": "markdown",
      "metadata": {
        "id": "dd984C7-E3_u"
      },
      "source": [
        "##pd.DataFrame.groupby()\n",
        "*   집단에 대한 통계량 확인"
      ]
    },
    {
      "cell_type": "code",
      "metadata": {
        "colab": {
          "base_uri": "https://localhost:8080/",
          "height": 141
        },
        "id": "m_JMqVCgEx6w",
        "outputId": "858622eb-8ed1-4861-8634-be4b23c022fe"
      },
      "source": [
        "train.groupby('Sex').mean()"
      ],
      "execution_count": 181,
      "outputs": [
        {
          "output_type": "execute_result",
          "data": {
            "text/html": [
              "<div>\n",
              "<style scoped>\n",
              "    .dataframe tbody tr th:only-of-type {\n",
              "        vertical-align: middle;\n",
              "    }\n",
              "\n",
              "    .dataframe tbody tr th {\n",
              "        vertical-align: top;\n",
              "    }\n",
              "\n",
              "    .dataframe thead th {\n",
              "        text-align: right;\n",
              "    }\n",
              "</style>\n",
              "<table border=\"1\" class=\"dataframe\">\n",
              "  <thead>\n",
              "    <tr style=\"text-align: right;\">\n",
              "      <th></th>\n",
              "      <th>PassengerId</th>\n",
              "      <th>Survived</th>\n",
              "      <th>Pclass</th>\n",
              "      <th>Age</th>\n",
              "      <th>SibSp</th>\n",
              "      <th>Parch</th>\n",
              "      <th>Fare</th>\n",
              "    </tr>\n",
              "    <tr>\n",
              "      <th>Sex</th>\n",
              "      <th></th>\n",
              "      <th></th>\n",
              "      <th></th>\n",
              "      <th></th>\n",
              "      <th></th>\n",
              "      <th></th>\n",
              "      <th></th>\n",
              "    </tr>\n",
              "  </thead>\n",
              "  <tbody>\n",
              "    <tr>\n",
              "      <th>female</th>\n",
              "      <td>431.028662</td>\n",
              "      <td>0.742038</td>\n",
              "      <td>2.159236</td>\n",
              "      <td>27.915709</td>\n",
              "      <td>0.694268</td>\n",
              "      <td>0.649682</td>\n",
              "      <td>44.479818</td>\n",
              "    </tr>\n",
              "    <tr>\n",
              "      <th>male</th>\n",
              "      <td>454.147314</td>\n",
              "      <td>0.188908</td>\n",
              "      <td>2.389948</td>\n",
              "      <td>30.726645</td>\n",
              "      <td>0.429809</td>\n",
              "      <td>0.235702</td>\n",
              "      <td>25.523893</td>\n",
              "    </tr>\n",
              "  </tbody>\n",
              "</table>\n",
              "</div>"
            ],
            "text/plain": [
              "        PassengerId  Survived    Pclass  ...     SibSp     Parch       Fare\n",
              "Sex                                      ...                               \n",
              "female   431.028662  0.742038  2.159236  ...  0.694268  0.649682  44.479818\n",
              "male     454.147314  0.188908  2.389948  ...  0.429809  0.235702  25.523893\n",
              "\n",
              "[2 rows x 7 columns]"
            ]
          },
          "metadata": {},
          "execution_count": 181
        }
      ]
    },
    {
      "cell_type": "code",
      "metadata": {
        "colab": {
          "base_uri": "https://localhost:8080/",
          "height": 172
        },
        "id": "aw-KXeAFFNMT",
        "outputId": "76fd4700-c7a8-476e-c9a3-bc6afe24009d"
      },
      "source": [
        "train.groupby('Pclass').mean()"
      ],
      "execution_count": 182,
      "outputs": [
        {
          "output_type": "execute_result",
          "data": {
            "text/html": [
              "<div>\n",
              "<style scoped>\n",
              "    .dataframe tbody tr th:only-of-type {\n",
              "        vertical-align: middle;\n",
              "    }\n",
              "\n",
              "    .dataframe tbody tr th {\n",
              "        vertical-align: top;\n",
              "    }\n",
              "\n",
              "    .dataframe thead th {\n",
              "        text-align: right;\n",
              "    }\n",
              "</style>\n",
              "<table border=\"1\" class=\"dataframe\">\n",
              "  <thead>\n",
              "    <tr style=\"text-align: right;\">\n",
              "      <th></th>\n",
              "      <th>PassengerId</th>\n",
              "      <th>Survived</th>\n",
              "      <th>Age</th>\n",
              "      <th>SibSp</th>\n",
              "      <th>Parch</th>\n",
              "      <th>Fare</th>\n",
              "    </tr>\n",
              "    <tr>\n",
              "      <th>Pclass</th>\n",
              "      <th></th>\n",
              "      <th></th>\n",
              "      <th></th>\n",
              "      <th></th>\n",
              "      <th></th>\n",
              "      <th></th>\n",
              "    </tr>\n",
              "  </thead>\n",
              "  <tbody>\n",
              "    <tr>\n",
              "      <th>1</th>\n",
              "      <td>461.597222</td>\n",
              "      <td>0.629630</td>\n",
              "      <td>38.233441</td>\n",
              "      <td>0.416667</td>\n",
              "      <td>0.356481</td>\n",
              "      <td>84.154687</td>\n",
              "    </tr>\n",
              "    <tr>\n",
              "      <th>2</th>\n",
              "      <td>445.956522</td>\n",
              "      <td>0.472826</td>\n",
              "      <td>29.877630</td>\n",
              "      <td>0.402174</td>\n",
              "      <td>0.380435</td>\n",
              "      <td>20.662183</td>\n",
              "    </tr>\n",
              "    <tr>\n",
              "      <th>3</th>\n",
              "      <td>439.154786</td>\n",
              "      <td>0.242363</td>\n",
              "      <td>25.140620</td>\n",
              "      <td>0.615071</td>\n",
              "      <td>0.393075</td>\n",
              "      <td>13.675550</td>\n",
              "    </tr>\n",
              "  </tbody>\n",
              "</table>\n",
              "</div>"
            ],
            "text/plain": [
              "        PassengerId  Survived        Age     SibSp     Parch       Fare\n",
              "Pclass                                                                 \n",
              "1        461.597222  0.629630  38.233441  0.416667  0.356481  84.154687\n",
              "2        445.956522  0.472826  29.877630  0.402174  0.380435  20.662183\n",
              "3        439.154786  0.242363  25.140620  0.615071  0.393075  13.675550"
            ]
          },
          "metadata": {},
          "execution_count": 182
        }
      ]
    },
    {
      "cell_type": "markdown",
      "metadata": {
        "id": "iFT46vFWFprF"
      },
      "source": [
        "#전처리"
      ]
    },
    {
      "cell_type": "markdown",
      "metadata": {
        "id": "ZIVfxCLDFv9K"
      },
      "source": [
        "##pd.Series.plot(kind = \"bar\")\n",
        "\n",
        "*   막대 그래프\n",
        "*   index 값이 x축, value값이 y축으로 대응됨\n",
        "*   value_counts()의 결과물을 보여줄 때 유용\n",
        "*   groupby된 결과물을 보여줄 때 유용함\n",
        "\n"
      ]
    },
    {
      "cell_type": "code",
      "metadata": {
        "id": "WfGMrL22FjaJ",
        "colab": {
          "base_uri": "https://localhost:8080/"
        },
        "outputId": "124a94fc-7ece-4059-99e2-9c4f5fbb6b0a"
      },
      "source": [
        "train.groupby('Pclass').mean()['Survived']"
      ],
      "execution_count": 183,
      "outputs": [
        {
          "output_type": "execute_result",
          "data": {
            "text/plain": [
              "Pclass\n",
              "1    0.629630\n",
              "2    0.472826\n",
              "3    0.242363\n",
              "Name: Survived, dtype: float64"
            ]
          },
          "metadata": {},
          "execution_count": 183
        }
      ]
    },
    {
      "cell_type": "code",
      "metadata": {
        "colab": {
          "base_uri": "https://localhost:8080/"
        },
        "id": "ddF_a384MtKu",
        "outputId": "7666fc36-6590-4154-d3e1-285c18c138ab"
      },
      "source": [
        "#type() 으로 Series인거 확인\n",
        "type(train.groupby('Pclass').mean()['Survived'])"
      ],
      "execution_count": 184,
      "outputs": [
        {
          "output_type": "execute_result",
          "data": {
            "text/plain": [
              "pandas.core.series.Series"
            ]
          },
          "metadata": {},
          "execution_count": 184
        }
      ]
    },
    {
      "cell_type": "code",
      "metadata": {
        "colab": {
          "base_uri": "https://localhost:8080/",
          "height": 299
        },
        "id": "rXTcPEkdM3V4",
        "outputId": "81b37051-e17f-4b22-a2a3-9343a28325db"
      },
      "source": [
        "train.groupby('Pclass').mean()['Survived'].plot(kind = 'bar', rot=45)"
      ],
      "execution_count": 185,
      "outputs": [
        {
          "output_type": "execute_result",
          "data": {
            "text/plain": [
              "<matplotlib.axes._subplots.AxesSubplot at 0x7f0c15edd3d0>"
            ]
          },
          "metadata": {},
          "execution_count": 185
        },
        {
          "output_type": "display_data",
          "data": {
            "image/png": "[encoded data removed]",
            "text/plain": [
              "<Figure size 432x288 with 1 Axes>"
            ]
          },
          "metadata": {
            "needs_background": "light"
          }
        }
      ]
    },
    {
      "cell_type": "markdown",
      "metadata": {
        "id": "ueGmt47HNciS"
      },
      "source": [
        "##pd.Series.plot(kind='hist')\n",
        "\n",
        "*   히스토그램 : 구간별로 속해있는 row의 개수를 시각화\n",
        "*   수치형에서만 가능 / 범주는 안됨\n",
        "\n"
      ]
    },
    {
      "cell_type": "code",
      "metadata": {
        "colab": {
          "base_uri": "https://localhost:8080/",
          "height": 283
        },
        "id": "LyyMy8J2NEVs",
        "outputId": "d4cf7a31-1298-4068-f137-35d5eb371881"
      },
      "source": [
        "train['Age'].plot(kind='hist', bins = 50)\n",
        "#bins 높일수록 구간 촘촘"
      ],
      "execution_count": 186,
      "outputs": [
        {
          "output_type": "execute_result",
          "data": {
            "text/plain": [
              "<matplotlib.axes._subplots.AxesSubplot at 0x7f0c15eaf150>"
            ]
          },
          "metadata": {},
          "execution_count": 186
        },
        {
          "output_type": "display_data",
          "data": {
            "image/png": "[encoded data removed]",
            "text/plain": [
              "<Figure size 432x288 with 1 Axes>"
            ]
          },
          "metadata": {
            "needs_background": "light"
          }
        }
      ]
    },
    {
      "cell_type": "markdown",
      "metadata": {
        "id": "JxC0ZX0nPTz4"
      },
      "source": [
        "* 보조선은 grid=True 를 통해 추가"
      ]
    },
    {
      "cell_type": "code",
      "metadata": {
        "colab": {
          "base_uri": "https://localhost:8080/",
          "height": 283
        },
        "id": "dEpKr1wUPIUf",
        "outputId": "ca4028c9-2c5b-4d61-fcd2-cb9c9ed5db8c"
      },
      "source": [
        "train['Age'].plot(kind='hist', bins = 30, grid = True)"
      ],
      "execution_count": 187,
      "outputs": [
        {
          "output_type": "execute_result",
          "data": {
            "text/plain": [
              "<matplotlib.axes._subplots.AxesSubplot at 0x7f0c15f46610>"
            ]
          },
          "metadata": {},
          "execution_count": 187
        },
        {
          "output_type": "display_data",
          "data": {
            "image/png": "[encoded data removed]",
            "text/plain": [
              "<Figure size 432x288 with 1 Axes>"
            ]
          },
          "metadata": {
            "needs_background": "light"
          }
        }
      ]
    },
    {
      "cell_type": "markdown",
      "metadata": {
        "id": "_DZvXSBZPezZ"
      },
      "source": [
        "##pd.DataFrame.plot(x,y,kind='scatter')\n",
        "*   산점도 : 두 변수간의 관계를 시각화"
      ]
    },
    {
      "cell_type": "code",
      "metadata": {
        "colab": {
          "base_uri": "https://localhost:8080/",
          "height": 494
        },
        "id": "A2SkfVazPbkY",
        "outputId": "4a866de0-05c9-4313-8ee5-f03d090fc495"
      },
      "source": [
        "train.head()"
      ],
      "execution_count": 188,
      "outputs": [
        {
          "output_type": "execute_result",
          "data": {
            "text/html": [
              "<div>\n",
              "<style scoped>\n",
              "    .dataframe tbody tr th:only-of-type {\n",
              "        vertical-align: middle;\n",
              "    }\n",
              "\n",
              "    .dataframe tbody tr th {\n",
              "        vertical-align: top;\n",
              "    }\n",
              "\n",
              "    .dataframe thead th {\n",
              "        text-align: right;\n",
              "    }\n",
              "</style>\n",
              "<table border=\"1\" class=\"dataframe\">\n",
              "  <thead>\n",
              "    <tr style=\"text-align: right;\">\n",
              "      <th></th>\n",
              "      <th>PassengerId</th>\n",
              "      <th>Survived</th>\n",
              "      <th>Pclass</th>\n",
              "      <th>Name</th>\n",
              "      <th>Sex</th>\n",
              "      <th>Age</th>\n",
              "      <th>SibSp</th>\n",
              "      <th>Parch</th>\n",
              "      <th>Ticket</th>\n",
              "      <th>Fare</th>\n",
              "      <th>Cabin</th>\n",
              "      <th>Embarked</th>\n",
              "    </tr>\n",
              "  </thead>\n",
              "  <tbody>\n",
              "    <tr>\n",
              "      <th>0</th>\n",
              "      <td>1</td>\n",
              "      <td>0</td>\n",
              "      <td>3</td>\n",
              "      <td>Braund, Mr. Owen Harris</td>\n",
              "      <td>male</td>\n",
              "      <td>22.0</td>\n",
              "      <td>1</td>\n",
              "      <td>0</td>\n",
              "      <td>A/5 21171</td>\n",
              "      <td>7.2500</td>\n",
              "      <td>NaN</td>\n",
              "      <td>S</td>\n",
              "    </tr>\n",
              "    <tr>\n",
              "      <th>1</th>\n",
              "      <td>2</td>\n",
              "      <td>1</td>\n",
              "      <td>1</td>\n",
              "      <td>Cumings, Mrs. John Bradley (Florence Briggs Th...</td>\n",
              "      <td>female</td>\n",
              "      <td>38.0</td>\n",
              "      <td>1</td>\n",
              "      <td>0</td>\n",
              "      <td>PC 17599</td>\n",
              "      <td>71.2833</td>\n",
              "      <td>C85</td>\n",
              "      <td>C</td>\n",
              "    </tr>\n",
              "    <tr>\n",
              "      <th>2</th>\n",
              "      <td>3</td>\n",
              "      <td>1</td>\n",
              "      <td>3</td>\n",
              "      <td>Heikkinen, Miss. Laina</td>\n",
              "      <td>female</td>\n",
              "      <td>26.0</td>\n",
              "      <td>0</td>\n",
              "      <td>0</td>\n",
              "      <td>STON/O2. 3101282</td>\n",
              "      <td>7.9250</td>\n",
              "      <td>NaN</td>\n",
              "      <td>S</td>\n",
              "    </tr>\n",
              "    <tr>\n",
              "      <th>3</th>\n",
              "      <td>4</td>\n",
              "      <td>1</td>\n",
              "      <td>1</td>\n",
              "      <td>Futrelle, Mrs. Jacques Heath (Lily May Peel)</td>\n",
              "      <td>female</td>\n",
              "      <td>35.0</td>\n",
              "      <td>1</td>\n",
              "      <td>0</td>\n",
              "      <td>113803</td>\n",
              "      <td>53.1000</td>\n",
              "      <td>C123</td>\n",
              "      <td>S</td>\n",
              "    </tr>\n",
              "    <tr>\n",
              "      <th>4</th>\n",
              "      <td>5</td>\n",
              "      <td>0</td>\n",
              "      <td>3</td>\n",
              "      <td>Allen, Mr. William Henry</td>\n",
              "      <td>male</td>\n",
              "      <td>35.0</td>\n",
              "      <td>0</td>\n",
              "      <td>0</td>\n",
              "      <td>373450</td>\n",
              "      <td>8.0500</td>\n",
              "      <td>NaN</td>\n",
              "      <td>S</td>\n",
              "    </tr>\n",
              "  </tbody>\n",
              "</table>\n",
              "</div>"
            ],
            "text/plain": [
              "   PassengerId  Survived  Pclass  ...     Fare Cabin  Embarked\n",
              "0            1         0       3  ...   7.2500   NaN         S\n",
              "1            2         1       1  ...  71.2833   C85         C\n",
              "2            3         1       3  ...   7.9250   NaN         S\n",
              "3            4         1       1  ...  53.1000  C123         S\n",
              "4            5         0       3  ...   8.0500   NaN         S\n",
              "\n",
              "[5 rows x 12 columns]"
            ]
          },
          "metadata": {},
          "execution_count": 188
        }
      ]
    },
    {
      "cell_type": "code",
      "metadata": {
        "colab": {
          "base_uri": "https://localhost:8080/",
          "height": 297
        },
        "id": "z1Jgd5tBP_I5",
        "outputId": "b82dc5d7-9c05-4b3b-f870-f7b7fa5a4990"
      },
      "source": [
        "# 나이와 요금간의 관계\n",
        "train.plot(x='Age', y='Fare', kind='scatter')"
      ],
      "execution_count": 189,
      "outputs": [
        {
          "output_type": "execute_result",
          "data": {
            "text/plain": [
              "<matplotlib.axes._subplots.AxesSubplot at 0x7f0c15f46210>"
            ]
          },
          "metadata": {},
          "execution_count": 189
        },
        {
          "output_type": "display_data",
          "data": {
            "image/png": "[encoded data removed]",
            "text/plain": [
              "<Figure size 432x288 with 1 Axes>"
            ]
          },
          "metadata": {
            "needs_background": "light"
          }
        }
      ]
    },
    {
      "cell_type": "markdown",
      "metadata": {
        "id": "6qLSRM1CQ4nI"
      },
      "source": [
        "#3. 데이터 전처리 Data Cleansing & Pre-Processing\n"
      ]
    },
    {
      "cell_type": "markdown",
      "metadata": {
        "id": "67HK6ZDQQ-q5"
      },
      "source": [
        "##pd.Series.isna()\n",
        "\n",
        "*   결측치 여부를 확인\n",
        "*   결측치면 True(1), 아니면 False(0)\n",
        "\n"
      ]
    },
    {
      "cell_type": "code",
      "metadata": {
        "colab": {
          "base_uri": "https://localhost:8080/"
        },
        "id": "M91v2u__Q0jl",
        "outputId": "928ca923-b1be-4c45-fed4-f4c6ba3dde12"
      },
      "source": [
        "train.isna().sum()"
      ],
      "execution_count": 190,
      "outputs": [
        {
          "output_type": "execute_result",
          "data": {
            "text/plain": [
              "PassengerId      0\n",
              "Survived         0\n",
              "Pclass           0\n",
              "Name             0\n",
              "Sex              0\n",
              "Age            177\n",
              "SibSp            0\n",
              "Parch            0\n",
              "Ticket           0\n",
              "Fare             0\n",
              "Cabin          687\n",
              "Embarked         2\n",
              "dtype: int64"
            ]
          },
          "metadata": {},
          "execution_count": 190
        }
      ]
    },
    {
      "cell_type": "markdown",
      "metadata": {
        "id": "BxY-FJ5ZRbgl"
      },
      "source": [
        "##pd.DataFrame.fillna()\n",
        "\n",
        "*   결측치를 채우고자 하는 컬럼과 결측치를 대신하여 넣고자 하는 값을 명시해야함\n",
        "\n"
      ]
    },
    {
      "cell_type": "code",
      "metadata": {
        "colab": {
          "base_uri": "https://localhost:8080/"
        },
        "id": "Ab89X6JZRPo2",
        "outputId": "2df02f8a-b47c-426c-be15-bfc911df3130"
      },
      "source": [
        "train['Age'].median()"
      ],
      "execution_count": 191,
      "outputs": [
        {
          "output_type": "execute_result",
          "data": {
            "text/plain": [
              "28.0"
            ]
          },
          "metadata": {},
          "execution_count": 191
        }
      ]
    },
    {
      "cell_type": "code",
      "metadata": {
        "id": "dPA4-SVnS0qD"
      },
      "source": [
        "train['Age'] = train['Age'].fillna(28)\n",
        "#train['Age'].fillna(28) 만 적으면 그냥 결측치에 28을 적은 것을 보여주기만 하지 저장은 X"
      ],
      "execution_count": 192,
      "outputs": []
    },
    {
      "cell_type": "code",
      "metadata": {
        "colab": {
          "base_uri": "https://localhost:8080/"
        },
        "id": "JF0ZcIQqS8n2",
        "outputId": "aa18ee41-9984-4ee4-f49b-096fca590299"
      },
      "source": [
        "train.isna().sum()"
      ],
      "execution_count": 193,
      "outputs": [
        {
          "output_type": "execute_result",
          "data": {
            "text/plain": [
              "PassengerId      0\n",
              "Survived         0\n",
              "Pclass           0\n",
              "Name             0\n",
              "Sex              0\n",
              "Age              0\n",
              "SibSp            0\n",
              "Parch            0\n",
              "Ticket           0\n",
              "Fare             0\n",
              "Cabin          687\n",
              "Embarked         2\n",
              "dtype: int64"
            ]
          },
          "metadata": {},
          "execution_count": 193
        }
      ]
    },
    {
      "cell_type": "code",
      "metadata": {
        "colab": {
          "base_uri": "https://localhost:8080/"
        },
        "id": "btqNHh6STJGD",
        "outputId": "5a2bd9c1-b7f5-4753-cd5a-e33ab6a8ae3e"
      },
      "source": [
        "train['Embarked'].value_counts()"
      ],
      "execution_count": 194,
      "outputs": [
        {
          "output_type": "execute_result",
          "data": {
            "text/plain": [
              "S    644\n",
              "C    168\n",
              "Q     77\n",
              "Name: Embarked, dtype: int64"
            ]
          },
          "metadata": {},
          "execution_count": 194
        }
      ]
    },
    {
      "cell_type": "code",
      "metadata": {
        "id": "9Dvzo4qmTRW9"
      },
      "source": [
        "# S라는 문자가 최빈\n",
        "train['Embarked'] = train['Embarked'].fillna('S')"
      ],
      "execution_count": 195,
      "outputs": []
    },
    {
      "cell_type": "markdown",
      "metadata": {
        "id": "36fbcFjCTpTZ"
      },
      "source": [
        "##pd.Series.map()\n",
        "\n",
        "*   시리즈 내 값을 변환 할 때 사용하는 함수\n",
        "*   모델은 숫자만 데이터로 인식함 문자를 모델링 하려고하면 오류발생\n",
        "\n"
      ]
    },
    {
      "cell_type": "code",
      "metadata": {
        "colab": {
          "base_uri": "https://localhost:8080/"
        },
        "id": "jXpsut-STgJo",
        "outputId": "1bc8c60f-5e5b-4539-d0e5-09fb3469b7dd"
      },
      "source": [
        "train['Sex']"
      ],
      "execution_count": 196,
      "outputs": [
        {
          "output_type": "execute_result",
          "data": {
            "text/plain": [
              "0        male\n",
              "1      female\n",
              "2      female\n",
              "3      female\n",
              "4        male\n",
              "        ...  \n",
              "886      male\n",
              "887    female\n",
              "888    female\n",
              "889      male\n",
              "890      male\n",
              "Name: Sex, Length: 891, dtype: object"
            ]
          },
          "metadata": {},
          "execution_count": 196
        }
      ]
    },
    {
      "cell_type": "code",
      "metadata": {
        "id": "IBw_2S-lT9-Q"
      },
      "source": [
        "# 성별은 숫자가 아닌 문자로 male/female이 기재되어있음\n",
        "# 숫자로 대체\n",
        "train['Sex'] = train['Sex'].map({'male':0, 'female':1})\n",
        "\n",
        "\n",
        "# 이 또한 train['Sex'].map({'male':0, 'female':1}) 만 하면 보여주기만하고 저장 X"
      ],
      "execution_count": 197,
      "outputs": []
    },
    {
      "cell_type": "code",
      "metadata": {
        "colab": {
          "base_uri": "https://localhost:8080/",
          "height": 494
        },
        "id": "fmhpwwhnUOr3",
        "outputId": "dbfa1108-3a9d-4101-8428-1fda967cc539"
      },
      "source": [
        "train.head()"
      ],
      "execution_count": 198,
      "outputs": [
        {
          "output_type": "execute_result",
          "data": {
            "text/html": [
              "<div>\n",
              "<style scoped>\n",
              "    .dataframe tbody tr th:only-of-type {\n",
              "        vertical-align: middle;\n",
              "    }\n",
              "\n",
              "    .dataframe tbody tr th {\n",
              "        vertical-align: top;\n",
              "    }\n",
              "\n",
              "    .dataframe thead th {\n",
              "        text-align: right;\n",
              "    }\n",
              "</style>\n",
              "<table border=\"1\" class=\"dataframe\">\n",
              "  <thead>\n",
              "    <tr style=\"text-align: right;\">\n",
              "      <th></th>\n",
              "      <th>PassengerId</th>\n",
              "      <th>Survived</th>\n",
              "      <th>Pclass</th>\n",
              "      <th>Name</th>\n",
              "      <th>Sex</th>\n",
              "      <th>Age</th>\n",
              "      <th>SibSp</th>\n",
              "      <th>Parch</th>\n",
              "      <th>Ticket</th>\n",
              "      <th>Fare</th>\n",
              "      <th>Cabin</th>\n",
              "      <th>Embarked</th>\n",
              "    </tr>\n",
              "  </thead>\n",
              "  <tbody>\n",
              "    <tr>\n",
              "      <th>0</th>\n",
              "      <td>1</td>\n",
              "      <td>0</td>\n",
              "      <td>3</td>\n",
              "      <td>Braund, Mr. Owen Harris</td>\n",
              "      <td>0</td>\n",
              "      <td>22.0</td>\n",
              "      <td>1</td>\n",
              "      <td>0</td>\n",
              "      <td>A/5 21171</td>\n",
              "      <td>7.2500</td>\n",
              "      <td>NaN</td>\n",
              "      <td>S</td>\n",
              "    </tr>\n",
              "    <tr>\n",
              "      <th>1</th>\n",
              "      <td>2</td>\n",
              "      <td>1</td>\n",
              "      <td>1</td>\n",
              "      <td>Cumings, Mrs. John Bradley (Florence Briggs Th...</td>\n",
              "      <td>1</td>\n",
              "      <td>38.0</td>\n",
              "      <td>1</td>\n",
              "      <td>0</td>\n",
              "      <td>PC 17599</td>\n",
              "      <td>71.2833</td>\n",
              "      <td>C85</td>\n",
              "      <td>C</td>\n",
              "    </tr>\n",
              "    <tr>\n",
              "      <th>2</th>\n",
              "      <td>3</td>\n",
              "      <td>1</td>\n",
              "      <td>3</td>\n",
              "      <td>Heikkinen, Miss. Laina</td>\n",
              "      <td>1</td>\n",
              "      <td>26.0</td>\n",
              "      <td>0</td>\n",
              "      <td>0</td>\n",
              "      <td>STON/O2. 3101282</td>\n",
              "      <td>7.9250</td>\n",
              "      <td>NaN</td>\n",
              "      <td>S</td>\n",
              "    </tr>\n",
              "    <tr>\n",
              "      <th>3</th>\n",
              "      <td>4</td>\n",
              "      <td>1</td>\n",
              "      <td>1</td>\n",
              "      <td>Futrelle, Mrs. Jacques Heath (Lily May Peel)</td>\n",
              "      <td>1</td>\n",
              "      <td>35.0</td>\n",
              "      <td>1</td>\n",
              "      <td>0</td>\n",
              "      <td>113803</td>\n",
              "      <td>53.1000</td>\n",
              "      <td>C123</td>\n",
              "      <td>S</td>\n",
              "    </tr>\n",
              "    <tr>\n",
              "      <th>4</th>\n",
              "      <td>5</td>\n",
              "      <td>0</td>\n",
              "      <td>3</td>\n",
              "      <td>Allen, Mr. William Henry</td>\n",
              "      <td>0</td>\n",
              "      <td>35.0</td>\n",
              "      <td>0</td>\n",
              "      <td>0</td>\n",
              "      <td>373450</td>\n",
              "      <td>8.0500</td>\n",
              "      <td>NaN</td>\n",
              "      <td>S</td>\n",
              "    </tr>\n",
              "  </tbody>\n",
              "</table>\n",
              "</div>"
            ],
            "text/plain": [
              "   PassengerId  Survived  Pclass  ...     Fare  Cabin  Embarked\n",
              "0            1         0       3  ...   7.2500    NaN         S\n",
              "1            2         1       1  ...  71.2833    C85         C\n",
              "2            3         1       3  ...   7.9250    NaN         S\n",
              "3            4         1       1  ...  53.1000   C123         S\n",
              "4            5         0       3  ...   8.0500    NaN         S\n",
              "\n",
              "[5 rows x 12 columns]"
            ]
          },
          "metadata": {},
          "execution_count": 198
        }
      ]
    },
    {
      "cell_type": "markdown",
      "metadata": {
        "id": "oP2oXIsOUiVd"
      },
      "source": [
        "성별이 0과 1로 대체되어있음"
      ]
    },
    {
      "cell_type": "markdown",
      "metadata": {
        "id": "Yj8J8N1fUnAl"
      },
      "source": [
        "#4. 변수 선택 및 모델 구축\n",
        "## Feature Engineering & Initial Modeling"
      ]
    },
    {
      "cell_type": "markdown",
      "metadata": {
        "id": "gg7i8UzeXFqN"
      },
      "source": [
        "X -> model -> Y\n",
        "\n",
        "*   탑승자의 인적사항 정보\n",
        "*   생존유무\n",
        "\n"
      ]
    },
    {
      "cell_type": "code",
      "metadata": {
        "id": "k6DbLJ60UhCW"
      },
      "source": [
        "X_train = train[['Sex', 'Pclass']] #학습\n",
        "y_train = train[['Survived']]       #학습"
      ],
      "execution_count": 199,
      "outputs": []
    },
    {
      "cell_type": "code",
      "metadata": {
        "colab": {
          "base_uri": "https://localhost:8080/",
          "height": 843
        },
        "id": "VUN0zPEQcTcY",
        "outputId": "3bf2ae9c-a742-4e1c-97bf-a9c1c80f1730"
      },
      "source": [
        "test #성능 테스트"
      ],
      "execution_count": 200,
      "outputs": [
        {
          "output_type": "execute_result",
          "data": {
            "text/html": [
              "<div>\n",
              "<style scoped>\n",
              "    .dataframe tbody tr th:only-of-type {\n",
              "        vertical-align: middle;\n",
              "    }\n",
              "\n",
              "    .dataframe tbody tr th {\n",
              "        vertical-align: top;\n",
              "    }\n",
              "\n",
              "    .dataframe thead th {\n",
              "        text-align: right;\n",
              "    }\n",
              "</style>\n",
              "<table border=\"1\" class=\"dataframe\">\n",
              "  <thead>\n",
              "    <tr style=\"text-align: right;\">\n",
              "      <th></th>\n",
              "      <th>PassengerId</th>\n",
              "      <th>Pclass</th>\n",
              "      <th>Name</th>\n",
              "      <th>Sex</th>\n",
              "      <th>Age</th>\n",
              "      <th>SibSp</th>\n",
              "      <th>Parch</th>\n",
              "      <th>Ticket</th>\n",
              "      <th>Fare</th>\n",
              "      <th>Cabin</th>\n",
              "      <th>Embarked</th>\n",
              "    </tr>\n",
              "  </thead>\n",
              "  <tbody>\n",
              "    <tr>\n",
              "      <th>0</th>\n",
              "      <td>892</td>\n",
              "      <td>3</td>\n",
              "      <td>Kelly, Mr. James</td>\n",
              "      <td>male</td>\n",
              "      <td>34.5</td>\n",
              "      <td>0</td>\n",
              "      <td>0</td>\n",
              "      <td>330911</td>\n",
              "      <td>7.8292</td>\n",
              "      <td>NaN</td>\n",
              "      <td>Q</td>\n",
              "    </tr>\n",
              "    <tr>\n",
              "      <th>1</th>\n",
              "      <td>893</td>\n",
              "      <td>3</td>\n",
              "      <td>Wilkes, Mrs. James (Ellen Needs)</td>\n",
              "      <td>female</td>\n",
              "      <td>47.0</td>\n",
              "      <td>1</td>\n",
              "      <td>0</td>\n",
              "      <td>363272</td>\n",
              "      <td>7.0000</td>\n",
              "      <td>NaN</td>\n",
              "      <td>S</td>\n",
              "    </tr>\n",
              "    <tr>\n",
              "      <th>2</th>\n",
              "      <td>894</td>\n",
              "      <td>2</td>\n",
              "      <td>Myles, Mr. Thomas Francis</td>\n",
              "      <td>male</td>\n",
              "      <td>62.0</td>\n",
              "      <td>0</td>\n",
              "      <td>0</td>\n",
              "      <td>240276</td>\n",
              "      <td>9.6875</td>\n",
              "      <td>NaN</td>\n",
              "      <td>Q</td>\n",
              "    </tr>\n",
              "    <tr>\n",
              "      <th>3</th>\n",
              "      <td>895</td>\n",
              "      <td>3</td>\n",
              "      <td>Wirz, Mr. Albert</td>\n",
              "      <td>male</td>\n",
              "      <td>27.0</td>\n",
              "      <td>0</td>\n",
              "      <td>0</td>\n",
              "      <td>315154</td>\n",
              "      <td>8.6625</td>\n",
              "      <td>NaN</td>\n",
              "      <td>S</td>\n",
              "    </tr>\n",
              "    <tr>\n",
              "      <th>4</th>\n",
              "      <td>896</td>\n",
              "      <td>3</td>\n",
              "      <td>Hirvonen, Mrs. Alexander (Helga E Lindqvist)</td>\n",
              "      <td>female</td>\n",
              "      <td>22.0</td>\n",
              "      <td>1</td>\n",
              "      <td>1</td>\n",
              "      <td>3101298</td>\n",
              "      <td>12.2875</td>\n",
              "      <td>NaN</td>\n",
              "      <td>S</td>\n",
              "    </tr>\n",
              "    <tr>\n",
              "      <th>...</th>\n",
              "      <td>...</td>\n",
              "      <td>...</td>\n",
              "      <td>...</td>\n",
              "      <td>...</td>\n",
              "      <td>...</td>\n",
              "      <td>...</td>\n",
              "      <td>...</td>\n",
              "      <td>...</td>\n",
              "      <td>...</td>\n",
              "      <td>...</td>\n",
              "      <td>...</td>\n",
              "    </tr>\n",
              "    <tr>\n",
              "      <th>413</th>\n",
              "      <td>1305</td>\n",
              "      <td>3</td>\n",
              "      <td>Spector, Mr. Woolf</td>\n",
              "      <td>male</td>\n",
              "      <td>NaN</td>\n",
              "      <td>0</td>\n",
              "      <td>0</td>\n",
              "      <td>A.5. 3236</td>\n",
              "      <td>8.0500</td>\n",
              "      <td>NaN</td>\n",
              "      <td>S</td>\n",
              "    </tr>\n",
              "    <tr>\n",
              "      <th>414</th>\n",
              "      <td>1306</td>\n",
              "      <td>1</td>\n",
              "      <td>Oliva y Ocana, Dona. Fermina</td>\n",
              "      <td>female</td>\n",
              "      <td>39.0</td>\n",
              "      <td>0</td>\n",
              "      <td>0</td>\n",
              "      <td>PC 17758</td>\n",
              "      <td>108.9000</td>\n",
              "      <td>C105</td>\n",
              "      <td>C</td>\n",
              "    </tr>\n",
              "    <tr>\n",
              "      <th>415</th>\n",
              "      <td>1307</td>\n",
              "      <td>3</td>\n",
              "      <td>Saether, Mr. Simon Sivertsen</td>\n",
              "      <td>male</td>\n",
              "      <td>38.5</td>\n",
              "      <td>0</td>\n",
              "      <td>0</td>\n",
              "      <td>SOTON/O.Q. 3101262</td>\n",
              "      <td>7.2500</td>\n",
              "      <td>NaN</td>\n",
              "      <td>S</td>\n",
              "    </tr>\n",
              "    <tr>\n",
              "      <th>416</th>\n",
              "      <td>1308</td>\n",
              "      <td>3</td>\n",
              "      <td>Ware, Mr. Frederick</td>\n",
              "      <td>male</td>\n",
              "      <td>NaN</td>\n",
              "      <td>0</td>\n",
              "      <td>0</td>\n",
              "      <td>359309</td>\n",
              "      <td>8.0500</td>\n",
              "      <td>NaN</td>\n",
              "      <td>S</td>\n",
              "    </tr>\n",
              "    <tr>\n",
              "      <th>417</th>\n",
              "      <td>1309</td>\n",
              "      <td>3</td>\n",
              "      <td>Peter, Master. Michael J</td>\n",
              "      <td>male</td>\n",
              "      <td>NaN</td>\n",
              "      <td>1</td>\n",
              "      <td>1</td>\n",
              "      <td>2668</td>\n",
              "      <td>22.3583</td>\n",
              "      <td>NaN</td>\n",
              "      <td>C</td>\n",
              "    </tr>\n",
              "  </tbody>\n",
              "</table>\n",
              "<p>418 rows × 11 columns</p>\n",
              "</div>"
            ],
            "text/plain": [
              "     PassengerId  Pclass  ... Cabin Embarked\n",
              "0            892       3  ...   NaN        Q\n",
              "1            893       3  ...   NaN        S\n",
              "2            894       2  ...   NaN        Q\n",
              "3            895       3  ...   NaN        S\n",
              "4            896       3  ...   NaN        S\n",
              "..           ...     ...  ...   ...      ...\n",
              "413         1305       3  ...   NaN        S\n",
              "414         1306       1  ...  C105        C\n",
              "415         1307       3  ...   NaN        S\n",
              "416         1308       3  ...   NaN        S\n",
              "417         1309       3  ...   NaN        C\n",
              "\n",
              "[418 rows x 11 columns]"
            ]
          },
          "metadata": {},
          "execution_count": 200
        }
      ]
    },
    {
      "cell_type": "code",
      "metadata": {
        "id": "F8QtvUB6YY9M"
      },
      "source": [
        "X_test = test[['Sex', 'Pclass']] #학습할 칼럼들만 테스트 데이터 셋에 설정\n",
        "\n",
        "#근데 test 데이터 셋에서 성별은 수치화 되어있지않음"
      ],
      "execution_count": 201,
      "outputs": []
    },
    {
      "cell_type": "code",
      "metadata": {
        "colab": {
          "base_uri": "https://localhost:8080/",
          "height": 418
        },
        "id": "EM2LB3I6roHl",
        "outputId": "1f1ed1e8-40ab-45d8-9bb8-6bb0c6d8e8fa"
      },
      "source": [
        "X_test"
      ],
      "execution_count": 202,
      "outputs": [
        {
          "output_type": "execute_result",
          "data": {
            "text/html": [
              "<div>\n",
              "<style scoped>\n",
              "    .dataframe tbody tr th:only-of-type {\n",
              "        vertical-align: middle;\n",
              "    }\n",
              "\n",
              "    .dataframe tbody tr th {\n",
              "        vertical-align: top;\n",
              "    }\n",
              "\n",
              "    .dataframe thead th {\n",
              "        text-align: right;\n",
              "    }\n",
              "</style>\n",
              "<table border=\"1\" class=\"dataframe\">\n",
              "  <thead>\n",
              "    <tr style=\"text-align: right;\">\n",
              "      <th></th>\n",
              "      <th>Sex</th>\n",
              "      <th>Pclass</th>\n",
              "    </tr>\n",
              "  </thead>\n",
              "  <tbody>\n",
              "    <tr>\n",
              "      <th>0</th>\n",
              "      <td>male</td>\n",
              "      <td>3</td>\n",
              "    </tr>\n",
              "    <tr>\n",
              "      <th>1</th>\n",
              "      <td>female</td>\n",
              "      <td>3</td>\n",
              "    </tr>\n",
              "    <tr>\n",
              "      <th>2</th>\n",
              "      <td>male</td>\n",
              "      <td>2</td>\n",
              "    </tr>\n",
              "    <tr>\n",
              "      <th>3</th>\n",
              "      <td>male</td>\n",
              "      <td>3</td>\n",
              "    </tr>\n",
              "    <tr>\n",
              "      <th>4</th>\n",
              "      <td>female</td>\n",
              "      <td>3</td>\n",
              "    </tr>\n",
              "    <tr>\n",
              "      <th>...</th>\n",
              "      <td>...</td>\n",
              "      <td>...</td>\n",
              "    </tr>\n",
              "    <tr>\n",
              "      <th>413</th>\n",
              "      <td>male</td>\n",
              "      <td>3</td>\n",
              "    </tr>\n",
              "    <tr>\n",
              "      <th>414</th>\n",
              "      <td>female</td>\n",
              "      <td>1</td>\n",
              "    </tr>\n",
              "    <tr>\n",
              "      <th>415</th>\n",
              "      <td>male</td>\n",
              "      <td>3</td>\n",
              "    </tr>\n",
              "    <tr>\n",
              "      <th>416</th>\n",
              "      <td>male</td>\n",
              "      <td>3</td>\n",
              "    </tr>\n",
              "    <tr>\n",
              "      <th>417</th>\n",
              "      <td>male</td>\n",
              "      <td>3</td>\n",
              "    </tr>\n",
              "  </tbody>\n",
              "</table>\n",
              "<p>418 rows × 2 columns</p>\n",
              "</div>"
            ],
            "text/plain": [
              "        Sex  Pclass\n",
              "0      male       3\n",
              "1    female       3\n",
              "2      male       2\n",
              "3      male       3\n",
              "4    female       3\n",
              "..      ...     ...\n",
              "413    male       3\n",
              "414  female       1\n",
              "415    male       3\n",
              "416    male       3\n",
              "417    male       3\n",
              "\n",
              "[418 rows x 2 columns]"
            ]
          },
          "metadata": {},
          "execution_count": 202
        }
      ]
    },
    {
      "cell_type": "code",
      "metadata": {
        "id": "_pgvtOX_YjsJ"
      },
      "source": [
        "#성별 수치화\n",
        "test['Sex'] = test['Sex'].map({'male':0, 'female':1})\n",
        "#train['Sex'] = train['Sex'].map({'male':0, 'female':1}) 위에서 이미 변환"
      ],
      "execution_count": 203,
      "outputs": []
    },
    {
      "cell_type": "code",
      "metadata": {
        "id": "Qd08z5v8Y6_p"
      },
      "source": [
        "#수치화 한 것을 다시 대입\n",
        "X_test = test[['Sex','Pclass']]\n",
        "#X_train = train[['Sex', 'Pclass']] 위에서 이미 변환"
      ],
      "execution_count": 204,
      "outputs": []
    },
    {
      "cell_type": "code",
      "metadata": {
        "colab": {
          "base_uri": "https://localhost:8080/",
          "height": 418
        },
        "id": "dLYKK4KEcFer",
        "outputId": "8ad4ee4e-e2ec-4021-d3c2-c1ba66a325b5"
      },
      "source": [
        "X_test"
      ],
      "execution_count": 205,
      "outputs": [
        {
          "output_type": "execute_result",
          "data": {
            "text/html": [
              "<div>\n",
              "<style scoped>\n",
              "    .dataframe tbody tr th:only-of-type {\n",
              "        vertical-align: middle;\n",
              "    }\n",
              "\n",
              "    .dataframe tbody tr th {\n",
              "        vertical-align: top;\n",
              "    }\n",
              "\n",
              "    .dataframe thead th {\n",
              "        text-align: right;\n",
              "    }\n",
              "</style>\n",
              "<table border=\"1\" class=\"dataframe\">\n",
              "  <thead>\n",
              "    <tr style=\"text-align: right;\">\n",
              "      <th></th>\n",
              "      <th>Sex</th>\n",
              "      <th>Pclass</th>\n",
              "    </tr>\n",
              "  </thead>\n",
              "  <tbody>\n",
              "    <tr>\n",
              "      <th>0</th>\n",
              "      <td>0</td>\n",
              "      <td>3</td>\n",
              "    </tr>\n",
              "    <tr>\n",
              "      <th>1</th>\n",
              "      <td>1</td>\n",
              "      <td>3</td>\n",
              "    </tr>\n",
              "    <tr>\n",
              "      <th>2</th>\n",
              "      <td>0</td>\n",
              "      <td>2</td>\n",
              "    </tr>\n",
              "    <tr>\n",
              "      <th>3</th>\n",
              "      <td>0</td>\n",
              "      <td>3</td>\n",
              "    </tr>\n",
              "    <tr>\n",
              "      <th>4</th>\n",
              "      <td>1</td>\n",
              "      <td>3</td>\n",
              "    </tr>\n",
              "    <tr>\n",
              "      <th>...</th>\n",
              "      <td>...</td>\n",
              "      <td>...</td>\n",
              "    </tr>\n",
              "    <tr>\n",
              "      <th>413</th>\n",
              "      <td>0</td>\n",
              "      <td>3</td>\n",
              "    </tr>\n",
              "    <tr>\n",
              "      <th>414</th>\n",
              "      <td>1</td>\n",
              "      <td>1</td>\n",
              "    </tr>\n",
              "    <tr>\n",
              "      <th>415</th>\n",
              "      <td>0</td>\n",
              "      <td>3</td>\n",
              "    </tr>\n",
              "    <tr>\n",
              "      <th>416</th>\n",
              "      <td>0</td>\n",
              "      <td>3</td>\n",
              "    </tr>\n",
              "    <tr>\n",
              "      <th>417</th>\n",
              "      <td>0</td>\n",
              "      <td>3</td>\n",
              "    </tr>\n",
              "  </tbody>\n",
              "</table>\n",
              "<p>418 rows × 2 columns</p>\n",
              "</div>"
            ],
            "text/plain": [
              "     Sex  Pclass\n",
              "0      0       3\n",
              "1      1       3\n",
              "2      0       2\n",
              "3      0       3\n",
              "4      1       3\n",
              "..   ...     ...\n",
              "413    0       3\n",
              "414    1       1\n",
              "415    0       3\n",
              "416    0       3\n",
              "417    0       3\n",
              "\n",
              "[418 rows x 2 columns]"
            ]
          },
          "metadata": {},
          "execution_count": 205
        }
      ]
    },
    {
      "cell_type": "markdown",
      "metadata": {
        "id": "nL9J7zrhZOM3"
      },
      "source": [
        "##sklearn.linear_model.LofisticRegression()\n",
        "\n",
        "*   로지스틱 회귀 모형\n",
        "*   0과 1사이의 값을 산출\n",
        "\n"
      ]
    },
    {
      "cell_type": "code",
      "metadata": {
        "id": "_P91B1HgZHiK"
      },
      "source": [
        "lr = LogisticRegression()"
      ],
      "execution_count": 206,
      "outputs": []
    },
    {
      "cell_type": "markdown",
      "metadata": {
        "id": "Szfdh7ZvZdaT"
      },
      "source": [
        "##sklearn.tree.DecisionTreeClassifier()\n",
        "\n",
        "*   의사결정 나무 모델\n"
      ]
    },
    {
      "cell_type": "code",
      "metadata": {
        "id": "4mmd8TlqZcqW"
      },
      "source": [
        "dt = DecisionTreeClassifier()"
      ],
      "execution_count": 207,
      "outputs": []
    },
    {
      "cell_type": "markdown",
      "metadata": {
        "id": "w2FDrrYnaMAF"
      },
      "source": [
        "#5. 모델 학습 및 검증 Model Tuning & Evaluation"
      ]
    },
    {
      "cell_type": "markdown",
      "metadata": {
        "id": "PYNJvQFOaTV1"
      },
      "source": [
        "###model.fit()\n",
        "*   모델 학습\n",
        "\n"
      ]
    },
    {
      "cell_type": "code",
      "metadata": {
        "colab": {
          "base_uri": "https://localhost:8080/",
          "height": 418
        },
        "id": "ke-BpWz9tSe3",
        "outputId": "8708d073-fdee-45de-c2c0-881b0bbbe256"
      },
      "source": [
        "X_train"
      ],
      "execution_count": 208,
      "outputs": [
        {
          "output_type": "execute_result",
          "data": {
            "text/html": [
              "<div>\n",
              "<style scoped>\n",
              "    .dataframe tbody tr th:only-of-type {\n",
              "        vertical-align: middle;\n",
              "    }\n",
              "\n",
              "    .dataframe tbody tr th {\n",
              "        vertical-align: top;\n",
              "    }\n",
              "\n",
              "    .dataframe thead th {\n",
              "        text-align: right;\n",
              "    }\n",
              "</style>\n",
              "<table border=\"1\" class=\"dataframe\">\n",
              "  <thead>\n",
              "    <tr style=\"text-align: right;\">\n",
              "      <th></th>\n",
              "      <th>Sex</th>\n",
              "      <th>Pclass</th>\n",
              "    </tr>\n",
              "  </thead>\n",
              "  <tbody>\n",
              "    <tr>\n",
              "      <th>0</th>\n",
              "      <td>0</td>\n",
              "      <td>3</td>\n",
              "    </tr>\n",
              "    <tr>\n",
              "      <th>1</th>\n",
              "      <td>1</td>\n",
              "      <td>1</td>\n",
              "    </tr>\n",
              "    <tr>\n",
              "      <th>2</th>\n",
              "      <td>1</td>\n",
              "      <td>3</td>\n",
              "    </tr>\n",
              "    <tr>\n",
              "      <th>3</th>\n",
              "      <td>1</td>\n",
              "      <td>1</td>\n",
              "    </tr>\n",
              "    <tr>\n",
              "      <th>4</th>\n",
              "      <td>0</td>\n",
              "      <td>3</td>\n",
              "    </tr>\n",
              "    <tr>\n",
              "      <th>...</th>\n",
              "      <td>...</td>\n",
              "      <td>...</td>\n",
              "    </tr>\n",
              "    <tr>\n",
              "      <th>886</th>\n",
              "      <td>0</td>\n",
              "      <td>2</td>\n",
              "    </tr>\n",
              "    <tr>\n",
              "      <th>887</th>\n",
              "      <td>1</td>\n",
              "      <td>1</td>\n",
              "    </tr>\n",
              "    <tr>\n",
              "      <th>888</th>\n",
              "      <td>1</td>\n",
              "      <td>3</td>\n",
              "    </tr>\n",
              "    <tr>\n",
              "      <th>889</th>\n",
              "      <td>0</td>\n",
              "      <td>1</td>\n",
              "    </tr>\n",
              "    <tr>\n",
              "      <th>890</th>\n",
              "      <td>0</td>\n",
              "      <td>3</td>\n",
              "    </tr>\n",
              "  </tbody>\n",
              "</table>\n",
              "<p>891 rows × 2 columns</p>\n",
              "</div>"
            ],
            "text/plain": [
              "     Sex  Pclass\n",
              "0      0       3\n",
              "1      1       1\n",
              "2      1       3\n",
              "3      1       1\n",
              "4      0       3\n",
              "..   ...     ...\n",
              "886    0       2\n",
              "887    1       1\n",
              "888    1       3\n",
              "889    0       1\n",
              "890    0       3\n",
              "\n",
              "[891 rows x 2 columns]"
            ]
          },
          "metadata": {},
          "execution_count": 208
        }
      ]
    },
    {
      "cell_type": "code",
      "metadata": {
        "colab": {
          "base_uri": "https://localhost:8080/",
          "height": 418
        },
        "id": "_Qt6OZUotVGL",
        "outputId": "c366d269-411e-417d-f173-cd0271ae9a65"
      },
      "source": [
        "y_train"
      ],
      "execution_count": 209,
      "outputs": [
        {
          "output_type": "execute_result",
          "data": {
            "text/html": [
              "<div>\n",
              "<style scoped>\n",
              "    .dataframe tbody tr th:only-of-type {\n",
              "        vertical-align: middle;\n",
              "    }\n",
              "\n",
              "    .dataframe tbody tr th {\n",
              "        vertical-align: top;\n",
              "    }\n",
              "\n",
              "    .dataframe thead th {\n",
              "        text-align: right;\n",
              "    }\n",
              "</style>\n",
              "<table border=\"1\" class=\"dataframe\">\n",
              "  <thead>\n",
              "    <tr style=\"text-align: right;\">\n",
              "      <th></th>\n",
              "      <th>Survived</th>\n",
              "    </tr>\n",
              "  </thead>\n",
              "  <tbody>\n",
              "    <tr>\n",
              "      <th>0</th>\n",
              "      <td>0</td>\n",
              "    </tr>\n",
              "    <tr>\n",
              "      <th>1</th>\n",
              "      <td>1</td>\n",
              "    </tr>\n",
              "    <tr>\n",
              "      <th>2</th>\n",
              "      <td>1</td>\n",
              "    </tr>\n",
              "    <tr>\n",
              "      <th>3</th>\n",
              "      <td>1</td>\n",
              "    </tr>\n",
              "    <tr>\n",
              "      <th>4</th>\n",
              "      <td>0</td>\n",
              "    </tr>\n",
              "    <tr>\n",
              "      <th>...</th>\n",
              "      <td>...</td>\n",
              "    </tr>\n",
              "    <tr>\n",
              "      <th>886</th>\n",
              "      <td>0</td>\n",
              "    </tr>\n",
              "    <tr>\n",
              "      <th>887</th>\n",
              "      <td>1</td>\n",
              "    </tr>\n",
              "    <tr>\n",
              "      <th>888</th>\n",
              "      <td>0</td>\n",
              "    </tr>\n",
              "    <tr>\n",
              "      <th>889</th>\n",
              "      <td>1</td>\n",
              "    </tr>\n",
              "    <tr>\n",
              "      <th>890</th>\n",
              "      <td>0</td>\n",
              "    </tr>\n",
              "  </tbody>\n",
              "</table>\n",
              "<p>891 rows × 1 columns</p>\n",
              "</div>"
            ],
            "text/plain": [
              "     Survived\n",
              "0           0\n",
              "1           1\n",
              "2           1\n",
              "3           1\n",
              "4           0\n",
              "..        ...\n",
              "886         0\n",
              "887         1\n",
              "888         0\n",
              "889         1\n",
              "890         0\n",
              "\n",
              "[891 rows x 1 columns]"
            ]
          },
          "metadata": {},
          "execution_count": 209
        }
      ]
    },
    {
      "cell_type": "code",
      "metadata": {
        "colab": {
          "base_uri": "https://localhost:8080/"
        },
        "id": "48IqD2HLZnXT",
        "outputId": "247cffbf-ed36-480e-f3ce-6a3b5265bb49"
      },
      "source": [
        "lr.fit(X_train, y_train) #lr 로지스틱 회귀"
      ],
      "execution_count": 210,
      "outputs": [
        {
          "output_type": "stream",
          "name": "stderr",
          "text": [
            "/usr/local/lib/python3.7/dist-packages/sklearn/utils/validation.py:760: DataConversionWarning: A column-vector y was passed when a 1d array was expected. Please change the shape of y to (n_samples, ), for example using ravel().\n",
            "  y = column_or_1d(y, warn=True)\n"
          ]
        },
        {
          "output_type": "execute_result",
          "data": {
            "text/plain": [
              "LogisticRegression(C=1.0, class_weight=None, dual=False, fit_intercept=True,\n",
              "                   intercept_scaling=1, l1_ratio=None, max_iter=100,\n",
              "                   multi_class='auto', n_jobs=None, penalty='l2',\n",
              "                   random_state=None, solver='lbfgs', tol=0.0001, verbose=0,\n",
              "                   warm_start=False)"
            ]
          },
          "metadata": {},
          "execution_count": 210
        }
      ]
    },
    {
      "cell_type": "code",
      "metadata": {
        "id": "Mcc3WDKdakj3",
        "colab": {
          "base_uri": "https://localhost:8080/"
        },
        "outputId": "79197ef4-f432-4d7b-d6ca-5960dd7cf2c5"
      },
      "source": [
        "dt.fit(X_train, y_train) #dt 의사결정 나무 모델"
      ],
      "execution_count": 211,
      "outputs": [
        {
          "output_type": "execute_result",
          "data": {
            "text/plain": [
              "DecisionTreeClassifier(ccp_alpha=0.0, class_weight=None, criterion='gini',\n",
              "                       max_depth=None, max_features=None, max_leaf_nodes=None,\n",
              "                       min_impurity_decrease=0.0, min_impurity_split=None,\n",
              "                       min_samples_leaf=1, min_samples_split=2,\n",
              "                       min_weight_fraction_leaf=0.0, presort='deprecated',\n",
              "                       random_state=None, splitter='best')"
            ]
          },
          "metadata": {},
          "execution_count": 211
        }
      ]
    },
    {
      "cell_type": "markdown",
      "metadata": {
        "id": "CroHaSQradj-"
      },
      "source": [
        "###model.predict()\n",
        "\n",
        "*   모델 예측\n",
        "\n"
      ]
    },
    {
      "cell_type": "code",
      "metadata": {
        "colab": {
          "base_uri": "https://localhost:8080/"
        },
        "id": "lQzdZHOBvLWK",
        "outputId": "be17ddb4-116b-4182-d9fa-2ece782beafa"
      },
      "source": [
        "lr.predict(X_test)"
      ],
      "execution_count": 213,
      "outputs": [
        {
          "output_type": "execute_result",
          "data": {
            "text/plain": [
              "array([0, 1, 0, 0, 1, 0, 1, 0, 1, 0, 0, 0, 1, 0, 1, 1, 0, 0, 1, 1, 0, 0,\n",
              "       1, 0, 1, 0, 1, 0, 0, 0, 0, 0, 1, 1, 0, 0, 1, 1, 0, 0, 0, 0, 0, 1,\n",
              "       1, 0, 0, 0, 1, 1, 0, 0, 1, 1, 0, 0, 0, 0, 0, 1, 0, 0, 0, 1, 0, 1,\n",
              "       1, 0, 0, 1, 1, 0, 1, 0, 1, 0, 0, 1, 0, 1, 0, 0, 0, 0, 0, 0, 1, 1,\n",
              "       1, 0, 1, 0, 1, 0, 0, 0, 1, 0, 1, 0, 1, 0, 0, 0, 1, 0, 0, 0, 0, 0,\n",
              "       0, 1, 1, 1, 1, 0, 0, 1, 0, 1, 1, 0, 1, 0, 0, 1, 0, 1, 0, 0, 0, 0,\n",
              "       1, 0, 0, 0, 0, 0, 1, 0, 1, 1, 0, 0, 0, 0, 0, 0, 0, 0, 1, 0, 0, 1,\n",
              "       0, 0, 1, 1, 0, 1, 1, 0, 1, 0, 0, 1, 0, 0, 1, 1, 0, 0, 0, 0, 0, 1,\n",
              "       1, 0, 1, 1, 0, 0, 1, 0, 1, 0, 1, 0, 1, 0, 0, 0, 0, 0, 0, 0, 0, 1,\n",
              "       0, 1, 1, 0, 0, 1, 0, 0, 1, 0, 1, 0, 0, 0, 0, 1, 1, 0, 1, 0, 1, 0,\n",
              "       1, 0, 1, 0, 1, 1, 0, 1, 0, 0, 0, 1, 0, 0, 0, 0, 0, 0, 1, 1, 1, 1,\n",
              "       0, 0, 0, 0, 1, 0, 1, 1, 1, 0, 0, 0, 0, 0, 0, 0, 1, 0, 0, 0, 1, 1,\n",
              "       0, 0, 0, 0, 1, 0, 0, 0, 1, 1, 0, 1, 0, 0, 0, 0, 1, 0, 1, 1, 1, 0,\n",
              "       0, 0, 0, 0, 0, 1, 0, 0, 0, 0, 1, 0, 0, 0, 0, 0, 0, 0, 1, 1, 0, 0,\n",
              "       0, 1, 0, 0, 0, 1, 1, 1, 0, 0, 0, 0, 0, 0, 0, 0, 1, 0, 1, 0, 0, 0,\n",
              "       1, 0, 0, 1, 0, 0, 0, 0, 0, 0, 0, 0, 0, 1, 0, 1, 0, 1, 0, 1, 1, 0,\n",
              "       0, 0, 1, 0, 1, 0, 0, 1, 0, 1, 1, 0, 1, 1, 0, 1, 1, 0, 0, 1, 0, 0,\n",
              "       1, 1, 1, 0, 0, 0, 0, 0, 1, 1, 0, 1, 0, 0, 0, 0, 0, 1, 0, 0, 0, 1,\n",
              "       0, 1, 0, 0, 1, 0, 1, 0, 0, 0, 0, 0, 1, 1, 1, 1, 1, 0, 1, 0, 0, 0])"
            ]
          },
          "metadata": {},
          "execution_count": 213
        }
      ]
    },
    {
      "cell_type": "markdown",
      "metadata": {
        "id": "y_pjcfeUvTk5"
      },
      "source": [
        "그러나, submission제출 파일에 '생존확률'을 명시하라고 하고 있으므로 \n",
        "\n",
        "0 과 1 사이에 실수값을 표현할 예정"
      ]
    },
    {
      "cell_type": "markdown",
      "metadata": {
        "id": "4sijeuOUvwbW"
      },
      "source": [
        "###model.predict_proba()\n",
        "\n",
        "*   모델 예측\n",
        "\n"
      ]
    },
    {
      "cell_type": "code",
      "metadata": {
        "colab": {
          "base_uri": "https://localhost:8080/"
        },
        "id": "yiOEqmpNvjUx",
        "outputId": "1e7921e4-de98-4e84-908e-3ba10814dfc0"
      },
      "source": [
        "#따라서 lr.predic(X_test) 가 아닌\n",
        "lr.predict_proba(X_test)"
      ],
      "execution_count": 216,
      "outputs": [
        {
          "output_type": "execute_result",
          "data": {
            "text/plain": [
              "array([[0.89797923, 0.10202077],\n",
              "       [0.40645631, 0.59354369],\n",
              "       [0.77524063, 0.22475937],\n",
              "       [0.89797923, 0.10202077],\n",
              "       [0.40645631, 0.59354369],\n",
              "       [0.89797923, 0.10202077],\n",
              "       [0.40645631, 0.59354369],\n",
              "       [0.77524063, 0.22475937],\n",
              "       [0.40645631, 0.59354369],\n",
              "       [0.89797923, 0.10202077],\n",
              "       [0.89797923, 0.10202077],\n",
              "       [0.57476411, 0.42523589],\n",
              "       [0.09515218, 0.90484782],\n",
              "       [0.77524063, 0.22475937],\n",
              "       [0.09515218, 0.90484782],\n",
              "       [0.21157431, 0.78842569],\n",
              "       [0.77524063, 0.22475937],\n",
              "       [0.89797923, 0.10202077],\n",
              "       [0.40645631, 0.59354369],\n",
              "       [0.40645631, 0.59354369],\n",
              "       [0.57476411, 0.42523589],\n",
              "       [0.89797923, 0.10202077],\n",
              "       [0.09515218, 0.90484782],\n",
              "       [0.57476411, 0.42523589],\n",
              "       [0.09515218, 0.90484782],\n",
              "       [0.89797923, 0.10202077],\n",
              "       [0.09515218, 0.90484782],\n",
              "       [0.89797923, 0.10202077],\n",
              "       [0.57476411, 0.42523589],\n",
              "       [0.89797923, 0.10202077],\n",
              "       [0.77524063, 0.22475937],\n",
              "       [0.77524063, 0.22475937],\n",
              "       [0.40645631, 0.59354369],\n",
              "       [0.40645631, 0.59354369],\n",
              "       [0.57476411, 0.42523589],\n",
              "       [0.89797923, 0.10202077],\n",
              "       [0.40645631, 0.59354369],\n",
              "       [0.40645631, 0.59354369],\n",
              "       [0.89797923, 0.10202077],\n",
              "       [0.89797923, 0.10202077],\n",
              "       [0.89797923, 0.10202077],\n",
              "       [0.57476411, 0.42523589],\n",
              "       [0.89797923, 0.10202077],\n",
              "       [0.21157431, 0.78842569],\n",
              "       [0.09515218, 0.90484782],\n",
              "       [0.89797923, 0.10202077],\n",
              "       [0.57476411, 0.42523589],\n",
              "       [0.89797923, 0.10202077],\n",
              "       [0.09515218, 0.90484782],\n",
              "       [0.40645631, 0.59354369],\n",
              "       [0.57476411, 0.42523589],\n",
              "       [0.77524063, 0.22475937],\n",
              "       [0.21157431, 0.78842569],\n",
              "       [0.09515218, 0.90484782],\n",
              "       [0.77524063, 0.22475937],\n",
              "       [0.89797923, 0.10202077],\n",
              "       [0.89797923, 0.10202077],\n",
              "       [0.89797923, 0.10202077],\n",
              "       [0.89797923, 0.10202077],\n",
              "       [0.09515218, 0.90484782],\n",
              "       [0.89797923, 0.10202077],\n",
              "       [0.77524063, 0.22475937],\n",
              "       [0.89797923, 0.10202077],\n",
              "       [0.40645631, 0.59354369],\n",
              "       [0.57476411, 0.42523589],\n",
              "       [0.21157431, 0.78842569],\n",
              "       [0.40645631, 0.59354369],\n",
              "       [0.57476411, 0.42523589],\n",
              "       [0.57476411, 0.42523589],\n",
              "       [0.09515218, 0.90484782],\n",
              "       [0.40645631, 0.59354369],\n",
              "       [0.89797923, 0.10202077],\n",
              "       [0.40645631, 0.59354369],\n",
              "       [0.57476411, 0.42523589],\n",
              "       [0.09515218, 0.90484782],\n",
              "       [0.57476411, 0.42523589],\n",
              "       [0.89797923, 0.10202077],\n",
              "       [0.09515218, 0.90484782],\n",
              "       [0.77524063, 0.22475937],\n",
              "       [0.40645631, 0.59354369],\n",
              "       [0.89797923, 0.10202077],\n",
              "       [0.57476411, 0.42523589],\n",
              "       [0.57476411, 0.42523589],\n",
              "       [0.89797923, 0.10202077],\n",
              "       [0.77524063, 0.22475937],\n",
              "       [0.89797923, 0.10202077],\n",
              "       [0.40645631, 0.59354369],\n",
              "       [0.40645631, 0.59354369],\n",
              "       [0.40645631, 0.59354369],\n",
              "       [0.77524063, 0.22475937],\n",
              "       [0.40645631, 0.59354369],\n",
              "       [0.89797923, 0.10202077],\n",
              "       [0.09515218, 0.90484782],\n",
              "       [0.89797923, 0.10202077],\n",
              "       [0.57476411, 0.42523589],\n",
              "       [0.89797923, 0.10202077],\n",
              "       [0.09515218, 0.90484782],\n",
              "       [0.89797923, 0.10202077],\n",
              "       [0.40645631, 0.59354369],\n",
              "       [0.89797923, 0.10202077],\n",
              "       [0.09515218, 0.90484782],\n",
              "       [0.77524063, 0.22475937],\n",
              "       [0.89797923, 0.10202077],\n",
              "       [0.89797923, 0.10202077],\n",
              "       [0.40645631, 0.59354369],\n",
              "       [0.89797923, 0.10202077],\n",
              "       [0.89797923, 0.10202077],\n",
              "       [0.89797923, 0.10202077],\n",
              "       [0.89797923, 0.10202077],\n",
              "       [0.77524063, 0.22475937],\n",
              "       [0.77524063, 0.22475937],\n",
              "       [0.40645631, 0.59354369],\n",
              "       [0.09515218, 0.90484782],\n",
              "       [0.40645631, 0.59354369],\n",
              "       [0.09515218, 0.90484782],\n",
              "       [0.89797923, 0.10202077],\n",
              "       [0.89797923, 0.10202077],\n",
              "       [0.40645631, 0.59354369],\n",
              "       [0.57476411, 0.42523589],\n",
              "       [0.21157431, 0.78842569],\n",
              "       [0.21157431, 0.78842569],\n",
              "       [0.89797923, 0.10202077],\n",
              "       [0.09515218, 0.90484782],\n",
              "       [0.89797923, 0.10202077],\n",
              "       [0.89797923, 0.10202077],\n",
              "       [0.40645631, 0.59354369],\n",
              "       [0.89797923, 0.10202077],\n",
              "       [0.40645631, 0.59354369],\n",
              "       [0.77524063, 0.22475937],\n",
              "       [0.89797923, 0.10202077],\n",
              "       [0.89797923, 0.10202077],\n",
              "       [0.57476411, 0.42523589],\n",
              "       [0.40645631, 0.59354369],\n",
              "       [0.89797923, 0.10202077],\n",
              "       [0.89797923, 0.10202077],\n",
              "       [0.89797923, 0.10202077],\n",
              "       [0.89797923, 0.10202077],\n",
              "       [0.77524063, 0.22475937],\n",
              "       [0.40645631, 0.59354369],\n",
              "       [0.89797923, 0.10202077],\n",
              "       [0.40645631, 0.59354369],\n",
              "       [0.09515218, 0.90484782],\n",
              "       [0.57476411, 0.42523589],\n",
              "       [0.77524063, 0.22475937],\n",
              "       [0.57476411, 0.42523589],\n",
              "       [0.89797923, 0.10202077],\n",
              "       [0.57476411, 0.42523589],\n",
              "       [0.89797923, 0.10202077],\n",
              "       [0.57476411, 0.42523589],\n",
              "       [0.77524063, 0.22475937],\n",
              "       [0.09515218, 0.90484782],\n",
              "       [0.89797923, 0.10202077],\n",
              "       [0.89797923, 0.10202077],\n",
              "       [0.40645631, 0.59354369],\n",
              "       [0.89797923, 0.10202077],\n",
              "       [0.89797923, 0.10202077],\n",
              "       [0.09515218, 0.90484782],\n",
              "       [0.40645631, 0.59354369],\n",
              "       [0.57476411, 0.42523589],\n",
              "       [0.40645631, 0.59354369],\n",
              "       [0.40645631, 0.59354369],\n",
              "       [0.89797923, 0.10202077],\n",
              "       [0.21157431, 0.78842569],\n",
              "       [0.89797923, 0.10202077],\n",
              "       [0.77524063, 0.22475937],\n",
              "       [0.40645631, 0.59354369],\n",
              "       [0.57476411, 0.42523589],\n",
              "       [0.89797923, 0.10202077],\n",
              "       [0.09515218, 0.90484782],\n",
              "       [0.40645631, 0.59354369],\n",
              "       [0.89797923, 0.10202077],\n",
              "       [0.89797923, 0.10202077],\n",
              "       [0.89797923, 0.10202077],\n",
              "       [0.89797923, 0.10202077],\n",
              "       [0.89797923, 0.10202077],\n",
              "       [0.21157431, 0.78842569],\n",
              "       [0.21157431, 0.78842569],\n",
              "       [0.57476411, 0.42523589],\n",
              "       [0.21157431, 0.78842569],\n",
              "       [0.09515218, 0.90484782],\n",
              "       [0.77524063, 0.22475937],\n",
              "       [0.57476411, 0.42523589],\n",
              "       [0.09515218, 0.90484782],\n",
              "       [0.89797923, 0.10202077],\n",
              "       [0.09515218, 0.90484782],\n",
              "       [0.77524063, 0.22475937],\n",
              "       [0.21157431, 0.78842569],\n",
              "       [0.89797923, 0.10202077],\n",
              "       [0.40645631, 0.59354369],\n",
              "       [0.77524063, 0.22475937],\n",
              "       [0.77524063, 0.22475937],\n",
              "       [0.57476411, 0.42523589],\n",
              "       [0.89797923, 0.10202077],\n",
              "       [0.77524063, 0.22475937],\n",
              "       [0.77524063, 0.22475937],\n",
              "       [0.89797923, 0.10202077],\n",
              "       [0.57476411, 0.42523589],\n",
              "       [0.40645631, 0.59354369],\n",
              "       [0.77524063, 0.22475937],\n",
              "       [0.40645631, 0.59354369],\n",
              "       [0.40645631, 0.59354369],\n",
              "       [0.89797923, 0.10202077],\n",
              "       [0.57476411, 0.42523589],\n",
              "       [0.21157431, 0.78842569],\n",
              "       [0.77524063, 0.22475937],\n",
              "       [0.57476411, 0.42523589],\n",
              "       [0.40645631, 0.59354369],\n",
              "       [0.77524063, 0.22475937],\n",
              "       [0.09515218, 0.90484782],\n",
              "       [0.89797923, 0.10202077],\n",
              "       [0.89797923, 0.10202077],\n",
              "       [0.89797923, 0.10202077],\n",
              "       [0.77524063, 0.22475937],\n",
              "       [0.21157431, 0.78842569],\n",
              "       [0.40645631, 0.59354369],\n",
              "       [0.57476411, 0.42523589],\n",
              "       [0.40645631, 0.59354369],\n",
              "       [0.57476411, 0.42523589],\n",
              "       [0.09515218, 0.90484782],\n",
              "       [0.89797923, 0.10202077],\n",
              "       [0.21157431, 0.78842569],\n",
              "       [0.89797923, 0.10202077],\n",
              "       [0.21157431, 0.78842569],\n",
              "       [0.89797923, 0.10202077],\n",
              "       [0.09515218, 0.90484782],\n",
              "       [0.40645631, 0.59354369],\n",
              "       [0.89797923, 0.10202077],\n",
              "       [0.40645631, 0.59354369],\n",
              "       [0.89797923, 0.10202077],\n",
              "       [0.77524063, 0.22475937],\n",
              "       [0.77524063, 0.22475937],\n",
              "       [0.09515218, 0.90484782],\n",
              "       [0.89797923, 0.10202077],\n",
              "       [0.89797923, 0.10202077],\n",
              "       [0.57476411, 0.42523589],\n",
              "       [0.89797923, 0.10202077],\n",
              "       [0.57476411, 0.42523589],\n",
              "       [0.89797923, 0.10202077],\n",
              "       [0.21157431, 0.78842569],\n",
              "       [0.09515218, 0.90484782],\n",
              "       [0.09515218, 0.90484782],\n",
              "       [0.21157431, 0.78842569],\n",
              "       [0.57476411, 0.42523589],\n",
              "       [0.89797923, 0.10202077],\n",
              "       [0.89797923, 0.10202077],\n",
              "       [0.57476411, 0.42523589],\n",
              "       [0.21157431, 0.78842569],\n",
              "       [0.77524063, 0.22475937],\n",
              "       [0.21157431, 0.78842569],\n",
              "       [0.40645631, 0.59354369],\n",
              "       [0.21157431, 0.78842569],\n",
              "       [0.89797923, 0.10202077],\n",
              "       [0.57476411, 0.42523589],\n",
              "       [0.89797923, 0.10202077],\n",
              "       [0.89797923, 0.10202077],\n",
              "       [0.89797923, 0.10202077],\n",
              "       [0.89797923, 0.10202077],\n",
              "       [0.89797923, 0.10202077],\n",
              "       [0.21157431, 0.78842569],\n",
              "       [0.89797923, 0.10202077],\n",
              "       [0.89797923, 0.10202077],\n",
              "       [0.89797923, 0.10202077],\n",
              "       [0.21157431, 0.78842569],\n",
              "       [0.40645631, 0.59354369],\n",
              "       [0.77524063, 0.22475937],\n",
              "       [0.89797923, 0.10202077],\n",
              "       [0.57476411, 0.42523589],\n",
              "       [0.89797923, 0.10202077],\n",
              "       [0.40645631, 0.59354369],\n",
              "       [0.89797923, 0.10202077],\n",
              "       [0.57476411, 0.42523589],\n",
              "       [0.89797923, 0.10202077],\n",
              "       [0.09515218, 0.90484782],\n",
              "       [0.40645631, 0.59354369],\n",
              "       [0.89797923, 0.10202077],\n",
              "       [0.21157431, 0.78842569],\n",
              "       [0.77524063, 0.22475937],\n",
              "       [0.77524063, 0.22475937],\n",
              "       [0.77524063, 0.22475937],\n",
              "       [0.77524063, 0.22475937],\n",
              "       [0.40645631, 0.59354369],\n",
              "       [0.89797923, 0.10202077],\n",
              "       [0.40645631, 0.59354369],\n",
              "       [0.40645631, 0.59354369],\n",
              "       [0.40645631, 0.59354369],\n",
              "       [0.89797923, 0.10202077],\n",
              "       [0.89797923, 0.10202077],\n",
              "       [0.57476411, 0.42523589],\n",
              "       [0.89797923, 0.10202077],\n",
              "       [0.89797923, 0.10202077],\n",
              "       [0.57476411, 0.42523589],\n",
              "       [0.40645631, 0.59354369],\n",
              "       [0.89797923, 0.10202077],\n",
              "       [0.57476411, 0.42523589],\n",
              "       [0.89797923, 0.10202077],\n",
              "       [0.89797923, 0.10202077],\n",
              "       [0.21157431, 0.78842569],\n",
              "       [0.89797923, 0.10202077],\n",
              "       [0.57476411, 0.42523589],\n",
              "       [0.89797923, 0.10202077],\n",
              "       [0.89797923, 0.10202077],\n",
              "       [0.77524063, 0.22475937],\n",
              "       [0.77524063, 0.22475937],\n",
              "       [0.89797923, 0.10202077],\n",
              "       [0.40645631, 0.59354369],\n",
              "       [0.09515218, 0.90484782],\n",
              "       [0.57476411, 0.42523589],\n",
              "       [0.89797923, 0.10202077],\n",
              "       [0.57476411, 0.42523589],\n",
              "       [0.40645631, 0.59354369],\n",
              "       [0.89797923, 0.10202077],\n",
              "       [0.89797923, 0.10202077],\n",
              "       [0.89797923, 0.10202077],\n",
              "       [0.40645631, 0.59354369],\n",
              "       [0.09515218, 0.90484782],\n",
              "       [0.40645631, 0.59354369],\n",
              "       [0.57476411, 0.42523589],\n",
              "       [0.77524063, 0.22475937],\n",
              "       [0.89797923, 0.10202077],\n",
              "       [0.77524063, 0.22475937],\n",
              "       [0.89797923, 0.10202077],\n",
              "       [0.89797923, 0.10202077],\n",
              "       [0.77524063, 0.22475937],\n",
              "       [0.57476411, 0.42523589],\n",
              "       [0.09515218, 0.90484782],\n",
              "       [0.89797923, 0.10202077],\n",
              "       [0.21157431, 0.78842569],\n",
              "       [0.57476411, 0.42523589],\n",
              "       [0.77524063, 0.22475937],\n",
              "       [0.77524063, 0.22475937],\n",
              "       [0.21157431, 0.78842569],\n",
              "       [0.57476411, 0.42523589],\n",
              "       [0.89797923, 0.10202077],\n",
              "       [0.40645631, 0.59354369],\n",
              "       [0.89797923, 0.10202077],\n",
              "       [0.57476411, 0.42523589],\n",
              "       [0.77524063, 0.22475937],\n",
              "       [0.89797923, 0.10202077],\n",
              "       [0.77524063, 0.22475937],\n",
              "       [0.89797923, 0.10202077],\n",
              "       [0.77524063, 0.22475937],\n",
              "       [0.89797923, 0.10202077],\n",
              "       [0.89797923, 0.10202077],\n",
              "       [0.09515218, 0.90484782],\n",
              "       [0.89797923, 0.10202077],\n",
              "       [0.40645631, 0.59354369],\n",
              "       [0.77524063, 0.22475937],\n",
              "       [0.40645631, 0.59354369],\n",
              "       [0.77524063, 0.22475937],\n",
              "       [0.21157431, 0.78842569],\n",
              "       [0.09515218, 0.90484782],\n",
              "       [0.77524063, 0.22475937],\n",
              "       [0.77524063, 0.22475937],\n",
              "       [0.77524063, 0.22475937],\n",
              "       [0.40645631, 0.59354369],\n",
              "       [0.57476411, 0.42523589],\n",
              "       [0.09515218, 0.90484782],\n",
              "       [0.89797923, 0.10202077],\n",
              "       [0.89797923, 0.10202077],\n",
              "       [0.40645631, 0.59354369],\n",
              "       [0.89797923, 0.10202077],\n",
              "       [0.21157431, 0.78842569],\n",
              "       [0.21157431, 0.78842569],\n",
              "       [0.89797923, 0.10202077],\n",
              "       [0.09515218, 0.90484782],\n",
              "       [0.40645631, 0.59354369],\n",
              "       [0.89797923, 0.10202077],\n",
              "       [0.40645631, 0.59354369],\n",
              "       [0.09515218, 0.90484782],\n",
              "       [0.77524063, 0.22475937],\n",
              "       [0.77524063, 0.22475937],\n",
              "       [0.09515218, 0.90484782],\n",
              "       [0.57476411, 0.42523589],\n",
              "       [0.77524063, 0.22475937],\n",
              "       [0.09515218, 0.90484782],\n",
              "       [0.09515218, 0.90484782],\n",
              "       [0.40645631, 0.59354369],\n",
              "       [0.77524063, 0.22475937],\n",
              "       [0.57476411, 0.42523589],\n",
              "       [0.89797923, 0.10202077],\n",
              "       [0.89797923, 0.10202077],\n",
              "       [0.89797923, 0.10202077],\n",
              "       [0.40645631, 0.59354369],\n",
              "       [0.40645631, 0.59354369],\n",
              "       [0.77524063, 0.22475937],\n",
              "       [0.21157431, 0.78842569],\n",
              "       [0.89797923, 0.10202077],\n",
              "       [0.77524063, 0.22475937],\n",
              "       [0.89797923, 0.10202077],\n",
              "       [0.89797923, 0.10202077],\n",
              "       [0.57476411, 0.42523589],\n",
              "       [0.09515218, 0.90484782],\n",
              "       [0.89797923, 0.10202077],\n",
              "       [0.77524063, 0.22475937],\n",
              "       [0.89797923, 0.10202077],\n",
              "       [0.09515218, 0.90484782],\n",
              "       [0.89797923, 0.10202077],\n",
              "       [0.09515218, 0.90484782],\n",
              "       [0.89797923, 0.10202077],\n",
              "       [0.89797923, 0.10202077],\n",
              "       [0.09515218, 0.90484782],\n",
              "       [0.77524063, 0.22475937],\n",
              "       [0.09515218, 0.90484782],\n",
              "       [0.57476411, 0.42523589],\n",
              "       [0.57476411, 0.42523589],\n",
              "       [0.77524063, 0.22475937],\n",
              "       [0.77524063, 0.22475937],\n",
              "       [0.57476411, 0.42523589],\n",
              "       [0.40645631, 0.59354369],\n",
              "       [0.40645631, 0.59354369],\n",
              "       [0.40645631, 0.59354369],\n",
              "       [0.09515218, 0.90484782],\n",
              "       [0.40645631, 0.59354369],\n",
              "       [0.89797923, 0.10202077],\n",
              "       [0.09515218, 0.90484782],\n",
              "       [0.89797923, 0.10202077],\n",
              "       [0.89797923, 0.10202077],\n",
              "       [0.89797923, 0.10202077]])"
            ]
          },
          "metadata": {},
          "execution_count": 216
        }
      ]
    },
    {
      "cell_type": "code",
      "metadata": {
        "colab": {
          "base_uri": "https://localhost:8080/"
        },
        "id": "MrWfm-r8acrM",
        "outputId": "fcba57be-c468-41db-c53d-3c0a4c06b120"
      },
      "source": [
        "lr.predict_proba(X_test).shape # 열이 두 개 (사망확률,생존확률)"
      ],
      "execution_count": 217,
      "outputs": [
        {
          "output_type": "execute_result",
          "data": {
            "text/plain": [
              "(418, 2)"
            ]
          },
          "metadata": {},
          "execution_count": 217
        }
      ]
    },
    {
      "cell_type": "markdown",
      "metadata": {
        "id": "kGJVbCptwJQ1"
      },
      "source": [
        ""
      ]
    },
    {
      "cell_type": "code",
      "metadata": {
        "id": "dRadCaWvwVzw"
      },
      "source": [
        "lr_pred = lr.predict_proba(X_test)[:,1] #0번째 1번째 중 1번째인 생존확률만"
      ],
      "execution_count": 219,
      "outputs": []
    },
    {
      "cell_type": "code",
      "metadata": {
        "id": "o2OD-0WSa-i1"
      },
      "source": [
        "dt_pred =  dt.predict_proba(X_test)[:,1]"
      ],
      "execution_count": 221,
      "outputs": []
    },
    {
      "cell_type": "markdown",
      "metadata": {
        "id": "ZzKlGKiyxPcJ"
      },
      "source": [
        "###pd.DataFrame.to_csv()\n",
        "*    csv파일 저장"
      ]
    },
    {
      "cell_type": "code",
      "metadata": {
        "colab": {
          "base_uri": "https://localhost:8080/",
          "height": 418
        },
        "id": "W8pvOQzPxXnK",
        "outputId": "c3ea1b70-c608-4989-844b-d7e312893ad9"
      },
      "source": [
        "submission"
      ],
      "execution_count": 222,
      "outputs": [
        {
          "output_type": "execute_result",
          "data": {
            "text/html": [
              "<div>\n",
              "<style scoped>\n",
              "    .dataframe tbody tr th:only-of-type {\n",
              "        vertical-align: middle;\n",
              "    }\n",
              "\n",
              "    .dataframe tbody tr th {\n",
              "        vertical-align: top;\n",
              "    }\n",
              "\n",
              "    .dataframe thead th {\n",
              "        text-align: right;\n",
              "    }\n",
              "</style>\n",
              "<table border=\"1\" class=\"dataframe\">\n",
              "  <thead>\n",
              "    <tr style=\"text-align: right;\">\n",
              "      <th></th>\n",
              "      <th>PassengerId</th>\n",
              "      <th>Survived</th>\n",
              "    </tr>\n",
              "  </thead>\n",
              "  <tbody>\n",
              "    <tr>\n",
              "      <th>0</th>\n",
              "      <td>892</td>\n",
              "      <td>0</td>\n",
              "    </tr>\n",
              "    <tr>\n",
              "      <th>1</th>\n",
              "      <td>893</td>\n",
              "      <td>1</td>\n",
              "    </tr>\n",
              "    <tr>\n",
              "      <th>2</th>\n",
              "      <td>894</td>\n",
              "      <td>0</td>\n",
              "    </tr>\n",
              "    <tr>\n",
              "      <th>3</th>\n",
              "      <td>895</td>\n",
              "      <td>0</td>\n",
              "    </tr>\n",
              "    <tr>\n",
              "      <th>4</th>\n",
              "      <td>896</td>\n",
              "      <td>1</td>\n",
              "    </tr>\n",
              "    <tr>\n",
              "      <th>...</th>\n",
              "      <td>...</td>\n",
              "      <td>...</td>\n",
              "    </tr>\n",
              "    <tr>\n",
              "      <th>413</th>\n",
              "      <td>1305</td>\n",
              "      <td>0</td>\n",
              "    </tr>\n",
              "    <tr>\n",
              "      <th>414</th>\n",
              "      <td>1306</td>\n",
              "      <td>1</td>\n",
              "    </tr>\n",
              "    <tr>\n",
              "      <th>415</th>\n",
              "      <td>1307</td>\n",
              "      <td>0</td>\n",
              "    </tr>\n",
              "    <tr>\n",
              "      <th>416</th>\n",
              "      <td>1308</td>\n",
              "      <td>0</td>\n",
              "    </tr>\n",
              "    <tr>\n",
              "      <th>417</th>\n",
              "      <td>1309</td>\n",
              "      <td>0</td>\n",
              "    </tr>\n",
              "  </tbody>\n",
              "</table>\n",
              "<p>418 rows × 2 columns</p>\n",
              "</div>"
            ],
            "text/plain": [
              "     PassengerId  Survived\n",
              "0            892         0\n",
              "1            893         1\n",
              "2            894         0\n",
              "3            895         0\n",
              "4            896         1\n",
              "..           ...       ...\n",
              "413         1305         0\n",
              "414         1306         1\n",
              "415         1307         0\n",
              "416         1308         0\n",
              "417         1309         0\n",
              "\n",
              "[418 rows x 2 columns]"
            ]
          },
          "metadata": {},
          "execution_count": 222
        }
      ]
    },
    {
      "cell_type": "code",
      "metadata": {
        "colab": {
          "base_uri": "https://localhost:8080/",
          "height": 418
        },
        "id": "90OfXTocwyZG",
        "outputId": "212cd7eb-0c13-485f-cd97-886802ea2cf0"
      },
      "source": [
        "### 로지스틱 회귀로 구한 값을 옮겨적기 ###\n",
        "submission['Survived'] = lr_pred\n",
        "submission"
      ],
      "execution_count": 223,
      "outputs": [
        {
          "output_type": "execute_result",
          "data": {
            "text/html": [
              "<div>\n",
              "<style scoped>\n",
              "    .dataframe tbody tr th:only-of-type {\n",
              "        vertical-align: middle;\n",
              "    }\n",
              "\n",
              "    .dataframe tbody tr th {\n",
              "        vertical-align: top;\n",
              "    }\n",
              "\n",
              "    .dataframe thead th {\n",
              "        text-align: right;\n",
              "    }\n",
              "</style>\n",
              "<table border=\"1\" class=\"dataframe\">\n",
              "  <thead>\n",
              "    <tr style=\"text-align: right;\">\n",
              "      <th></th>\n",
              "      <th>PassengerId</th>\n",
              "      <th>Survived</th>\n",
              "    </tr>\n",
              "  </thead>\n",
              "  <tbody>\n",
              "    <tr>\n",
              "      <th>0</th>\n",
              "      <td>892</td>\n",
              "      <td>0.102021</td>\n",
              "    </tr>\n",
              "    <tr>\n",
              "      <th>1</th>\n",
              "      <td>893</td>\n",
              "      <td>0.593544</td>\n",
              "    </tr>\n",
              "    <tr>\n",
              "      <th>2</th>\n",
              "      <td>894</td>\n",
              "      <td>0.224759</td>\n",
              "    </tr>\n",
              "    <tr>\n",
              "      <th>3</th>\n",
              "      <td>895</td>\n",
              "      <td>0.102021</td>\n",
              "    </tr>\n",
              "    <tr>\n",
              "      <th>4</th>\n",
              "      <td>896</td>\n",
              "      <td>0.593544</td>\n",
              "    </tr>\n",
              "    <tr>\n",
              "      <th>...</th>\n",
              "      <td>...</td>\n",
              "      <td>...</td>\n",
              "    </tr>\n",
              "    <tr>\n",
              "      <th>413</th>\n",
              "      <td>1305</td>\n",
              "      <td>0.102021</td>\n",
              "    </tr>\n",
              "    <tr>\n",
              "      <th>414</th>\n",
              "      <td>1306</td>\n",
              "      <td>0.904848</td>\n",
              "    </tr>\n",
              "    <tr>\n",
              "      <th>415</th>\n",
              "      <td>1307</td>\n",
              "      <td>0.102021</td>\n",
              "    </tr>\n",
              "    <tr>\n",
              "      <th>416</th>\n",
              "      <td>1308</td>\n",
              "      <td>0.102021</td>\n",
              "    </tr>\n",
              "    <tr>\n",
              "      <th>417</th>\n",
              "      <td>1309</td>\n",
              "      <td>0.102021</td>\n",
              "    </tr>\n",
              "  </tbody>\n",
              "</table>\n",
              "<p>418 rows × 2 columns</p>\n",
              "</div>"
            ],
            "text/plain": [
              "     PassengerId  Survived\n",
              "0            892  0.102021\n",
              "1            893  0.593544\n",
              "2            894  0.224759\n",
              "3            895  0.102021\n",
              "4            896  0.593544\n",
              "..           ...       ...\n",
              "413         1305  0.102021\n",
              "414         1306  0.904848\n",
              "415         1307  0.102021\n",
              "416         1308  0.102021\n",
              "417         1309  0.102021\n",
              "\n",
              "[418 rows x 2 columns]"
            ]
          },
          "metadata": {},
          "execution_count": 223
        }
      ]
    },
    {
      "cell_type": "code",
      "metadata": {
        "id": "kT3x9AI5xhyK"
      },
      "source": [
        "#pd.DataFrame.to_csv()\n",
        "submission.to_csv('logistic_regression_pred.csv', index = False)\n",
        "#index = False를 명시하지않을 경우, 가장 첫번째 숫자가 포함됨"
      ],
      "execution_count": 225,
      "outputs": []
    },
    {
      "cell_type": "code",
      "metadata": {
        "id": "OWXboSqmxxaE"
      },
      "source": [
        "### 의사결정 트리로 구한 값을 옮겨적기 ###\n",
        "submission['Survived'] = dt_pred\n",
        "submission.to_csv('decision_tree_pred.csv', index=False)"
      ],
      "execution_count": 226,
      "outputs": []
    },
    {
      "cell_type": "markdown",
      "metadata": {
        "id": "RYiapyktzMqb"
      },
      "source": [
        "decision tree : 0.78836\n",
        "\n",
        "logistic regression : 0.78836 \n",
        "\n",
        "동일함"
      ]
    },
    {
      "cell_type": "code",
      "metadata": {
        "id": "giXntttHyizz"
      },
      "source": [
        ""
      ],
      "execution_count": null,
      "outputs": []
    }
  ]
}