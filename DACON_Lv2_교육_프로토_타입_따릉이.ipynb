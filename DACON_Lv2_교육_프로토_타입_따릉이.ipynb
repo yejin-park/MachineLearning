{
  "nbformat": 4,
  "nbformat_minor": 0,
  "metadata": {
    "colab": {
      "name": "DACON_Lv2_교육 프로토 타입_따릉이.ipynb",
      "provenance": [],
      "collapsed_sections": [
        "dSsVaCB3gbi2"
      ],
      "include_colab_link": true
    },
    "kernelspec": {
      "name": "python3",
      "display_name": "Python 3"
    },
    "language_info": {
      "name": "python"
    }
  },
  "cells": [
    {
      "cell_type": "markdown",
      "metadata": {
        "id": "view-in-github",
        "colab_type": "text"
      },
      "source": [
        "<a href=\"https://colab.research.google.com/github/yejin-park/MachineLearning/blob/main/DACON_Lv2_%EA%B5%90%EC%9C%A1_%ED%94%84%EB%A1%9C%ED%86%A0_%ED%83%80%EC%9E%85_%EB%94%B0%EB%A6%89%EC%9D%B4.ipynb\" target=\"_parent\"><img src=\"https://colab.research.google.com/assets/colab-badge.svg\" alt=\"Open In Colab\"/></a>"
      ]
    },
    {
      "cell_type": "markdown",
      "metadata": {
        "id": "7A1_NrpnNgI0"
      },
      "source": [
        "## ★데이터 다운로드\n",
        "--- \n",
        "아래 셀을 실행시켜 데이터를 colab에 불러옵니다.  \n",
        "셀 실행은 Ctrl + Enter 를 이용해 실행 시킬 수 있습니다. "
      ]
    },
    {
      "cell_type": "code",
      "metadata": {
        "id": "a3VxvpLvhnap",
        "colab": {
          "base_uri": "https://localhost:8080/"
        },
        "outputId": "e7479d89-40db-412e-aa55-819f1097c62b"
      },
      "source": [
        "# 데이터 다운로드 링크로 데이터를 코랩에 불러옵니다.\n",
        "\n",
        "!wget 'https://bit.ly/3gLj0Q6'\n",
        "\n",
        "import zipfile\n",
        "with zipfile.ZipFile('3gLj0Q6', 'r') as existing_zip:\n",
        "    existing_zip.extractall('data')"
      ],
      "execution_count": null,
      "outputs": [
        {
          "output_type": "stream",
          "name": "stdout",
          "text": [
            "--2021-09-11 14:46:45--  https://bit.ly/3gLj0Q6\n",
            "Resolving bit.ly (bit.ly)... 67.199.248.11, 67.199.248.10\n",
            "Connecting to bit.ly (bit.ly)|67.199.248.11|:443... connected.\n",
            "HTTP request sent, awaiting response... 301 Moved Permanently\n",
            "Location: https://drive.google.com/uc?export=download&id=1or_QN1ksv81DNog6Tu_kWcZ5jJWf5W9E [following]\n",
            "--2021-09-11 14:46:45--  https://drive.google.com/uc?export=download&id=1or_QN1ksv81DNog6Tu_kWcZ5jJWf5W9E\n",
            "Resolving drive.google.com (drive.google.com)... 142.251.2.102, 142.251.2.139, 142.251.2.113, ...\n",
            "Connecting to drive.google.com (drive.google.com)|142.251.2.102|:443... connected.\n",
            "HTTP request sent, awaiting response... 302 Moved Temporarily\n",
            "Location: https://doc-0c-10-docs.googleusercontent.com/docs/securesc/ha0ro937gcuc7l7deffksulhg5h7mbp1/63hc679rs3tl9co4nsvserbm401in0c9/1631371575000/17946651057176172524/*/1or_QN1ksv81DNog6Tu_kWcZ5jJWf5W9E?e=download [following]\n",
            "Warning: wildcards not supported in HTTP.\n",
            "--2021-09-11 14:46:46--  https://doc-0c-10-docs.googleusercontent.com/docs/securesc/ha0ro937gcuc7l7deffksulhg5h7mbp1/63hc679rs3tl9co4nsvserbm401in0c9/1631371575000/17946651057176172524/*/1or_QN1ksv81DNog6Tu_kWcZ5jJWf5W9E?e=download\n",
            "Resolving doc-0c-10-docs.googleusercontent.com (doc-0c-10-docs.googleusercontent.com)... 74.125.137.132, 2607:f8b0:4023:c03::84\n",
            "Connecting to doc-0c-10-docs.googleusercontent.com (doc-0c-10-docs.googleusercontent.com)|74.125.137.132|:443... connected.\n",
            "HTTP request sent, awaiting response... 200 OK\n",
            "Length: 39208 (38K) [application/zip]\n",
            "Saving to: ‘3gLj0Q6’\n",
            "\n",
            "3gLj0Q6             100%[===================>]  38.29K  --.-KB/s    in 0.03s   \n",
            "\n",
            "2021-09-11 14:46:46 (1.18 MB/s) - ‘3gLj0Q6’ saved [39208/39208]\n",
            "\n"
          ]
        }
      ]
    },
    {
      "cell_type": "markdown",
      "metadata": {
        "id": "dSsVaCB3gbi2"
      },
      "source": [
        "# ★라이브러리 불러오기\n",
        "---"
      ]
    },
    {
      "cell_type": "code",
      "metadata": {
        "id": "DvEH3i3Gged-"
      },
      "source": [
        "# 라이브러리 불러오기\n",
        "# import [라이브러리] as [사용할 이름]\n",
        "# 판다스 , 넘파이\n",
        "\n",
        "import pandas as pd\n",
        "import numpy as np"
      ],
      "execution_count": null,
      "outputs": []
    },
    {
      "cell_type": "markdown",
      "metadata": {
        "id": "xw8UUnzLgiwZ"
      },
      "source": [
        "# ★파일 불러오기\n",
        "---\n",
        "파이썬에서 데이터 파일(csv 파일)을 불러오기 위해서는 pandas 라이브러리를 이용해야 합니다.    \n",
        "pandas 라이브러리를 먼저 import 해주고, pandas의 read_csv 메서드를 이용해 파일을 불러올 수 있습니다."
      ]
    },
    {
      "cell_type": "code",
      "metadata": {
        "id": "65u7F4U3giqK"
      },
      "source": [
        "#import pandas as pd\n",
        "#data = pd.read_csv('파일경로/파일이름.csv')\n",
        "\n",
        "train = pd.read_csv('data/train.csv')\n",
        "test = pd.read_csv('data/test.csv')"
      ],
      "execution_count": null,
      "outputs": []
    },
    {
      "cell_type": "markdown",
      "metadata": {
        "id": "9Dh0Hq6hginT"
      },
      "source": [
        "# ★EDA"
      ]
    },
    {
      "cell_type": "code",
      "metadata": {
        "id": "g_nyfqCLhtcj"
      },
      "source": [
        "# 데이터 상위 5개 행 확인하기\n",
        "#train\n",
        "train.head()"
      ],
      "execution_count": null,
      "outputs": []
    },
    {
      "cell_type": "code",
      "metadata": {
        "id": "NVW2Qp9ghu7G"
      },
      "source": [
        "#test\n",
        "test.head()"
      ],
      "execution_count": null,
      "outputs": []
    },
    {
      "cell_type": "code",
      "metadata": {
        "id": "EIsXqgolgu4v"
      },
      "source": [
        "# 행열 갯수 관찰하기 - shape\n",
        "print('train의 행열 갯수 :', train.shape)\n",
        "print('test의 행열 갯수 :', test.shape)"
      ],
      "execution_count": null,
      "outputs": []
    },
    {
      "cell_type": "code",
      "metadata": {
        "id": "kNeXr0UVheOy"
      },
      "source": [
        "# 결측치 확인하기\n",
        "train.isnull().sum()"
      ],
      "execution_count": null,
      "outputs": []
    },
    {
      "cell_type": "code",
      "metadata": {
        "id": "TzxOXbs7hfl5"
      },
      "source": [
        "test.isnull().sum()"
      ],
      "execution_count": null,
      "outputs": []
    },
    {
      "cell_type": "code",
      "metadata": {
        "id": "WCmpjWdIhg9S"
      },
      "source": [
        "# 데이터 정보 확인\n",
        "train.info()"
      ],
      "execution_count": null,
      "outputs": []
    },
    {
      "cell_type": "code",
      "metadata": {
        "id": "i4T6TlE5hkNk"
      },
      "source": [
        "test.info()"
      ],
      "execution_count": null,
      "outputs": []
    },
    {
      "cell_type": "code",
      "metadata": {
        "id": "tutcUXyWlmGa"
      },
      "source": [
        "#수치데이터 특성 보기\n",
        "\n",
        "train.describe()"
      ],
      "execution_count": null,
      "outputs": []
    },
    {
      "cell_type": "code",
      "metadata": {
        "id": "b0kANTS_mB-p"
      },
      "source": [
        "# 시각화에 필요한 라이브러리를 import\n",
        "import matplotlib\n",
        "import matplotlib.pyplot as plt\n",
        "import seaborn as sns\n",
        "\n",
        "# 마이너스 기호 출력\n",
        "plt.rc('axes', unicode_minus=False)\n",
        "\n",
        "# 분석에 문제가 없는 경고 메세지는 숨긴다.\n",
        "import warnings\n",
        "warnings.filterwarnings('ignore')"
      ],
      "execution_count": null,
      "outputs": []
    },
    {
      "cell_type": "code",
      "metadata": {
        "id": "gKdDGXrl2Z7y"
      },
      "source": [
        "sns.histplot(train['count'])"
      ],
      "execution_count": null,
      "outputs": []
    },
    {
      "cell_type": "code",
      "metadata": {
        "id": "2o9Apn9q5JOS"
      },
      "source": [
        "train.corr()"
      ],
      "execution_count": null,
      "outputs": []
    },
    {
      "cell_type": "code",
      "metadata": {
        "id": "zGy-TeIT2u71"
      },
      "source": [
        "import seaborn as sns\n",
        "plt.figure(figsize = (12,12))\n",
        "sns.heatmap(train.corr(),annot = True)"
      ],
      "execution_count": null,
      "outputs": []
    },
    {
      "cell_type": "code",
      "metadata": {
        "id": "YdZtPNSt3FI_"
      },
      "source": [
        "sns.barplot(x = 'hour', y = 'count', data = train)"
      ],
      "execution_count": null,
      "outputs": []
    },
    {
      "cell_type": "markdown",
      "metadata": {
        "id": "tCVnlU_vgijX"
      },
      "source": [
        "# ★데이터 전처리"
      ]
    },
    {
      "cell_type": "markdown",
      "metadata": {
        "id": "WYuYysTAgigb"
      },
      "source": [
        "## => 결측치 처리하기"
      ]
    },
    {
      "cell_type": "code",
      "metadata": {
        "id": "zfuJbeOagidb"
      },
      "source": [
        "# 결측치 데이터 제거\n",
        "train.dropna(inplace = True)"
      ],
      "execution_count": null,
      "outputs": []
    },
    {
      "cell_type": "code",
      "metadata": {
        "id": "4b0z9ws3giaS"
      },
      "source": [
        "# 결측치 특정 상수 값으로 대체\n",
        "train.fillna(0,inplace = True)"
      ],
      "execution_count": null,
      "outputs": []
    },
    {
      "cell_type": "code",
      "metadata": {
        "id": "VMm_HmpsgiU0"
      },
      "source": [
        "# 결측치 해당 변수 평균 값으로 대체\n",
        "train.fillna(train.mean(),inplace = True)\n",
        "test.fillna(train.mean(),inplace = True)"
      ],
      "execution_count": null,
      "outputs": []
    },
    {
      "cell_type": "code",
      "metadata": {
        "id": "bc78L4XtgiOB"
      },
      "source": [
        "# 결측치 보간법으로 채우기\n",
        "train.interpolate(inplace=True)\n"
      ],
      "execution_count": null,
      "outputs": []
    },
    {
      "cell_type": "markdown",
      "metadata": {
        "id": "08m_wWdTkBhn"
      },
      "source": [
        "## => 연속형 변수 변환"
      ]
    },
    {
      "cell_type": "code",
      "metadata": {
        "id": "2BIEKpGb8rtC"
      },
      "source": [
        "# 연속형 변수 시각화.\n",
        "for col in train.columns:\n",
        "  plt.figure(figsize = (4,4))\n",
        "  plt.title(col)\n",
        "  sns.histplot(train[col])\n",
        "  plt.show()\n"
      ],
      "execution_count": null,
      "outputs": []
    },
    {
      "cell_type": "code",
      "metadata": {
        "id": "_LOCw3Hp9juw"
      },
      "source": [
        "# 데이터 분포가 불균형한 경우  Min-Max Normalization\n",
        "\n",
        "#train['hour_bef_pm2.5'] = np.log1p(train['hour_bef_pm2.5'])\n",
        "#train['hour_bef_pm10'] = np.log1p(train['hour_bef_pm10'])\n",
        "\n",
        "test['hour_bef_pm2.5'] = np.log1p(test['hour_bef_pm2.5'])\n",
        "test['hour_bef_pm10'] = np.log1p(test['hour_bef_pm10'])\n",
        "\n",
        "sns.histplot(train['hour_bef_pm2.5'])\n"
      ],
      "execution_count": null,
      "outputs": []
    },
    {
      "cell_type": "markdown",
      "metadata": {
        "id": "zOZs4LGY9xOc"
      },
      "source": [
        "## => 모델링"
      ]
    },
    {
      "cell_type": "code",
      "metadata": {
        "id": "V4Oz5nyjFzK2"
      },
      "source": [
        "from sklearn.ensemble import RandomForestRegressor\n",
        "model = RandomForestRegressor()"
      ],
      "execution_count": null,
      "outputs": []
    },
    {
      "cell_type": "code",
      "metadata": {
        "id": "46XZe4UuGQE5"
      },
      "source": [
        "X_train = train.drop(['id', 'count'], axis = 1)\n",
        "y_train = train['count']\n",
        "X_test = test.drop('id', axis = 1)"
      ],
      "execution_count": null,
      "outputs": []
    },
    {
      "cell_type": "code",
      "metadata": {
        "id": "jAgPOFKwGRZW"
      },
      "source": [
        "from sklearn.model_selection import GridSearchCV"
      ],
      "execution_count": null,
      "outputs": []
    },
    {
      "cell_type": "code",
      "metadata": {
        "id": "AgPeIG5uGVj6"
      },
      "source": [
        "RandomForestRegressor()"
      ],
      "execution_count": null,
      "outputs": []
    },
    {
      "cell_type": "code",
      "metadata": {
        "id": "4UpBg_PmGTcs"
      },
      "source": [
        "param = {'min_samples_split': [30, 50, 70],\n",
        "        'max_depth': [5, 6, 7],\n",
        "        'n_estimators': [50, 150, 250]}"
      ],
      "execution_count": null,
      "outputs": []
    },
    {
      "cell_type": "code",
      "metadata": {
        "id": "X7fbUGEyGUwr"
      },
      "source": [
        "gs = GridSearchCV(estimator=model, param_grid=param, scoring = 'neg_mean_squared_error', cv = 3)"
      ],
      "execution_count": null,
      "outputs": []
    },
    {
      "cell_type": "code",
      "metadata": {
        "id": "VgKiQgGrGXzU"
      },
      "source": [
        "gs.fit(X_train, y_train)"
      ],
      "execution_count": null,
      "outputs": []
    },
    {
      "cell_type": "markdown",
      "metadata": {
        "id": "q9VRTwuGGYlx"
      },
      "source": [
        "## => 제출 파일 생성"
      ]
    },
    {
      "cell_type": "code",
      "metadata": {
        "id": "o-R-PgfJGg_o"
      },
      "source": [
        "submission = pd.read_csv('data/submission.csv')"
      ],
      "execution_count": null,
      "outputs": []
    },
    {
      "cell_type": "code",
      "metadata": {
        "id": "wau782v6GltI"
      },
      "source": [
        "pred = gs.predict(X_test)"
      ],
      "execution_count": null,
      "outputs": []
    },
    {
      "cell_type": "code",
      "metadata": {
        "id": "MStiBoj0Groy"
      },
      "source": [
        "submission['count']  = pred"
      ],
      "execution_count": null,
      "outputs": []
    },
    {
      "cell_type": "code",
      "metadata": {
        "id": "3_rgOrLDHEfH"
      },
      "source": [
        "submission.to_csv('gridsearch.csv', index = False)"
      ],
      "execution_count": null,
      "outputs": []
    }
  ]
}